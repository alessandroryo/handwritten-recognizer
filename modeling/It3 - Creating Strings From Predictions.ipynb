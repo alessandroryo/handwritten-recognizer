{
 "cells": [
  {
   "cell_type": "code",
   "execution_count": null,
   "id": "3dabdf1debc0c0e6",
   "metadata": {
    "collapsed": false
   },
   "outputs": [],
   "source": [
    "# Step 1: Import necessary libraries\n",
    "import json\n",
    "import os\n",
    "from collections import defaultdict\n"
   ]
  },
  {
   "cell_type": "code",
   "outputs": [],
   "source": [
    "# Step 2: Load the JSON file with digit predictions\n",
    "# Load the metadata JSON file\n",
    "json_file_path = 'all_digit_objects_with_predictions_organized.json'\n",
    "\n",
    "with open(json_file_path, 'r') as json_file:\n",
    "    loaded_metadata = json.load(json_file)\n",
    "\n",
    "print(\"Loaded metadata successfully.\")\n"
   ],
   "metadata": {
    "collapsed": false
   },
   "id": "1c20b0fa41e4d5db",
   "execution_count": null
  },
  {
   "cell_type": "code",
   "outputs": [],
   "source": [
    "# Step 3: Extract and organize digits into strings for each cell\n",
    "\n",
    "# New dictionary structure: per image -> per column -> per cell -> corresponding string of digits\n",
    "all_strings = defaultdict(lambda: defaultdict(lambda: defaultdict(str)))\n",
    "\n",
    "# Iterate through the images, columns, and cells in the loaded metadata\n",
    "for image_id, columns in loaded_metadata.items():\n",
    "    for col_name, digit_list in columns.items():\n",
    "        # Group digits by cell and sort them based on position\n",
    "        cell_dict = defaultdict(list)\n",
    "\n",
    "        for digit_obj in digit_list:\n",
    "            # Store each digit in the corresponding cell along with its properties\n",
    "            cell_number = digit_obj['cell_number']\n",
    "            x_min = digit_obj['x_min']\n",
    "            y_min = digit_obj['y_min']\n",
    "            prediction = digit_obj['prediction']\n",
    "\n",
    "            cell_dict[cell_number].append({\n",
    "                'x_min': x_min,\n",
    "                'y_min': y_min,\n",
    "                'prediction': prediction\n",
    "            })\n",
    "\n",
    "        # For each cell, sort the digits and construct the final string\n",
    "        for cell_number, digits in cell_dict.items():\n",
    "            # Sort the digits in the order of x_min (left to right)\n",
    "            sorted_digits = sorted(digits, key=lambda d: (d['x_min'], d['y_min']))\n",
    "\n",
    "            # Construct the string from sorted digits\n",
    "            digit_string = ''.join(str(d['prediction']) for d in sorted_digits)\n",
    "\n",
    "            # Save the result in the new dictionary\n",
    "            all_strings[image_id][col_name][cell_number] = digit_string\n",
    "\n",
    "print(\"Strings constructed successfully.\")\n"
   ],
   "metadata": {
    "collapsed": false
   },
   "id": "bd45c33b79aabffa",
   "execution_count": null
  },
  {
   "cell_type": "code",
   "outputs": [],
   "source": [
    "# Step 4: Save the new dictionary with strings to a JSON file\n",
    "output_file_path = 'all_digit_strings.json'\n",
    "\n",
    "with open(output_file_path, 'w') as json_file:\n",
    "    json.dump(all_strings, json_file, indent=4)\n",
    "\n",
    "print(f\"Strings saved successfully to {output_file_path}.\")\n"
   ],
   "metadata": {
    "collapsed": true
   },
   "id": "initial_id",
   "execution_count": null
  },
  {
   "cell_type": "code",
   "outputs": [],
   "source": [
    "# import json\n",
    "# import pandas as pd\n",
    "# \n",
    "# # Step 1: Load the metadata JSON file\n",
    "# input_file_path = 'all_digit_strings.json'\n",
    "# with open(input_file_path, 'r') as json_file:\n",
    "#     loaded_metadata = json.load(json_file)\n",
    "# \n",
    "# # Step 2: Initialize an empty list to store row dictionaries\n",
    "# rows = []\n",
    "# \n",
    "# # Step 3: Populate the list with dictionaries representing each row\n",
    "# for image_id, columns_data in loaded_metadata.items():\n",
    "#     # Create a set to track row numbers across all columns\n",
    "#     row_numbers = set()\n",
    "# \n",
    "#     # Collect all unique row numbers from the cell keys (e.g., A1, C2, D3)\n",
    "#     for col_name, cell_data in columns_data.items():\n",
    "#         row_numbers.update(int(cell[1:]) for cell in cell_data.keys())\n",
    "# \n",
    "#     # Create rows for each row number found\n",
    "#     for row_num in sorted(row_numbers):\n",
    "#         row_data = {'Image': image_id, 'A': None, 'B': None, 'C': None, 'D': None, 'E': None}\n",
    "# \n",
    "#         for col_name, cell_data in columns_data.items():\n",
    "#             cell_key = f\"{col_name}{row_num}\"\n",
    "#             if cell_key in cell_data:\n",
    "#                 row_data[col_name] = cell_data[cell_key]\n",
    "# \n",
    "#         rows.append(row_data)\n",
    "# \n",
    "# # Step 4: Convert the list of rows into a DataFrame\n",
    "# df = pd.DataFrame(rows)\n",
    "# \n",
    "# # Step 5: Save the DataFrame to an Excel file\n",
    "# output_excel_path = 'digit_strings_output_dataframe_final.xlsx'\n",
    "# df.to_excel(output_excel_path, index=False)\n",
    "# \n",
    "# print(f\"Data saved successfully to {output_excel_path}\")\n"
   ],
   "metadata": {
    "collapsed": false
   },
   "id": "73294561254ad23d",
   "execution_count": null
  },
  {
   "cell_type": "code",
   "outputs": [],
   "source": [
    "import json\n",
    "import pandas as pd\n",
    "\n",
    "# Step 1: Load the metadata JSON file\n",
    "input_file_path = 'all_digit_strings.json'\n",
    "with open(input_file_path, 'r') as json_file:\n",
    "    loaded_metadata = json.load(json_file)\n",
    "\n",
    "# Step 2: Initialize an empty list to store row dictionaries\n",
    "rows = []\n",
    "\n",
    "# Step 3: Populate the list with dictionaries representing each row\n",
    "for image_id, columns_data in loaded_metadata.items():\n",
    "    # Add an empty separator row with the image ID\n",
    "    rows.append({'Row Number': '', 'Image': f\"Image ID: {image_id}\", 'A': '', 'B': '', 'C': '', 'D': '', 'E': ''})\n",
    "\n",
    "    # Create a set to track row numbers across all columns\n",
    "    row_numbers = set()\n",
    "\n",
    "    # Collect all unique row numbers from the cell keys (e.g., A1, C2, D3)\n",
    "    for col_name, cell_data in columns_data.items():\n",
    "        row_numbers.update(int(cell[1:]) for cell in cell_data.keys())\n",
    "\n",
    "    # Create rows for each row number found\n",
    "    for row_num in sorted(row_numbers):\n",
    "        row_data = {'Row Number': row_num, 'Image': '', 'A': None, 'B': None, 'C': None, 'D': None, 'E': None}\n",
    "\n",
    "        for col_name, cell_data in columns_data.items():\n",
    "            cell_key = f\"{col_name}{row_num}\"\n",
    "            if cell_key in cell_data:\n",
    "                row_data[col_name] = cell_data[cell_key]\n",
    "\n",
    "        rows.append(row_data)\n",
    "\n",
    "# Step 4: Convert the list of rows into a DataFrame\n",
    "df = pd.DataFrame(rows)\n",
    "\n",
    "# Step 5: Save the DataFrame to an Excel file\n",
    "output_excel_path = 'digit_strings_output_dataframe_final.xlsx'\n",
    "df.to_excel(output_excel_path, index=False)\n",
    "\n",
    "print(f\"Data saved successfully to {output_excel_path}\")\n"
   ],
   "metadata": {
    "collapsed": false
   },
   "id": "7989286474c0814f",
   "execution_count": null
  },
  {
   "cell_type": "code",
   "outputs": [],
   "source": [],
   "metadata": {
    "collapsed": false
   },
   "id": "2ba6c29b0b2ffad7"
  }
 ],
 "metadata": {
  "kernelspec": {
   "display_name": "Python 3",
   "language": "python",
   "name": "python3"
  },
  "language_info": {
   "codemirror_mode": {
    "name": "ipython",
    "version": 2
   },
   "file_extension": ".py",
   "mimetype": "text/x-python",
   "name": "python",
   "nbconvert_exporter": "python",
   "pygments_lexer": "ipython2",
   "version": "2.7.6"
  }
 },
 "nbformat": 4,
 "nbformat_minor": 5
}
