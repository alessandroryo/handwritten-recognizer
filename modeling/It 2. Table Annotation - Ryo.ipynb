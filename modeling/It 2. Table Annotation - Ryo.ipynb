{
 "cells": [
  {
   "cell_type": "code",
   "execution_count": 9,
   "metadata": {},
   "outputs": [],
   "source": [
    "# %pip install -q labelme"
   ]
  },
  {
   "cell_type": "code",
   "execution_count": 10,
   "metadata": {},
   "outputs": [
    {
     "name": "stdout",
     "output_type": "stream",
     "text": [
      "Python version:\n",
      "3.11.1 (tags/v3.11.1:a7a450f, Dec  6 2022, 19:58:39) [MSC v.1934 64 bit (AMD64)]\n",
      "\n",
      "LabelMe version:\n",
      "Name: labelme\n",
      "Version: 5.5.0\n",
      "Summary: Image Polygonal Annotation with Python\n",
      "Home-page: https://github.com/wkentaro/labelme\n",
      "Author: Kentaro Wada\n",
      "Author-email: www.kentaro.wada@gmail.com\n",
      "License: GPLv3\n",
      "Location: d:\\Software\\Python\\Lib\\site-packages\n",
      "Requires: colorama, gdown, imgviz, matplotlib, natsort, numpy, onnxruntime, Pillow, PyYAML, qtpy, scikit-image, termcolor\n",
      "Required-by: \n",
      "\n"
     ]
    }
   ],
   "source": [
    "import subprocess\n",
    "import sys\n",
    "\n",
    "def run_command(command):\n",
    "    try:\n",
    "        result = subprocess.run(command, check=True, capture_output=True, text=True)\n",
    "        return result.stdout\n",
    "    except subprocess.CalledProcessError as e:\n",
    "        return f\"Error: {e.stderr}\"\n",
    "\n",
    "# Cek versi Python\n",
    "print(\"Python version:\")\n",
    "print(sys.version)\n",
    "\n",
    "# Cek versi LabelMe\n",
    "print(\"\\nLabelMe version:\")\n",
    "print(run_command([sys.executable, \"-m\", \"pip\", \"show\", \"labelme\"]))"
   ]
  },
  {
   "cell_type": "code",
   "execution_count": null,
   "metadata": {},
   "outputs": [],
   "source": [
    "!labelme"
   ]
  }
 ],
 "metadata": {
  "kernelspec": {
   "display_name": "alessandroryo",
   "language": "python",
   "name": "alessandroryo"
  },
  "language_info": {
   "codemirror_mode": {
    "name": "ipython",
    "version": 3
   },
   "file_extension": ".py",
   "mimetype": "text/x-python",
   "name": "python",
   "nbconvert_exporter": "python",
   "pygments_lexer": "ipython3",
   "version": "3.11.1"
  }
 },
 "nbformat": 4,
 "nbformat_minor": 2
}
