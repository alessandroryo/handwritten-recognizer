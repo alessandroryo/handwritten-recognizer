{
 "cells": [
  {
   "cell_type": "code",
   "execution_count": 6,
   "metadata": {},
   "outputs": [
    {
     "name": "stdout",
     "output_type": "stream",
     "text": [
      "Note: you may need to restart the kernel to use updated packages.\n"
     ]
    },
    {
     "name": "stderr",
     "output_type": "stream",
     "text": [
      "WARNING: Ignoring invalid distribution ~umpy (d:\\Software\\Python\\Lib\\site-packages)\n",
      "DEPRECATION: Loading egg at d:\\software\\python\\lib\\site-packages\\vboxapi-1.0-py3.11.egg is deprecated. pip 24.3 will enforce this behaviour change. A possible replacement is to use pip for package installation. Discussion can be found at https://github.com/pypa/pip/issues/12330\n",
      "WARNING: Ignoring invalid distribution ~umpy (d:\\Software\\Python\\Lib\\site-packages)\n",
      "WARNING: Ignoring invalid distribution ~umpy (d:\\Software\\Python\\Lib\\site-packages)\n"
     ]
    }
   ],
   "source": [
    "%pip install -q labelme"
   ]
  },
  {
   "cell_type": "code",
   "execution_count": 7,
   "metadata": {},
   "outputs": [
    {
     "name": "stdout",
     "output_type": "stream",
     "text": [
      "Python version:\n",
      "3.11.1 (tags/v3.11.1:a7a450f, Dec  6 2022, 19:58:39) [MSC v.1934 64 bit (AMD64)]\n",
      "\n",
      "LabelMe version:\n",
      "Name: labelme\n",
      "Version: 5.5.0\n",
      "Summary: Image Polygonal Annotation with Python\n",
      "Home-page: https://github.com/wkentaro/labelme\n",
      "Author: Kentaro Wada\n",
      "Author-email: www.kentaro.wada@gmail.com\n",
      "License: GPLv3\n",
      "Location: d:\\Software\\Python\\Lib\\site-packages\n",
      "Requires: colorama, gdown, imgviz, matplotlib, natsort, numpy, onnxruntime, Pillow, PyYAML, qtpy, scikit-image, termcolor\n",
      "Required-by: \n",
      "\n"
     ]
    }
   ],
   "source": [
    "import subprocess\n",
    "import sys\n",
    "\n",
    "def run_command(command):\n",
    "    try:\n",
    "        result = subprocess.run(command, check=True, capture_output=True, text=True)\n",
    "        return result.stdout\n",
    "    except subprocess.CalledProcessError as e:\n",
    "        return f\"Error: {e.stderr}\"\n",
    "\n",
    "# Cek versi Python\n",
    "print(\"Python version:\")\n",
    "print(sys.version)\n",
    "\n",
    "# Cek versi LabelMe\n",
    "print(\"\\nLabelMe version:\")\n",
    "print(run_command([sys.executable, \"-m\", \"pip\", \"show\", \"labelme\"]))"
   ]
  },
  {
   "cell_type": "code",
   "execution_count": 8,
   "metadata": {},
   "outputs": [
    {
     "name": "stdout",
     "output_type": "stream",
     "text": [
      "^C\n"
     ]
    },
    {
     "name": "stderr",
     "output_type": "stream",
     "text": [
      "2024-10-10 12:07:30,454 [INFO   ] __init__:get_config:67- Loading config file from: C:\\Users\\Alessandro Ryo\\.labelmerc\n",
      "2024-10-10 12:18:14,053 [DEBUG  ] canvas:initializeAiModel:139- Initializing AI model: 'EfficientSam (accuracy)'\n",
      "D:\\Software\\Python\\Lib\\site-packages\\gdown\\cached_download.py:102: FutureWarning: md5 is deprecated in favor of hash. Please use hash='md5:xxx...' instead.\n",
      "  warnings.warn(\n",
      "Cached downloading...\n",
      "Hash: md5:7d97d23e8e0847d4475ca7c9f80da96d\n",
      "From: https://github.com/labelmeai/efficient-sam/releases/download/onnx-models-20231225/efficient_sam_vits_encoder.onnx\n",
      "To: C:\\Users\\Alessandro Ryo\\.cache/gdown\\https-COLON--SLASH--SLASH-github.com-SLASH-labelmeai-SLASH-efficient-sam-SLASH-releases-SLASH-download-SLASH-onnx-models-20231225-SLASH-efficient_sam_vits_encoder.onnx\n",
      "\n",
      "  0%|          | 0.00/89.6M [00:00<?, ?B/s]\n",
      "  2%|▏         | 1.57M/89.6M [00:00<00:07, 12.6MB/s]\n",
      "  4%|▎         | 3.15M/89.6M [00:00<00:06, 12.8MB/s]\n",
      "  5%|▌         | 4.72M/89.6M [00:00<00:09, 8.84MB/s]\n",
      "  6%|▋         | 5.77M/89.6M [00:00<00:09, 9.10MB/s]\n",
      "  8%|▊         | 7.34M/89.6M [00:00<00:08, 9.97MB/s]\n",
      " 10%|▉         | 8.91M/89.6M [00:00<00:07, 10.3MB/s]\n",
      " 12%|█▏        | 10.5M/89.6M [00:01<00:07, 10.7MB/s]\n",
      " 13%|█▎        | 12.1M/89.6M [00:01<00:07, 10.7MB/s]\n",
      " 15%|█▌        | 13.6M/89.6M [00:01<00:06, 10.9MB/s]\n",
      " 17%|█▋        | 15.2M/89.6M [00:01<00:06, 10.9MB/s]\n",
      " 19%|█▊        | 16.8M/89.6M [00:01<00:06, 11.5MB/s]\n",
      " 20%|██        | 18.4M/89.6M [00:01<00:05, 12.4MB/s]\n",
      " 22%|██▏       | 19.9M/89.6M [00:01<00:05, 12.5MB/s]\n",
      " 24%|██▍       | 21.5M/89.6M [00:01<00:05, 12.8MB/s]\n",
      " 26%|██▌       | 23.1M/89.6M [00:02<00:05, 12.8MB/s]\n",
      " 28%|██▊       | 24.6M/89.6M [00:02<00:05, 12.7MB/s]\n",
      " 29%|██▉       | 26.2M/89.6M [00:02<00:04, 13.1MB/s]\n",
      " 31%|███       | 27.8M/89.6M [00:02<00:04, 13.3MB/s]\n",
      " 33%|███▎      | 29.4M/89.6M [00:02<00:04, 13.1MB/s]\n",
      " 35%|███▍      | 30.9M/89.6M [00:02<00:04, 13.6MB/s]\n",
      " 36%|███▋      | 32.5M/89.6M [00:02<00:04, 13.1MB/s]\n",
      " 38%|███▊      | 34.1M/89.6M [00:02<00:04, 13.2MB/s]\n",
      " 40%|███▉      | 35.7M/89.6M [00:02<00:04, 13.4MB/s]\n",
      " 42%|████▏     | 37.2M/89.6M [00:03<00:03, 13.9MB/s]\n",
      " 43%|████▎     | 38.8M/89.6M [00:03<00:03, 13.9MB/s]\n",
      " 45%|████▌     | 40.4M/89.6M [00:03<00:03, 13.8MB/s]\n",
      " 47%|████▋     | 41.9M/89.6M [00:03<00:03, 14.3MB/s]\n",
      " 49%|████▊     | 43.5M/89.6M [00:03<00:03, 13.3MB/s]\n",
      " 50%|█████     | 45.1M/89.6M [00:03<00:03, 13.1MB/s]\n",
      " 52%|█████▏    | 46.7M/89.6M [00:03<00:03, 13.0MB/s]\n",
      " 54%|█████▍    | 48.2M/89.6M [00:03<00:03, 12.8MB/s]\n",
      " 56%|█████▌    | 49.8M/89.6M [00:04<00:03, 13.1MB/s]\n",
      " 57%|█████▋    | 51.4M/89.6M [00:04<00:02, 12.7MB/s]\n",
      " 59%|█████▉    | 53.0M/89.6M [00:04<00:02, 12.8MB/s]\n",
      " 61%|██████    | 54.5M/89.6M [00:04<00:02, 13.0MB/s]\n",
      " 63%|██████▎   | 56.1M/89.6M [00:04<00:02, 12.9MB/s]\n",
      " 64%|██████▍   | 57.7M/89.6M [00:04<00:02, 12.5MB/s]\n",
      " 66%|██████▌   | 59.2M/89.6M [00:04<00:02, 12.0MB/s]\n",
      " 68%|██████▊   | 60.8M/89.6M [00:04<00:02, 12.5MB/s]\n",
      " 70%|██████▉   | 62.4M/89.6M [00:05<00:02, 12.5MB/s]\n",
      " 71%|███████▏  | 64.0M/89.6M [00:05<00:02, 8.81MB/s]\n",
      " 73%|███████▎  | 65.5M/89.6M [00:05<00:02, 9.95MB/s]\n",
      " 75%|███████▍  | 67.1M/89.6M [00:05<00:02, 10.9MB/s]\n",
      " 77%|███████▋  | 68.7M/89.6M [00:05<00:01, 11.4MB/s]\n",
      " 78%|███████▊  | 70.3M/89.6M [00:05<00:01, 11.6MB/s]\n",
      " 80%|████████  | 71.8M/89.6M [00:05<00:01, 12.3MB/s]\n",
      " 82%|████████▏ | 73.4M/89.6M [00:06<00:01, 12.4MB/s]\n",
      " 84%|████████▎ | 75.0M/89.6M [00:06<00:01, 12.0MB/s]\n",
      " 85%|████████▌ | 76.5M/89.6M [00:06<00:01, 12.7MB/s]\n",
      " 87%|████████▋ | 78.1M/89.6M [00:06<00:00, 12.4MB/s]\n",
      " 89%|████████▉ | 79.7M/89.6M [00:06<00:00, 12.7MB/s]\n",
      " 91%|█████████ | 81.3M/89.6M [00:06<00:00, 12.7MB/s]\n",
      " 92%|█████████▏| 82.8M/89.6M [00:06<00:00, 11.8MB/s]\n",
      " 94%|█████████▍| 84.4M/89.6M [00:06<00:00, 12.3MB/s]\n",
      " 96%|█████████▌| 86.0M/89.6M [00:07<00:00, 12.0MB/s]\n",
      " 98%|█████████▊| 87.6M/89.6M [00:07<00:00, 12.6MB/s]\n",
      "100%|█████████▉| 89.1M/89.6M [00:07<00:00, 12.4MB/s]\n",
      "100%|██████████| 89.6M/89.6M [00:07<00:00, 12.2MB/s]\n",
      "Cached downloading...\n",
      "Hash: md5:d9372f4a7bbb1a01d236b0508300b994\n",
      "From: https://github.com/labelmeai/efficient-sam/releases/download/onnx-models-20231225/efficient_sam_vits_decoder.onnx\n",
      "To: C:\\Users\\Alessandro Ryo\\.cache/gdown\\https-COLON--SLASH--SLASH-github.com-SLASH-labelmeai-SLASH-efficient-sam-SLASH-releases-SLASH-download-SLASH-onnx-models-20231225-SLASH-efficient_sam_vits_decoder.onnx\n",
      "\n",
      "  0%|          | 0.00/16.6M [00:00<?, ?B/s]\n",
      "  6%|▋         | 1.05M/16.6M [00:00<00:01, 7.78MB/s]\n",
      " 16%|█▌        | 2.62M/16.6M [00:00<00:01, 9.60MB/s]\n",
      " 25%|██▌       | 4.19M/16.6M [00:00<00:01, 11.7MB/s]\n",
      " 35%|███▍      | 5.77M/16.6M [00:00<00:00, 12.6MB/s]\n",
      " 44%|████▍     | 7.34M/16.6M [00:00<00:00, 13.0MB/s]\n",
      " 54%|█████▍    | 8.91M/16.6M [00:00<00:00, 13.6MB/s]\n",
      " 63%|██████▎   | 10.5M/16.6M [00:00<00:00, 13.5MB/s]\n",
      " 73%|███████▎  | 12.1M/16.6M [00:00<00:00, 13.0MB/s]\n",
      " 82%|████████▏ | 13.6M/16.6M [00:01<00:00, 13.2MB/s]\n",
      " 92%|█████████▏| 15.2M/16.6M [00:01<00:00, 13.8MB/s]\n",
      "100%|██████████| 16.6M/16.6M [00:01<00:00, 12.9MB/s]\n",
      "2024-10-10 12:18:25,126 [DEBUG  ] efficient_sam:_compute_and_cache_image_embedding:38- Computing image embedding...\n",
      "2024-10-10 12:18:32,162 [DEBUG  ] efficient_sam:_compute_and_cache_image_embedding:48- Done computing image embedding.\n",
      "2024-10-10 12:55:04,691 [DEBUG  ] efficient_sam:_compute_and_cache_image_embedding:38- Computing image embedding...\n",
      "2024-10-10 12:55:11,720 [DEBUG  ] efficient_sam:_compute_and_cache_image_embedding:48- Done computing image embedding.\n",
      "2024-10-10 12:55:11,829 [DEBUG  ] efficient_sam:_compute_and_cache_image_embedding:38- Computing image embedding...\n",
      "2024-10-10 12:55:21,575 [DEBUG  ] efficient_sam:_compute_and_cache_image_embedding:48- Done computing image embedding.\n",
      "2024-10-10 13:08:59,630 [DEBUG  ] efficient_sam:_compute_and_cache_image_embedding:38- Computing image embedding...\n",
      "2024-10-10 13:09:05,924 [DEBUG  ] efficient_sam:_compute_and_cache_image_embedding:48- Done computing image embedding.\n",
      "2024-10-10 13:10:00,245 [DEBUG  ] canvas:initializeAiModel:137- AI model is already initialized: 'EfficientSam (accuracy)'\n",
      "2024-10-10 13:22:46,831 [DEBUG  ] efficient_sam:_compute_and_cache_image_embedding:38- Computing image embedding...\n",
      "2024-10-10 13:22:55,929 [DEBUG  ] efficient_sam:_compute_and_cache_image_embedding:48- Done computing image embedding.\n",
      "2024-10-10 13:22:56,067 [DEBUG  ] efficient_sam:_compute_and_cache_image_embedding:38- Computing image embedding...\n",
      "2024-10-10 13:23:05,888 [DEBUG  ] efficient_sam:_compute_and_cache_image_embedding:48- Done computing image embedding.\n"
     ]
    }
   ],
   "source": [
    "!labelme"
   ]
  }
 ],
 "metadata": {
  "kernelspec": {
   "display_name": "alessandroryo",
   "language": "python",
   "name": "alessandroryo"
  },
  "language_info": {
   "codemirror_mode": {
    "name": "ipython",
    "version": 3
   },
   "file_extension": ".py",
   "mimetype": "text/x-python",
   "name": "python",
   "nbconvert_exporter": "python",
   "pygments_lexer": "ipython3",
   "version": "3.11.1"
  }
 },
 "nbformat": 4,
 "nbformat_minor": 2
}
