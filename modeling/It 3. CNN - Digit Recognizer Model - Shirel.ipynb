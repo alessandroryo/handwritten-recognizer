{
 "cells": [
  {
   "cell_type": "code",
   "execution_count": null,
   "id": "e24074bcd98745b6",
   "metadata": {
    "collapsed": false
   },
   "outputs": [],
   "source": [
    "# import os\n",
    "import json\n",
    "import cv2\n",
    "import numpy as np\n",
    "import matplotlib.pyplot as plt\n",
    "import tensorflow as tf\n"
   ]
  },
  {
   "cell_type": "code",
   "execution_count": null,
   "id": "ceb272c045fb2415",
   "metadata": {
    "collapsed": false
   },
   "outputs": [],
   "source": [
    "print(tf.__version__)"
   ]
  },
  {
   "cell_type": "markdown",
   "id": "c3006bf10f7c5ab1",
   "metadata": {
    "collapsed": false
   },
   "source": [
    "## Loading the digits and the objects from the data prep"
   ]
  },
  {
   "cell_type": "code",
   "execution_count": null,
   "id": "d3a73466d1e67b2",
   "metadata": {
    "collapsed": false
   },
   "outputs": [],
   "source": [
    "class DigitObject:\n",
    "    def __init__(self, digit_image, cell_number, width, length, x_min, x_max, y_min, y_max, prediction=None):\n",
    "        self.digit_image = digit_image\n",
    "        self.cell_number = cell_number\n",
    "        self.width = width\n",
    "        self.length = length\n",
    "        self.x_min = x_min\n",
    "        self.x_max = x_max\n",
    "        self.y_min = y_min\n",
    "        self.y_max = y_max\n",
    "        self.prediction = prediction\n",
    "\n",
    "    def to_dict(self):\n",
    "        return {\n",
    "            'digit_image': self.digit_image,\n",
    "            'cell_number': self.cell_number,\n",
    "            'width': self.width,\n",
    "            'length': self.length,\n",
    "            'x_min': self.x_min,\n",
    "            'x_max': self.x_max,\n",
    "            'y_min': self.y_min,\n",
    "            'y_max': self.y_max,\n",
    "            'prediction': self.prediction\n",
    "        }\n"
   ]
  },
  {
   "cell_type": "code",
   "execution_count": null,
   "id": "initial_id",
   "metadata": {
    "collapsed": true
   },
   "outputs": [],
   "source": [
    "# Load the metadata JSON file\n",
    "with open('../data-preparation/Data/It3/all_digit_objects_metadata.json', 'r') as json_file:\n",
    "    loaded_metadata = json.load(json_file)\n",
    "\n",
    "# Reconstruct the all_digit_objects dictionary with DigitObject instances\n",
    "# all_digit_objects_loaded = {}\n",
    "\n",
    "# for image_id, columns in loaded_metadata.items():\n",
    "#     all_digit_objects_loaded[image_id] = {}\n",
    "\n",
    "#     for col_name, digit_list in columns.items():\n",
    "#         all_digit_objects_loaded[image_id][col_name] = []\n",
    "\n",
    "#         for metadata in digit_list:\n",
    "#             # Load the image from the saved path\n",
    "#             digit_image = cv2.imread(metadata['image_path'], cv2.IMREAD_GRAYSCALE)\n",
    "\n",
    "#             # Recreate the DigitObject\n",
    "#             digit_obj = DigitObject(\n",
    "#                 cell_number=metadata['cell_number'],\n",
    "#                 width=metadata['width'],\n",
    "#                 length=metadata['length'],\n",
    "#                 x_min=metadata['x_min'],\n",
    "#                 x_max=metadata['x_max'],\n",
    "#                 y_min=metadata['y_min'],\n",
    "#                 y_max=metadata['y_max'],\n",
    "#                 prediction=metadata['prediction'],\n",
    "#                 digit_image=digit_image\n",
    "#             )\n",
    "\n",
    "#             all_digit_objects_loaded[image_id][col_name].append(digit_obj)\n",
    "\n",
    "# print(\"Dictionary and images loaded successfully.\")\n"
   ]
  },
  {
   "cell_type": "markdown",
   "id": "447434f3a9f0e234",
   "metadata": {
    "collapsed": false
   },
   "source": [
    "### checking that the dictionary was loaded propearly"
   ]
  },
  {
   "cell_type": "code",
   "execution_count": null,
   "id": "afce1e57dd3a937d",
   "metadata": {
    "collapsed": false
   },
   "outputs": [],
   "source": [
    "# for image_id, columns in  all_digit_objects_loaded.items():\n",
    "#     print(f\"Image ID: {image_id}\")\n",
    "#     for column_name, digit_list in columns.items():\n",
    "#         print(f\"  Column: {column_name}\")\n",
    "#         for digit_obj in digit_list:\n",
    "#             # Print each attribute of the DigitObject instance\n",
    "#             print(f\"    Cell Number: {digit_obj.cell_number}\")\n",
    "#             print(f\"    Width: {digit_obj.width}\")\n",
    "#             print(f\"    Length: {digit_obj.length}\")\n",
    "#             print(f\"    X Min: {digit_obj.x_min}\")\n",
    "#             print(f\"    X Max: {digit_obj.x_max}\")\n",
    "#             print(f\"    Y Min: {digit_obj.y_min}\")\n",
    "#             print(f\"    Y Max: {digit_obj.y_max}\")\n",
    "#             print(f\"    Prediction: {digit_obj.prediction}\")\n",
    "# \n",
    "#             # If you want to display the digit image\n",
    "#             plt.figure(figsize=(2, 2))\n",
    "#             plt.imshow(digit_obj.digit_image, cmap='gray')  # Assuming you saved the cropped image in `digit_obj.image`\n",
    "#             plt.title(f\"Digit in {digit_obj.cell_number}\")\n",
    "#             plt.show()\n"
   ]
  },
  {
   "cell_type": "markdown",
   "id": "e59e2a1047c03b45",
   "metadata": {
    "collapsed": false
   },
   "source": [
    "## Running CNN Model to train it "
   ]
  },
  {
   "cell_type": "code",
   "execution_count": null,
   "id": "b416227900479649",
   "metadata": {
    "collapsed": false
   },
   "outputs": [],
   "source": [
    "import pandas as pd\n",
    "from tensorflow import keras\n",
    "from sklearn.model_selection import train_test_split\n",
    "import matplotlib.pyplot as plt\n",
    "import matplotlib.image as mpimg\n",
    "import numpy as np"
   ]
  },
  {
   "cell_type": "code",
   "execution_count": null,
   "id": "97929bf695a2a8cd",
   "metadata": {
    "collapsed": false
   },
   "outputs": [],
   "source": [
    "train = pd.read_csv(\"train.csv\")\n",
    "test = pd.read_csv(\"test.csv\")"
   ]
  },
  {
   "cell_type": "code",
   "execution_count": null,
   "id": "788d6dbf9135eb0d",
   "metadata": {
    "collapsed": false
   },
   "outputs": [],
   "source": [
    "Y_train = train[\"label\"]\n",
    "X_train = train.drop(labels = [\"label\"], axis = 1)"
   ]
  },
  {
   "cell_type": "code",
   "execution_count": null,
   "id": "65b1a791e5a3213e",
   "metadata": {
    "collapsed": false
   },
   "outputs": [],
   "source": [
    "X_train = X_train / 255.0\n",
    "test = test / 255.0"
   ]
  },
  {
   "cell_type": "code",
   "execution_count": null,
   "id": "46d4ccb5ca4cd9b4",
   "metadata": {
    "collapsed": false
   },
   "outputs": [],
   "source": [
    "X_train.values.shape"
   ]
  },
  {
   "cell_type": "code",
   "execution_count": null,
   "id": "931e2b97f9b0ba88",
   "metadata": {
    "collapsed": false
   },
   "outputs": [],
   "source": [
    "Y_train = keras.utils.to_categorical(Y_train, num_classes=10)"
   ]
  },
  {
   "cell_type": "code",
   "execution_count": null,
   "id": "33b366d7674c88ca",
   "metadata": {
    "collapsed": false
   },
   "outputs": [],
   "source": [
    "X_train, X_val, Y_train, Y_val = train_test_split(X_train, Y_train, test_size = 0.3, random_state=42)"
   ]
  },
  {
   "cell_type": "code",
   "execution_count": null,
   "id": "6dd5a62c9fd2c4e7",
   "metadata": {
    "collapsed": false
   },
   "outputs": [],
   "source": [
    "# import scipy\n",
    "# from scipy import ndimage\n",
    "# from tensorflow.keras.preprocessing.image import ImageDataGenerator\n",
    "# \n",
    "# datagen = ImageDataGenerator(\n",
    "#     rotation_range=10,\n",
    "#     zoom_range=0.1,\n",
    "#     width_shift_range=0.1,\n",
    "#     height_shift_range=0.1,\n",
    "#     horizontal_flip=False,\n",
    "#     vertical_flip=False)"
   ]
  },
  {
   "cell_type": "code",
   "execution_count": null,
   "id": "d5f69494b05f9798",
   "metadata": {
    "collapsed": false
   },
   "outputs": [],
   "source": [
    "# Assignment 2 - Reshape the data\n",
    "X_train = X_train.values.reshape(-1, 28, 28, 1)\n",
    "X_val = X_val.values.reshape(-1, 28, 28, 1)\n",
    "\n",
    "print(X_train.shape) # Result: (33600, 28, 28, 1)\n",
    "print(X_val.shape) # Result: (8400, 28, 28, 1)"
   ]
  },
  {
   "cell_type": "code",
   "execution_count": null,
   "id": "d9a6316fe5596afe",
   "metadata": {
    "collapsed": false
   },
   "outputs": [],
   "source": [
    "# Assignment 2 - Create a neural network with dropout layers\n",
    "model = keras.models.Sequential()\n",
    "\n",
    "model.add(keras.layers.Flatten(input_shape=(28, 28, 1)))\n",
    "model.add(keras.layers.Dense(128, activation='relu'))\n",
    "model.add(keras.layers.Dense(64, activation='relu'))\n",
    "model.add(keras.layers.Dropout(0.5))\n",
    "model.add(keras.layers.Dense(64, activation='relu'))\n",
    "model.add(keras.layers.Dropout(0.3))\n",
    "model.add(keras.layers.Dense(32, activation='relu'))\n",
    "model.add(keras.layers.Dropout(0.2))\n",
    "model.add(keras.layers.Dense(16, activation='relu'))\n",
    "model.add(keras.layers.Dense(10, activation='softmax'))"
   ]
  },
  {
   "cell_type": "code",
   "execution_count": null,
   "id": "af410e12492b1ae2",
   "metadata": {
    "collapsed": false
   },
   "outputs": [],
   "source": [
    "model.compile(optimizer=keras.optimizers.RMSprop(learning_rate=0.001, rho=0.9),loss=\"categorical_crossentropy\",metrics=[\"accuracy\"])"
   ]
  },
  {
   "cell_type": "code",
   "execution_count": null,
   "id": "cacab1194b36adec",
   "metadata": {
    "collapsed": false
   },
   "outputs": [],
   "source": [
    "model.summary()"
   ]
  },
  {
   "cell_type": "code",
   "execution_count": null,
   "id": "436256c68125cfe6",
   "metadata": {
    "collapsed": false
   },
   "outputs": [],
   "source": [
    "# # Assignment 1 - Train the model\n",
    "model.fit(\n",
    "X_train,\n",
    "Y_train,\n",
    "batch_size=32,\n",
    "epochs=15,\n",
    "validation_data=(X_val, Y_val)\n",
    ")"
   ]
  },
  {
   "cell_type": "code",
   "execution_count": null,
   "id": "5ba30eb38079babc",
   "metadata": {
    "collapsed": false
   },
   "outputs": [],
   "source": [
    "# # Assignment 2 - Train the model with ImageDataGenerator\n",
    "# import scipy\n",
    "# import scipy.ndimage\n",
    "\n",
    "# model.fit(\n",
    "#     datagen.flow(X_train, Y_train, batch_size=24),\n",
    "#     epochs=15,\n",
    "#     validation_data=(X_val, Y_val)\n",
    "# )"
   ]
  },
  {
   "cell_type": "code",
   "execution_count": null,
   "id": "963da7703c0aecb2",
   "metadata": {
    "collapsed": false
   },
   "outputs": [],
   "source": [
    "# Assignment 2\n",
    "predictions = model.predict(test.values.reshape(-1, 28, 28, 1))\n",
    "\n",
    "print(predictions[:5])\n",
    "\n",
    "results = np.argmax(predictions, axis = 1)\n",
    "\n",
    "print(results[:5])"
   ]
  },
  {
   "cell_type": "markdown",
   "id": "65ed7a0f82335861",
   "metadata": {
    "collapsed": false
   },
   "source": [
    "## Running the model to predict the images digits"
   ]
  },
  {
   "cell_type": "markdown",
   "id": "a63666d5",
   "metadata": {},
   "source": [
    "takes 15 minutes to run for the 60 images digits (over 9000 digits))"
   ]
  },
  {
   "cell_type": "code",
   "execution_count": null,
   "id": "e1f59f65ecb80753",
   "metadata": {
    "collapsed": false
   },
   "outputs": [],
   "source": [
    "import os\n",
    "import json\n",
    "import cv2\n",
    "import numpy as np\n",
    "from tensorflow.keras.models import load_model\n",
    "\n",
    "# Load the metadata JSON file\n",
    "with open('../data-preparation/Data/It3/all_digit_objects_metadata.json', 'r') as json_file:\n",
    "    loaded_metadata = json.load(json_file)\n",
    "\n",
    "# Function to preprocess the image and predict the digit\n",
    "def predict_digit(image_path):\n",
    "    # Normalize the path and replace backslashes with forward slashes\n",
    "    normalized_image_path = os.path.normpath(f\"../data-preparation/{image_path}\").replace(\"\\\\\", \"/\")\n",
    "\n",
    "    # Check if the file exists before attempting to load it\n",
    "    if not os.path.exists(normalized_image_path):\n",
    "        print(f\"Warning: Image path {normalized_image_path} does not exist.\")\n",
    "        return None\n",
    "\n",
    "    # Load the image in grayscale\n",
    "    digit_image = cv2.imread(normalized_image_path, cv2.IMREAD_GRAYSCALE)\n",
    "    \n",
    "    if digit_image is None:\n",
    "        print(f\"Warning: Image at {normalized_image_path} could not be loaded.\")\n",
    "        return None\n",
    "\n",
    "    # Preprocess the image\n",
    "    digit_image = digit_image / 255.0  # Normalize pixel values\n",
    "    digit_image = cv2.resize(digit_image, (28, 28))  # Ensure image size is 28x28\n",
    "    digit_image = np.expand_dims(digit_image, axis=-1)  # Add channel dimension (28, 28, 1)\n",
    "    digit_image = np.expand_dims(digit_image, axis=0)   # Add batch dimension (1, 28, 28, 1)\n",
    "\n",
    "    # Predict the digit\n",
    "    prediction = model.predict(digit_image)\n",
    "    predicted_digit = int(np.argmax(prediction))  # Convert int64 to int\n",
    "\n",
    "    return predicted_digit\n",
    "\n",
    "# Update the digit objects with predictions\n",
    "for image_id, columns in loaded_metadata.items():\n",
    "    for col_name, digit_list in columns.items():\n",
    "        for digit_obj in digit_list:\n",
    "            # Update the image path with the correct folder path\n",
    "            image_path = digit_obj['image_path']\n",
    "            \n",
    "            # Predict the digit using the model\n",
    "            predicted_digit = predict_digit(image_path)\n",
    "\n",
    "            # Update the prediction field in the metadata\n",
    "            if predicted_digit is not None:\n",
    "                digit_obj['prediction'] = predicted_digit\n",
    "\n",
    "# Save the updated metadata to a JSON file\n",
    "with open('all_digit_objects_with_predictions.json', 'w') as json_file:\n",
    "    json.dump(loaded_metadata, json_file)\n",
    "\n",
    "print(\"Predictions added and saved successfully.\")\n"
   ]
  },
  {
   "cell_type": "markdown",
   "id": "f1c5241d",
   "metadata": {},
   "source": [
    "## Organizing the JSON File to be readable"
   ]
  },
  {
   "cell_type": "code",
   "execution_count": null,
   "id": "cc4d478e",
   "metadata": {},
   "outputs": [],
   "source": [
    "import json\n",
    "\n",
    "# Load the JSON file\n",
    "with open('all_digit_objects_with_predictions.json', 'r') as json_file:\n",
    "    loaded_metadata = json.load(json_file)\n",
    "\n",
    "# Save the JSON file with organized formatting\n",
    "with open('all_digit_objects_with_predictions_organized.json', 'w') as json_file:\n",
    "    json.dump(loaded_metadata, json_file, indent=4, sort_keys=True)\n",
    "\n",
    "print(\"The JSON file has been organized and saved successfully.\")\n"
   ]
  },
  {
   "cell_type": "markdown",
   "id": "07605db7",
   "metadata": {},
   "source": [
    "## Printing the predictions against the saved digits for wasy comparison"
   ]
  },
  {
   "cell_type": "code",
   "execution_count": null,
   "id": "767d4e3f",
   "metadata": {},
   "outputs": [],
   "source": [
    "import os\n",
    "import cv2\n",
    "\n",
    "with open('all_digit_objects_with_predictions_organized.json', 'r') as json_file:\n",
    "    loaded_metadata = json.load(json_file)\n",
    "\n",
    "# Reconstruct the all_digit_objects dictionary with DigitObject instances\n",
    "all_digit_objects_loaded = {}\n",
    "\n",
    "for image_id, columns in loaded_metadata.items():\n",
    "    all_digit_objects_loaded[image_id] = {}\n",
    "\n",
    "    for col_name, digit_list in columns.items():\n",
    "        all_digit_objects_loaded[image_id][col_name] = []\n",
    "\n",
    "        for metadata in digit_list:\n",
    "            # Update the image path with the correct folder path\n",
    "            image_path = metadata['image_path']\n",
    "            normalized_image_path = os.path.normpath(f\"../data-preparation/{image_path}\").replace(\"\\\\\", \"/\")\n",
    "\n",
    "            # Load the image from the normalized path\n",
    "            digit_image = cv2.imread(normalized_image_path, cv2.IMREAD_GRAYSCALE)\n",
    "\n",
    "            if digit_image is None:\n",
    "                print(f\"Warning: Image at {normalized_image_path} could not be loaded.\")\n",
    "                continue\n",
    "\n",
    "            # Recreate the DigitObject\n",
    "            digit_obj = DigitObject(\n",
    "                cell_number=metadata['cell_number'],\n",
    "                width=metadata['width'],\n",
    "                length=metadata['length'],\n",
    "                x_min=metadata['x_min'],\n",
    "                x_max=metadata['x_max'],\n",
    "                y_min=metadata['y_min'],\n",
    "                y_max=metadata['y_max'],\n",
    "                prediction=metadata['prediction'],\n",
    "                digit_image=digit_image\n",
    "            )\n",
    "\n",
    "            all_digit_objects_loaded[image_id][col_name].append(digit_obj)\n",
    "\n",
    "print(\"Dictionary and images loaded successfully.\")\n"
   ]
  },
  {
   "cell_type": "code",
   "execution_count": null,
   "id": "a42f51e3",
   "metadata": {},
   "outputs": [],
   "source": [
    "import random\n",
    "import matplotlib.pyplot as plt\n",
    "\n",
    "# Flatten the list of digit objects to sample from all of them\n",
    "all_digits = []\n",
    "\n",
    "for image_id, columns in all_digit_objects_loaded.items():\n",
    "    for column_name, digit_list in columns.items():\n",
    "        for digit_obj in digit_list:\n",
    "            all_digits.append((image_id, column_name, digit_obj))\n",
    "\n",
    "# Select 30 random digit objects to display\n",
    "random_digits = random.sample(all_digits, 30)\n",
    "\n",
    "# Display the selected random digit objects\n",
    "for image_id, column_name, digit_obj in random_digits:\n",
    "    print(f\"Image ID: {image_id}\")\n",
    "    print(f\"  Column: {column_name}\")\n",
    "    print(f\"    Cell Number: {digit_obj.cell_number}\")\n",
    "    print(f\"    Width: {digit_obj.width}\")\n",
    "    print(f\"    Length: {digit_obj.length}\")\n",
    "    print(f\"    X Min: {digit_obj.x_min}\")\n",
    "    print(f\"    X Max: {digit_obj.x_max}\")\n",
    "    print(f\"    Y Min: {digit_obj.y_min}\")\n",
    "    print(f\"    Y Max: {digit_obj.y_max}\")\n",
    "    print(f\"    Prediction: {digit_obj.prediction}\")\n",
    "\n",
    "    # Display the digit image\n",
    "    plt.figure(figsize=(2, 2))\n",
    "    plt.imshow(digit_obj.digit_image, cmap='gray')\n",
    "    plt.title(f\"Digit in {digit_obj.cell_number}\")\n",
    "    plt.show()\n"
   ]
  },
  {
   "cell_type": "code",
   "execution_count": null,
   "id": "5cc2b632",
   "metadata": {},
   "outputs": [],
   "source": []
  }
 ],
 "metadata": {
  "kernelspec": {
   "display_name": "tensorflow_env",
   "language": "python",
   "name": "python3"
  },
  "language_info": {
   "codemirror_mode": {
    "name": "ipython",
    "version": 3
   },
   "file_extension": ".py",
   "mimetype": "text/x-python",
   "name": "python",
   "nbconvert_exporter": "python",
   "pygments_lexer": "ipython3",
   "version": "3.8.10"
  }
 },
 "nbformat": 4,
 "nbformat_minor": 5
}
