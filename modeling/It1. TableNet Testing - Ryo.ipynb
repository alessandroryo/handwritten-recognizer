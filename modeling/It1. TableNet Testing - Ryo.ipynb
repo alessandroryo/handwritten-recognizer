{
 "cells": [
  {
   "cell_type": "markdown",
   "metadata": {},
   "source": [
    "# Iteration 1 - TableNet Model Testing\n",
    "\n",
    "> **Model**: TableNet Model <br/>\n",
    "> **Creator**: Ryo"
   ]
  },
  {
   "cell_type": "markdown",
   "metadata": {},
   "source": [
    "### Import Libraries"
   ]
  },
  {
   "cell_type": "code",
   "execution_count": 1,
   "metadata": {},
   "outputs": [],
   "source": [
    "import cv2\n",
    "import numpy as np\n",
    "import matplotlib.pyplot as plt\n",
    "from tensorflow.keras.models import load_model\n",
    "from tkinter import Tk, filedialog"
   ]
  },
  {
   "cell_type": "markdown",
   "metadata": {},
   "source": [
    "### Import Model"
   ]
  },
  {
   "cell_type": "code",
   "execution_count": null,
   "metadata": {},
   "outputs": [],
   "source": [
    "# Load the model from the .h5 file\n",
    "model = load_model('tablenet_model.h5')"
   ]
  },
  {
   "cell_type": "markdown",
   "metadata": {},
   "source": [
    "### Load Uploaded Image"
   ]
  },
  {
   "cell_type": "code",
   "execution_count": 3,
   "metadata": {},
   "outputs": [],
   "source": [
    "def load_uploaded_image(image_path, image_size=(1024, 1024)):\n",
    "    \"\"\"\n",
    "    Load an uploaded image from a specified path and preprocess it.\n",
    "\n",
    "    Parameters:\n",
    "    image_path (str): Path to the uploaded image file.\n",
    "    image_size (tuple): The target size for resizing the image (default is 1024x1024).\n",
    "\n",
    "    Returns:\n",
    "    np.array: Preprocessed image ready for model prediction.\n",
    "    str: The path of the uploaded image.\n",
    "    \"\"\"\n",
    "    # Load and preprocess the image\n",
    "    image = cv2.imread(image_path)\n",
    "    image = cv2.cvtColor(image, cv2.COLOR_BGR2RGB)\n",
    "    image = cv2.resize(image, image_size)\n",
    "    image = image.astype(np.float32) / 255.0  # Normalize the image\n",
    "    image = np.expand_dims(image, axis=0)  # Add batch dimension\n",
    "\n",
    "    return image, image_path"
   ]
  },
  {
   "cell_type": "markdown",
   "metadata": {},
   "source": [
    "### Visualize Image Prediction"
   ]
  },
  {
   "cell_type": "code",
   "execution_count": 5,
   "metadata": {},
   "outputs": [],
   "source": [
    "def visualize_uploaded_image_prediction(model, image_path):\n",
    "    \"\"\"\n",
    "    Visualize the model's prediction for the uploaded image.\n",
    "\n",
    "    Parameters:\n",
    "    model (tf.keras.Model): The trained model used for making predictions.\n",
    "    image_path (str): Path to the uploaded image file.\n",
    "    \"\"\"\n",
    "    # Load the uploaded image\n",
    "    image, image_path = load_uploaded_image(image_path)\n",
    "\n",
    "    # Generate predictions from the model\n",
    "    predictions = model.predict(image)\n",
    "\n",
    "    # Visualize the image and its predictions\n",
    "    plt.figure(figsize=(18, 5))\n",
    "\n",
    "    # Input Image\n",
    "    plt.subplot(131)\n",
    "    plt.imshow(image[0])  # Remove batch dimension for visualization\n",
    "    plt.title('Input Image')\n",
    "    plt.axis('off')\n",
    "\n",
    "    # Predicted Table Mask\n",
    "    plt.subplot(132)\n",
    "    plt.imshow(predictions[1][0, ..., 0], cmap='gray')  # Remove batch dimension\n",
    "    plt.title('Predicted Table Mask')\n",
    "    plt.axis('off')\n",
    "\n",
    "    # Predicted Column Mask\n",
    "    plt.subplot(133)\n",
    "    plt.imshow(predictions[0][0, ..., 0], cmap='gray')  # Remove batch dimension\n",
    "    plt.title('Predicted Column Mask')\n",
    "    plt.axis('off')\n",
    "\n",
    "    plt.tight_layout()\n",
    "    plt.show()"
   ]
  },
  {
   "cell_type": "markdown",
   "metadata": {},
   "source": [
    "### Select Image File"
   ]
  },
  {
   "cell_type": "code",
   "execution_count": 4,
   "metadata": {},
   "outputs": [],
   "source": [
    "# Function to select image file using file dialog in local system\n",
    "def select_image_file():\n",
    "    \"\"\"\n",
    "    Open a file dialog to select an image file for local testing.\n",
    "    Returns:\n",
    "    str: Path of the selected image file.\n",
    "    \"\"\"\n",
    "    Tk().withdraw()  # We don't want a full GUI, so keep the root window from appearing\n",
    "    image_path = filedialog.askopenfilename(\n",
    "        title=\"Select an Image File\", \n",
    "        filetypes=[(\"Image files\", \"*.jpg *.jpeg *.png *.bmp *.tiff *.tif\")]\n",
    "    )\n",
    "    return image_path"
   ]
  },
  {
   "cell_type": "code",
   "execution_count": 10,
   "metadata": {},
   "outputs": [],
   "source": [
    "# Select image file from local system\n",
    "image_path = select_image_file()"
   ]
  },
  {
   "cell_type": "markdown",
   "metadata": {},
   "source": [
    "### Running Prediction"
   ]
  },
  {
   "cell_type": "code",
   "execution_count": null,
   "metadata": {},
   "outputs": [],
   "source": [
    "# Run the model prediction and visualization\n",
    "if image_path:\n",
    "    visualize_uploaded_image_prediction(model, image_path)\n",
    "else:\n",
    "    print(\"No image file selected.\")"
   ]
  }
 ],
 "metadata": {
  "kernelspec": {
   "display_name": "alessandroryo",
   "language": "python",
   "name": "alessandroryo"
  },
  "language_info": {
   "codemirror_mode": {
    "name": "ipython",
    "version": 3
   },
   "file_extension": ".py",
   "mimetype": "text/x-python",
   "name": "python",
   "nbconvert_exporter": "python",
   "pygments_lexer": "ipython3",
   "version": "3.11.1"
  }
 },
 "nbformat": 4,
 "nbformat_minor": 2
}
