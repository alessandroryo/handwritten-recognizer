{
 "cells": [
  {
   "cell_type": "markdown",
   "id": "f3023c3b8e8d2dc0",
   "metadata": {
    "collapsed": false
   },
   "source": [
    "# Iteration 1 - Data Preparation\n",
    "\n",
    "> **Dataset**: Handwritten Dataset (Client)<br/>\n",
    "> **Creator**: Shirel"
   ]
  },
  {
   "cell_type": "markdown",
   "id": "a8e14ede0ae920cf",
   "metadata": {
    "collapsed": false
   },
   "source": [
    "##### *Import Libraries*"
   ]
  },
  {
   "cell_type": "code",
   "execution_count": null,
   "id": "initial_id",
   "metadata": {
    "ExecuteTime": {
     "end_time": "2024-10-01T12:12:16.865727Z",
     "start_time": "2024-10-01T12:12:16.012689Z"
    },
    "collapsed": true
   },
   "outputs": [],
   "source": [
    "import cv2\n",
    "import os\n",
    "import matplotlib.pyplot as plt\n",
    "import random\n",
    "import math\n",
    "import numpy as np\n",
    "from tqdm import tqdm"
   ]
  },
  {
   "cell_type": "markdown",
   "id": "8ce9e86a69f1281e",
   "metadata": {
    "collapsed": false
   },
   "source": [
    "##### *Global Variables*"
   ]
  },
  {
   "cell_type": "code",
   "execution_count": null,
   "id": "8eee7cf394b0910f",
   "metadata": {
    "ExecuteTime": {
     "end_time": "2024-09-25T15:15:45.157326Z",
     "start_time": "2024-09-25T15:15:45.112327Z"
    },
    "collapsed": false
   },
   "outputs": [],
   "source": [
    "# Define the path to the folder containing the images to be processed\n",
    "folder_path = '../data/original'  # Update this path to point to your specific folder containing images\n",
    "\n",
    "# Define the path to the folder where the processed images will be saved\n",
    "output_folder = '../data/processed'  # Update this path to the desired output folder"
   ]
  },
  {
   "cell_type": "markdown",
   "id": "8ceb592849edc617",
   "metadata": {
    "collapsed": false
   },
   "source": [
    "## Loading Images"
   ]
  },
  {
   "cell_type": "code",
   "execution_count": null,
   "id": "4a93be320e628cb5",
   "metadata": {
    "ExecuteTime": {
     "end_time": "2024-09-25T15:15:45.235326Z",
     "start_time": "2024-09-25T15:15:45.208328Z"
    },
    "collapsed": false
   },
   "outputs": [],
   "source": [
    "def load_images_from_folder(folder_path, extensions=('.png', '.jpg', '.jpeg', '.JPG')):\n",
    "    \"\"\"\n",
    "    Load all image file paths from a specified folder that match the given file extensions.\n",
    "\n",
    "    Parameters:\n",
    "    folder_path (str): The path to the folder containing the images.\n",
    "    extensions (tuple of str): A tuple of file extensions to filter the images by. \n",
    "                               Default is ('.png', '.jpg', '.jpeg', '.JPG').\n",
    "\n",
    "    Returns:\n",
    "    list: A list of full file paths to images in the folder that match the specified extensions.\n",
    "    \n",
    "    Raises:\n",
    "    FileNotFoundError: If the specified folder does not exist.\n",
    "    \"\"\"\n",
    "\n",
    "    # Check if the folder exists\n",
    "    if not os.path.exists(folder_path):\n",
    "        raise FileNotFoundError(f\"The specified folder does not exist: {folder_path}\")\n",
    "\n",
    "    # List comprehension to gather all image paths with the specified extensions\n",
    "    image_paths = [os.path.join(folder_path, f) for f in os.listdir(folder_path) if f.endswith(extensions)]\n",
    "\n",
    "    return image_paths"
   ]
  },
  {
   "cell_type": "markdown",
   "id": "8c8e74b7711da408",
   "metadata": {
    "collapsed": false
   },
   "source": [
    "## Preview of the images"
   ]
  },
  {
   "cell_type": "code",
   "execution_count": null,
   "id": "d700bf57fdcccf35",
   "metadata": {
    "ExecuteTime": {
     "end_time": "2024-09-25T15:15:45.439038Z",
     "start_time": "2024-09-25T15:15:45.375041Z"
    },
    "collapsed": false
   },
   "outputs": [],
   "source": [
    "def preview_images(image_paths, num_images=10, title=\"Image Preview\"):\n",
    "    \"\"\"\n",
    "    Display a preview of random images from a list of image paths.\n",
    "\n",
    "    Parameters:\n",
    "    image_paths (list of str): A list of file paths to the images that will be previewed.\n",
    "    num_images (int): The number of images to display in the preview. Default is 10.\n",
    "    title (str): The title for the preview images. Default is \"Image Preview\".\n",
    "\n",
    "    Raises:\n",
    "    ValueError: If num_images is less than 1 or if image_paths is empty.\n",
    "    TypeError: If image_paths is not a list or if any element in image_paths is not a string.\n",
    "    \"\"\"\n",
    "\n",
    "    # Validate that image_paths is a list of strings\n",
    "    if not isinstance(image_paths, list) or not all(isinstance(p, str) for p in image_paths):\n",
    "        raise TypeError(\"image_paths must be a list of strings.\")\n",
    "\n",
    "    # Validate that num_images is a positive integer\n",
    "    if num_images < 1:\n",
    "        raise ValueError(\"num_images must be at least 1.\")\n",
    "\n",
    "    # Validate that there are images to preview\n",
    "    if len(image_paths) == 0:\n",
    "        raise ValueError(\"The image_paths list is empty. There are no images to preview.\")\n",
    "\n",
    "    # Randomly select images to preview, ensuring no more than the available number of images are selected\n",
    "    selected_images = random.sample(image_paths, min(len(image_paths), num_images))\n",
    "\n",
    "    # Set up the plot for displaying images\n",
    "    plt.figure(figsize=(15, 10))\n",
    "\n",
    "    # Loop through the selected images and display each one\n",
    "    for i, image_path in enumerate(selected_images):\n",
    "        image = cv2.imread(image_path, cv2.IMREAD_GRAYSCALE)  # Load image in grayscale\n",
    "        if image is None:\n",
    "            print(f\"Warning: Could not read image {image_path}. Skipping.\")\n",
    "            continue\n",
    "        plt.subplot(2, 5, i + 1)\n",
    "        plt.imshow(image, cmap='gray')\n",
    "        plt.title(f\"{title} {i+1}\")\n",
    "        plt.axis('off')\n",
    "\n",
    "    # Show the plot with the selected images\n",
    "    plt.show()"
   ]
  },
  {
   "cell_type": "markdown",
   "id": "ae804d7372cf8b1e",
   "metadata": {
    "collapsed": false
   },
   "source": [
    "## Step 1 - Noise Reduction"
   ]
  },
  {
   "cell_type": "code",
   "execution_count": null,
   "id": "c0acb08428354b6c",
   "metadata": {
    "ExecuteTime": {
     "end_time": "2024-09-25T15:15:45.531038Z",
     "start_time": "2024-09-25T15:15:45.512040Z"
    },
    "collapsed": false
   },
   "outputs": [],
   "source": [
    "def noise_reduction(image, method='gaussian'):\n",
    "    \"\"\"\n",
    "    Apply noise reduction to an image using the specified method.\n",
    "\n",
    "    Parameters:\n",
    "    image: Input image.\n",
    "    method (str): The noise reduction method ('gaussian', 'median', 'non_local_means').\n",
    "\n",
    "    Returns:\n",
    "    Processed image after noise reduction.\n",
    "    \"\"\"\n",
    "    if method == 'gaussian':\n",
    "        # Apply Gaussian blur to reduce noise\n",
    "        return cv2.GaussianBlur(image, (5, 5), 0)\n",
    "    elif method == 'median':\n",
    "        # Apply median blur to remove noise\n",
    "        return cv2.medianBlur(image, 5)\n",
    "    elif method == 'non_local_means':\n",
    "        # Apply Non-Local Means Denoising to reduce noise\n",
    "        return cv2.fastNlMeansDenoising(image, None, 30, 7, 21)\n",
    "    else:\n",
    "        raise ValueError(f\"Unknown noise reduction method: {method}\")\n"
   ]
  },
  {
   "cell_type": "markdown",
   "id": "bb37d7396f986f40",
   "metadata": {
    "collapsed": false
   },
   "source": [
    "## Step 2 - Histogram Equalization"
   ]
  },
  {
   "cell_type": "code",
   "execution_count": null,
   "id": "79f8872e0fd14c49",
   "metadata": {
    "ExecuteTime": {
     "end_time": "2024-09-25T15:15:45.685039Z",
     "start_time": "2024-09-25T15:15:45.657038Z"
    },
    "collapsed": false
   },
   "outputs": [],
   "source": [
    "def histogram_equalization(image, method='standard'):\n",
    "    \"\"\"\n",
    "    Apply histogram equalization to an image to enhance contrast.\n",
    "\n",
    "    Parameters:\n",
    "    image: Input image.\n",
    "    method (str): The histogram equalization method ('standard', 'clahe').\n",
    "\n",
    "    Returns:\n",
    "    Image after applying histogram equalization.\n",
    "    \"\"\"\n",
    "    if method == 'standard':\n",
    "        # Apply standard histogram equalization\n",
    "        return cv2.equalizeHist(image)\n",
    "    elif method == 'clahe':\n",
    "        # Apply CLAHE (Contrast Limited Adaptive Histogram Equalization)\n",
    "        clahe = cv2.createCLAHE(clipLimit=2.0, tileGridSize=(8, 8))\n",
    "        return clahe.apply(image)\n",
    "    else:\n",
    "        raise ValueError(f\"Unknown histogram equalization method: {method}\")\n"
   ]
  },
  {
   "cell_type": "markdown",
   "id": "2a275c368dc17fb5",
   "metadata": {
    "collapsed": false
   },
   "source": [
    "## Step 3 - Binarization "
   ]
  },
  {
   "cell_type": "code",
   "execution_count": null,
   "id": "cc00a85180a57b02",
   "metadata": {
    "ExecuteTime": {
     "end_time": "2024-09-25T15:15:45.871430Z",
     "start_time": "2024-09-25T15:15:45.851430Z"
    },
    "collapsed": false
   },
   "outputs": [],
   "source": [
    "def binarization(image, method='otsu'):\n",
    "    \"\"\"\n",
    "    Apply binarization to convert the image to black and white.\n",
    "\n",
    "    Parameters:\n",
    "    image: Input image.\n",
    "    method (str): The binarization method ('global', 'adaptive', 'otsu').\n",
    "\n",
    "    Returns:\n",
    "    Binarized (black and white) image.\n",
    "    \"\"\"\n",
    "    if method == 'global':\n",
    "        # Apply global thresholding for binarization\n",
    "        _, binary_image = cv2.threshold(image, 128, 255, cv2.THRESH_BINARY)\n",
    "    elif method == 'adaptive':\n",
    "        # Apply adaptive thresholding for binarization\n",
    "        binary_image = cv2.adaptiveThreshold(image, 255, cv2.ADAPTIVE_THRESH_GAUSSIAN_C,\n",
    "                                             cv2.THRESH_BINARY, 11, 2)\n",
    "    elif method == 'otsu':\n",
    "        # Apply Otsu's binarization\n",
    "        _, binary_image = cv2.threshold(image, 0, 255, cv2.THRESH_BINARY + cv2.THRESH_OTSU)\n",
    "    else:\n",
    "        raise ValueError(f\"Unknown binarization method: {method}\")\n",
    "    return binary_image\n"
   ]
  },
  {
   "cell_type": "markdown",
   "id": "f28aff77d18d14f4",
   "metadata": {
    "collapsed": false
   },
   "source": [
    "## Step 4 - Morphological Operations "
   ]
  },
  {
   "cell_type": "code",
   "execution_count": null,
   "id": "4fa87445068c6090",
   "metadata": {
    "ExecuteTime": {
     "end_time": "2024-09-25T15:15:46.103430Z",
     "start_time": "2024-09-25T15:15:46.083433Z"
    },
    "collapsed": false
   },
   "outputs": [],
   "source": [
    "def morphological_operations(image, method='closing'):\n",
    "    \"\"\"\n",
    "    Apply morphological operations to the image to enhance shapes.\n",
    "\n",
    "    Parameters:\n",
    "    image: Input image.\n",
    "    method (str): The morphological operation ('dilation', 'erosion', 'opening', 'closing').\n",
    "\n",
    "    Returns:\n",
    "    Image after applying morphological operation.\n",
    "    \"\"\"\n",
    "    # Define a rectangular kernel for morphological operations\n",
    "    kernel = cv2.getStructuringElement(cv2.MORPH_RECT, (3, 3))\n",
    "    if method == 'dilation':\n",
    "        # Apply dilation\n",
    "        return cv2.dilate(image, kernel, iterations=1)\n",
    "    elif method == 'erosion':\n",
    "        # Apply erosion\n",
    "        return cv2.erode(image, kernel, iterations=1)\n",
    "    elif method == 'opening':\n",
    "        # Apply opening (erosion followed by dilation)\n",
    "        return cv2.morphologyEx(image, cv2.MORPH_OPEN, kernel)\n",
    "    elif method == 'closing':\n",
    "        # Apply closing (dilation followed by erosion)\n",
    "        return cv2.morphologyEx(image, cv2.MORPH_CLOSE, kernel)\n",
    "    else:\n",
    "        raise ValueError(f\"Unknown morphological operation: {method}\")\n"
   ]
  },
  {
   "cell_type": "markdown",
   "id": "a8c9043794673b86",
   "metadata": {
    "collapsed": false
   },
   "source": [
    "## Step 5 - Edge Detection "
   ]
  },
  {
   "cell_type": "code",
   "execution_count": null,
   "id": "9f86092e71fb16d0",
   "metadata": {
    "ExecuteTime": {
     "end_time": "2024-09-25T15:15:46.197431Z",
     "start_time": "2024-09-25T15:15:46.178432Z"
    },
    "collapsed": false
   },
   "outputs": [],
   "source": [
    "def edge_detection(image, method='canny'):\n",
    "    \"\"\"\n",
    "    Apply edge detection to highlight regions of rapid intensity change.\n",
    "\n",
    "    Parameters:\n",
    "    image: Input image.\n",
    "    method (str): The edge detection method ('canny', 'sobel').\n",
    "\n",
    "    Returns:\n",
    "    Image with edges detected.\n",
    "    \"\"\"\n",
    "    if method == 'canny':\n",
    "        # Apply Canny edge detection\n",
    "        return cv2.Canny(image, 100, 200)\n",
    "    elif method == 'sobel':\n",
    "        # Apply Sobel edge detection in both x and y directions\n",
    "        sobelx = cv2.Sobel(image, cv2.CV_64F, 1, 0, ksize=5)\n",
    "        sobely = cv2.Sobel(image, cv2.CV_64F, 0, 1, ksize=5)\n",
    "        return cv2.magnitude(sobelx, sobely)\n",
    "    else:\n",
    "        raise ValueError(f\"Unknown edge detection method: {method}\")\n"
   ]
  },
  {
   "cell_type": "markdown",
   "id": "40bc2ba13c6a0fb3",
   "metadata": {
    "collapsed": false
   },
   "source": [
    "## Save Processed Images"
   ]
  },
  {
   "cell_type": "code",
   "execution_count": null,
   "id": "5e9e64203353f944",
   "metadata": {
    "ExecuteTime": {
     "end_time": "2024-09-25T15:15:46.415662Z",
     "start_time": "2024-09-25T15:15:46.395664Z"
    },
    "collapsed": false
   },
   "outputs": [],
   "source": [
    "def save_processed_images(images, folder_path):\n",
    "    \"\"\"\n",
    "    Save the processed images to the specified folder.\n",
    "\n",
    "    Parameters:\n",
    "    images (list): List of processed images.\n",
    "    folder_path (str): Path to the folder where the images will be saved.\n",
    "    \"\"\"\n",
    "    # Create the folder if it doesn't exist\n",
    "    if not os.path.exists(folder_path):\n",
    "        os.makedirs(folder_path)\n",
    "\n",
    "    # Save each image in the folder\n",
    "    for idx, image in enumerate(images):\n",
    "        output_path = os.path.join(folder_path, f\"processed_{idx}.png\")\n",
    "        cv2.imwrite(output_path, image)\n",
    "        print(f\"Saved processed image to: {output_path}\")\n"
   ]
  },
  {
   "cell_type": "markdown",
   "id": "fd4d30213909760",
   "metadata": {
    "collapsed": false
   },
   "source": [
    "## Assessing the quality of the image"
   ]
  },
  {
   "cell_type": "code",
   "execution_count": null,
   "id": "a408c1820fa02417",
   "metadata": {
    "ExecuteTime": {
     "end_time": "2024-09-25T15:15:46.559660Z",
     "start_time": "2024-09-25T15:15:46.544662Z"
    },
    "collapsed": false
   },
   "outputs": [],
   "source": [
    "def display_image(image, title=\"Image\"):\n",
    "    \"\"\"Display the image using matplotlib.\n",
    "    \n",
    "    Parameters:\n",
    "    image (numpy.ndarray): The image to be displayed.\n",
    "    title (str): The title for the image display window (default is \"Image\").\n",
    "    \n",
    "    This function uses matplotlib to show a grayscale image with a specified title.\n",
    "    The axis is turned off for a cleaner presentation of the image.\n",
    "    \"\"\"\n",
    "    plt.imshow(image, cmap='gray')\n",
    "    plt.title(title)\n",
    "    plt.axis('off')\n",
    "    plt.show()"
   ]
  },
  {
   "cell_type": "code",
   "execution_count": null,
   "id": "2e93339a10c2048d",
   "metadata": {
    "ExecuteTime": {
     "end_time": "2024-09-25T15:15:46.590662Z",
     "start_time": "2024-09-25T15:15:46.577663Z"
    },
    "collapsed": false
   },
   "outputs": [],
   "source": [
    "def assess_image_quality(image):\n",
    "    \"\"\"Assess image quality based on brightness, blurriness, and sharpness.\n",
    "    \n",
    "    Parameters:\n",
    "    image (numpy.ndarray): The image to be assessed.\n",
    "    \n",
    "    Returns:\n",
    "    dict: A dictionary containing the following quality metrics:\n",
    "        - Brightness: Mean pixel intensity of the image.\n",
    "        - Blurriness: Variance of the Laplacian, where low variance indicates a blurry image.\n",
    "        - Sharpness: Sum of Sobel gradients, where higher values indicate a sharper image.\n",
    "    \n",
    "    This function calculates three metrics to evaluate the quality of the input image,\n",
    "    which can help in determining the suitability of the image for further processing.\n",
    "    \"\"\"\n",
    "\n",
    "    # Brightness: Mean pixel intensity\n",
    "    brightness = np.mean(image)\n",
    "\n",
    "    # Blurriness: Variance of the Laplacian (low variance -> blurry)\n",
    "    laplacian = cv2.Laplacian(image, cv2.CV_64F)\n",
    "    blurriness = laplacian.var()\n",
    "\n",
    "    # Sharpness: Sum of Sobel gradients (higher -> sharper)\n",
    "    sobelx = cv2.Sobel(image, cv2.CV_64F, 1, 0, ksize=5)\n",
    "    sobely = cv2.Sobel(image, cv2.CV_64F, 0, 1, ksize=5)\n",
    "    sharpness = np.sqrt(sobelx**2 + sobely**2).sum()\n",
    "\n",
    "    return {\"Brightness\": brightness, \"Blurriness\": blurriness, \"Sharpness\": sharpness}\n"
   ]
  },
  {
   "cell_type": "markdown",
   "id": "bea4a9511750b93b",
   "metadata": {
    "collapsed": false
   },
   "source": [
    "## Main Functions to Process Images "
   ]
  },
  {
   "cell_type": "markdown",
   "id": "f29193f4e7ac4c82",
   "metadata": {
    "collapsed": false
   },
   "source": [
    "## running combinations on all images"
   ]
  },
  {
   "cell_type": "code",
   "execution_count": null,
   "id": "c9621f611583cc26",
   "metadata": {
    "ExecuteTime": {
     "end_time": "2024-09-25T15:15:46.744355Z",
     "start_time": "2024-09-25T15:15:46.725357Z"
    },
    "collapsed": false
   },
   "outputs": [],
   "source": [
    "def process_images(folder_path, output_folder, noise_method='gaussian', hist_method='clahe',\n",
    "                   binarize_method='otsu', morph_method='closing', edge_method='canny'):\n",
    "    \"\"\"\n",
    "    Load, process, and save images using the specified methods for each preprocessing step.\n",
    "\n",
    "    Parameters:\n",
    "    folder_path (str): Path to the folder containing the images.\n",
    "    output_folder (str): Path to the folder where processed images will be saved.\n",
    "    noise_method (str): Method for noise reduction.\n",
    "    hist_method (str): Method for histogram equalization.\n",
    "    binarize_method (str): Method for binarization.\n",
    "    morph_method (str): Method for morphological operations.\n",
    "    edge_method (str): Method for edge detection.\n",
    "    \"\"\"\n",
    "    # Load images from the folder\n",
    "    image_paths = load_images_from_folder(folder_path)\n",
    "    processed_images = []\n",
    "\n",
    "    # Using tqdm for progress tracking\n",
    "    for image_path in tqdm(image_paths, desc=\"Processing Images\", unit=\"image\"):\n",
    "        # Read the image in grayscale\n",
    "        image = cv2.imread(image_path, cv2.IMREAD_GRAYSCALE)\n",
    "\n",
    "        # Apply each preprocessing step in order\n",
    "        image = noise_reduction(image, method=noise_method)  # Step 1: Noise Reduction\n",
    "        image = histogram_equalization(image, method=hist_method)  # Step 2: Histogram Equalization\n",
    "        image = binarization(image, method=binarize_method)  # Step 3: Binarization\n",
    "        image = morphological_operations(image, method=morph_method)  # Step 4: Morphological Operations\n",
    "        image = edge_detection(image, method=edge_method)  # Step 5: Edge Detection\n",
    "\n",
    "        # Add the processed image to the list\n",
    "        processed_images.append(image)\n",
    "\n",
    "    # Save the processed images\n",
    "    save_processed_images(processed_images, output_folder)"
   ]
  },
  {
   "cell_type": "markdown",
   "id": "51a6d1fcb1f9efda",
   "metadata": {
    "collapsed": false
   },
   "source": [
    "## experimenting with techniques"
   ]
  },
  {
   "cell_type": "code",
   "execution_count": null,
   "id": "d09715368dbbebbb",
   "metadata": {
    "ExecuteTime": {
     "end_time": "2024-09-25T15:15:46.837761Z",
     "start_time": "2024-09-25T15:15:46.816635Z"
    },
    "collapsed": false
   },
   "outputs": [],
   "source": [
    "def main_experiment(image_paths, output_folder, noise_method='gaussian', hist_method='standard', binarize_method='global',\n",
    "                   morph_method='dilation', edge_method='canny', experiment_step=None):\n",
    "    processed_images = []\n",
    "\n",
    "    # Loop over each image\n",
    "    for image_path in tqdm(image_paths, desc=\"Processing Images\"):\n",
    "        image = cv2.imread(image_path, cv2.IMREAD_GRAYSCALE)\n",
    "\n",
    "        # Step 1: Noise Reduction\n",
    "        if experiment_step == 'noise' or experiment_step is None:\n",
    "            image = noise_reduction(image, method=noise_method)\n",
    "            display_image(image, title=f\"After Noise Reduction ({noise_method})\")\n",
    "\n",
    "        # Step 2: Histogram Equalization\n",
    "        if experiment_step == 'histogram' or experiment_step is None:\n",
    "            image = histogram_equalization(image, method=hist_method)\n",
    "            display_image(image, title=f\"After Histogram Equalization ({hist_method})\")\n",
    "    \n",
    "        # Step 3: Binarization\n",
    "        if experiment_step == 'binarization' or experiment_step is None:\n",
    "            image = binarization(image, method=binarize_method)\n",
    "            display_image(image, title=f\"After Binarization ({binarize_method})\")\n",
    "    \n",
    "        # Step 4: Morphological Operations\n",
    "        if experiment_step == 'morphology' or experiment_step is None:\n",
    "            image = morphological_operations(image, method=morph_method)\n",
    "            display_image(image, title=f\"After Morphological Operation ({morph_method})\")\n",
    "    \n",
    "        # Step 5: Edge Detection\n",
    "        if experiment_step == 'edge' or experiment_step is None:\n",
    "            image = edge_detection(image, method=edge_method)\n",
    "            display_image(image, title=f\"After Edge Detection ({edge_method})\")\n",
    "    \n",
    "        # Append processed image\n",
    "        processed_images.append(image)\n",
    "    \n",
    "        # Assess image quality\n",
    "        quality_metrics = assess_image_quality(image)\n",
    "        print(f\"Image Quality Metrics: {quality_metrics}\")\n",
    "\n",
    "    # Save processed images\n",
    "    save_processed_images(processed_images, output_folder)\n"
   ]
  },
  {
   "cell_type": "markdown",
   "id": "27ffbf9d5329b610",
   "metadata": {
    "collapsed": false
   },
   "source": [
    "### saving experiments separately "
   ]
  },
  {
   "cell_type": "code",
   "execution_count": null,
   "id": "32c0f27d628b826e",
   "metadata": {
    "ExecuteTime": {
     "end_time": "2024-09-25T15:15:46.885754Z",
     "start_time": "2024-09-25T15:15:46.868766Z"
    },
    "collapsed": false
   },
   "outputs": [],
   "source": [
    "def construct_output_path(base_folder, technique_category, technique_name):\n",
    "    \"\"\"\n",
    "    Construct a dynamic output path for processed images.\n",
    "\n",
    "    Parameters:\n",
    "    base_folder (str): The base folder where processed images will be saved.\n",
    "    technique_category (str): The category of the technique (e.g., 'noiseReduction').\n",
    "    technique_name (str): The name of the specific technique used (e.g., 'median', 'gaussian').\n",
    "\n",
    "    Returns:\n",
    "    str: The full output path where images will be saved.\n",
    "    \"\"\"\n",
    "    # Construct the full path\n",
    "    output_path = os.path.join(base_folder, 'processed', technique_category, technique_name)\n",
    "\n",
    "    # Create the directory if it doesn't exist\n",
    "    os.makedirs(output_path, exist_ok=True)\n",
    "\n",
    "    return output_path"
   ]
  },
  {
   "cell_type": "markdown",
   "id": "d7950a10d49f2378",
   "metadata": {
    "collapsed": false
   },
   "source": [
    "# Execution of Functions"
   ]
  },
  {
   "cell_type": "code",
   "execution_count": null,
   "id": "531edefa26a4e719",
   "metadata": {
    "ExecuteTime": {
     "end_time": "2024-09-25T15:15:46.917754Z",
     "start_time": "2024-09-25T15:15:46.901758Z"
    },
    "collapsed": false
   },
   "outputs": [],
   "source": [
    "# Load all image file paths from the specified folder\n",
    "image_paths_all = load_images_from_folder(folder_path)\n",
    "image_paths_experiment = random.sample(image_paths_all, 5)"
   ]
  },
  {
   "cell_type": "markdown",
   "id": "18aee524f000f81b",
   "metadata": {
    "collapsed": false
   },
   "source": [
    "## Experimenting"
   ]
  },
  {
   "cell_type": "markdown",
   "id": "4b8748ccf295821d",
   "metadata": {
    "collapsed": false
   },
   "source": [
    "## Preview Images"
   ]
  },
  {
   "cell_type": "code",
   "execution_count": null,
   "id": "f5602dd50c880039",
   "metadata": {
    "ExecuteTime": {
     "end_time": "2024-09-25T15:15:50.378836Z",
     "start_time": "2024-09-25T15:15:47.002757Z"
    },
    "collapsed": false
   },
   "outputs": [],
   "source": [
    "# Preview random images before processing\n",
    "preview_images(image_paths_experiment, num_images=5, title=\"Original Image Preview\")"
   ]
  },
  {
   "cell_type": "markdown",
   "id": "9badc4d0696a48a9",
   "metadata": {
    "collapsed": false
   },
   "source": [
    "## A. Noise Reduction Experiment"
   ]
  },
  {
   "cell_type": "code",
   "execution_count": null,
   "id": "76cfec62cd5c49ab",
   "metadata": {
    "ExecuteTime": {
     "end_time": "2024-09-25T15:15:50.394833Z",
     "start_time": "2024-09-25T15:15:50.381833Z"
    },
    "collapsed": false
   },
   "outputs": [],
   "source": [
    "# setting the folder for experimentation with techniques in this specific step\n",
    "technique = 'Noise_Reduction'"
   ]
  },
  {
   "cell_type": "markdown",
   "id": "3c7e4ceb446024e1",
   "metadata": {
    "collapsed": false
   },
   "source": [
    "### 1. Gaussian"
   ]
  },
  {
   "cell_type": "code",
   "execution_count": null,
   "id": "f20b68eabf2ecf53",
   "metadata": {
    "ExecuteTime": {
     "end_time": "2024-09-25T15:15:50.410834Z",
     "start_time": "2024-09-25T15:15:50.395832Z"
    },
    "collapsed": false
   },
   "outputs": [],
   "source": [
    "# setting the inner folder according to the chosen technique\n",
    "inner_technique = 'gaussian'  \n",
    "output_folder_experiment = construct_output_path(output_folder, technique, inner_technique)"
   ]
  },
  {
   "cell_type": "code",
   "execution_count": null,
   "id": "15da871388c25b9f",
   "metadata": {
    "ExecuteTime": {
     "end_time": "2024-09-25T15:16:02.057997Z",
     "start_time": "2024-09-25T15:15:50.412835Z"
    },
    "collapsed": false
   },
   "outputs": [],
   "source": [
    "main_experiment(image_paths_experiment, output_folder_experiment,\n",
    "                noise_method=inner_technique, experiment_step='noise')"
   ]
  },
  {
   "cell_type": "markdown",
   "id": "8a8c453b676f03c",
   "metadata": {
    "collapsed": false
   },
   "source": [
    "### 2. Median"
   ]
  },
  {
   "cell_type": "code",
   "execution_count": null,
   "id": "29158e64a2026451",
   "metadata": {
    "ExecuteTime": {
     "end_time": "2024-09-25T15:16:02.087996Z",
     "start_time": "2024-09-25T15:16:02.064997Z"
    },
    "collapsed": false
   },
   "outputs": [],
   "source": [
    "# setting the inner folder according to the chosen technique\n",
    "inner_technique = 'median'\n",
    "output_folder_experiment = construct_output_path(output_folder, technique, inner_technique)"
   ]
  },
  {
   "cell_type": "code",
   "execution_count": null,
   "id": "b9234df1974151de",
   "metadata": {
    "ExecuteTime": {
     "end_time": "2024-09-25T15:16:20.699361Z",
     "start_time": "2024-09-25T15:16:02.088996Z"
    },
    "collapsed": false
   },
   "outputs": [],
   "source": [
    "main_experiment(image_paths_experiment, output_folder_experiment,\n",
    "                noise_method=inner_technique, experiment_step='noise')"
   ]
  },
  {
   "cell_type": "markdown",
   "id": "fcac7d81aeb413e",
   "metadata": {
    "collapsed": false
   },
   "source": [
    "### 3. Non_local_means"
   ]
  },
  {
   "cell_type": "code",
   "execution_count": null,
   "id": "f5abb4c87fd578f7",
   "metadata": {
    "ExecuteTime": {
     "end_time": "2024-09-25T15:16:20.744361Z",
     "start_time": "2024-09-25T15:16:20.712360Z"
    },
    "collapsed": false
   },
   "outputs": [],
   "source": [
    "# setting the inner folder according to the chosen technique\n",
    "inner_technique = 'non_local_means'\n",
    "output_folder_experiment = construct_output_path(output_folder, technique, inner_technique)"
   ]
  },
  {
   "cell_type": "code",
   "execution_count": null,
   "id": "739bb5405ecfb813",
   "metadata": {
    "ExecuteTime": {
     "end_time": "2024-09-25T15:17:11.784246Z",
     "start_time": "2024-09-25T15:16:20.746361Z"
    },
    "collapsed": false
   },
   "outputs": [],
   "source": [
    "main_experiment(image_paths_experiment, output_folder_experiment,\n",
    "                noise_method=inner_technique, experiment_step='noise')"
   ]
  },
  {
   "cell_type": "markdown",
   "id": "aab81ffff5b3e9ae",
   "metadata": {
    "collapsed": false
   },
   "source": [
    "\n",
    "## B. Histogram Equalization Experiment"
   ]
  },
  {
   "cell_type": "code",
   "execution_count": null,
   "id": "cac2e564163b9e13",
   "metadata": {
    "ExecuteTime": {
     "end_time": "2024-09-25T15:17:11.832244Z",
     "start_time": "2024-09-25T15:17:11.798242Z"
    },
    "collapsed": false
   },
   "outputs": [],
   "source": [
    "# setting the folder for experimentation with techniques in this specific step\n",
    "technique = 'Histogram_Equalization'"
   ]
  },
  {
   "cell_type": "markdown",
   "id": "d60eb3bdb2411a1f",
   "metadata": {
    "collapsed": false
   },
   "source": [
    "### 1.Standard "
   ]
  },
  {
   "cell_type": "code",
   "execution_count": null,
   "id": "13eabfdb0234b21d",
   "metadata": {
    "ExecuteTime": {
     "end_time": "2024-09-25T15:17:11.848243Z",
     "start_time": "2024-09-25T15:17:11.836246Z"
    },
    "collapsed": false
   },
   "outputs": [],
   "source": [
    "# setting the inner folder according to the chosen technique\n",
    "inner_technique = 'standard'\n",
    "output_folder_experiment = construct_output_path(output_folder, technique, inner_technique)"
   ]
  },
  {
   "cell_type": "code",
   "execution_count": null,
   "id": "612b0a8a517b0749",
   "metadata": {
    "ExecuteTime": {
     "end_time": "2024-09-25T15:17:35.437720Z",
     "start_time": "2024-09-25T15:17:11.851243Z"
    },
    "collapsed": false
   },
   "outputs": [],
   "source": [
    "main_experiment(image_paths_experiment, output_folder_experiment,\n",
    "                noise_method=inner_technique, experiment_step='histogram')"
   ]
  },
  {
   "cell_type": "markdown",
   "id": "2c6c16756c392f45",
   "metadata": {
    "collapsed": false
   },
   "source": [
    "### 2.Clahe"
   ]
  },
  {
   "cell_type": "code",
   "execution_count": null,
   "id": "dc2cb3db94b5bcd4",
   "metadata": {
    "ExecuteTime": {
     "end_time": "2024-09-25T15:17:35.498718Z",
     "start_time": "2024-09-25T15:17:35.453717Z"
    },
    "collapsed": false
   },
   "outputs": [],
   "source": [
    "# setting the inner folder according to the chosen technique\n",
    "inner_technique = 'clahe'\n",
    "output_folder_experiment = construct_output_path(output_folder, technique, inner_technique)"
   ]
  },
  {
   "cell_type": "code",
   "execution_count": null,
   "id": "a4225e5f62b0eb94",
   "metadata": {
    "ExecuteTime": {
     "end_time": "2024-09-25T15:17:49.718314Z",
     "start_time": "2024-09-25T15:17:35.501720Z"
    },
    "collapsed": false
   },
   "outputs": [],
   "source": [
    "main_experiment(image_paths_experiment, output_folder_experiment,\n",
    "                noise_method=inner_technique, experiment_step='histogram')"
   ]
  },
  {
   "cell_type": "markdown",
   "id": "4b06858cfad7bdaf",
   "metadata": {
    "collapsed": false
   },
   "source": [
    "\n",
    "## C. Binarization Experiment"
   ]
  },
  {
   "cell_type": "code",
   "execution_count": null,
   "id": "d7cd5523fa65b111",
   "metadata": {
    "ExecuteTime": {
     "end_time": "2024-09-25T15:17:49.763314Z",
     "start_time": "2024-09-25T15:17:49.746313Z"
    },
    "collapsed": false
   },
   "outputs": [],
   "source": [
    "# setting the folder for experimentation with techniques in this specific step\n",
    "technique = 'Binarization'"
   ]
  },
  {
   "cell_type": "markdown",
   "id": "cff1dc93464ecd59",
   "metadata": {
    "collapsed": false
   },
   "source": [
    "### 1. Global"
   ]
  },
  {
   "cell_type": "code",
   "execution_count": null,
   "id": "263d44f342aac75b",
   "metadata": {
    "ExecuteTime": {
     "end_time": "2024-09-25T15:17:49.778313Z",
     "start_time": "2024-09-25T15:17:49.764312Z"
    },
    "collapsed": false
   },
   "outputs": [],
   "source": [
    "# setting the inner folder according to the chosen technique\n",
    "inner_technique = 'global'\n",
    "output_folder_experiment = construct_output_path(output_folder, technique, inner_technique)"
   ]
  },
  {
   "cell_type": "code",
   "execution_count": null,
   "id": "1995a9f6fa9b5db4",
   "metadata": {
    "ExecuteTime": {
     "end_time": "2024-09-25T15:18:00.417741Z",
     "start_time": "2024-09-25T15:17:49.780312Z"
    },
    "collapsed": false
   },
   "outputs": [],
   "source": [
    "main_experiment(image_paths_experiment, output_folder_experiment,\n",
    "                noise_method=inner_technique, experiment_step='binarization')"
   ]
  },
  {
   "cell_type": "markdown",
   "id": "883f5617c4dee9eb",
   "metadata": {
    "collapsed": false
   },
   "source": [
    "### 2. Adaptive"
   ]
  },
  {
   "cell_type": "code",
   "execution_count": null,
   "id": "a4fb4d29caffef07",
   "metadata": {
    "ExecuteTime": {
     "end_time": "2024-09-25T15:18:00.447745Z",
     "start_time": "2024-09-25T15:18:00.427742Z"
    },
    "collapsed": false
   },
   "outputs": [],
   "source": [
    "# setting the inner folder according to the chosen technique\n",
    "inner_technique = 'adaptive'\n",
    "output_folder_experiment = construct_output_path(output_folder, technique, inner_technique)"
   ]
  },
  {
   "cell_type": "code",
   "execution_count": null,
   "id": "fc0fdaed0410acb3",
   "metadata": {
    "ExecuteTime": {
     "end_time": "2024-09-25T15:18:14.035421Z",
     "start_time": "2024-09-25T15:18:00.449744Z"
    },
    "collapsed": false
   },
   "outputs": [],
   "source": [
    "main_experiment(image_paths_experiment, output_folder_experiment,\n",
    "                noise_method=inner_technique, experiment_step='binarization')"
   ]
  },
  {
   "cell_type": "markdown",
   "id": "d99b2d555a54c520",
   "metadata": {
    "collapsed": false
   },
   "source": [
    "### 3. Otsu"
   ]
  },
  {
   "cell_type": "code",
   "execution_count": null,
   "id": "65ff3dd6bed0c82a",
   "metadata": {
    "ExecuteTime": {
     "end_time": "2024-09-25T15:18:14.095736Z",
     "start_time": "2024-09-25T15:18:14.056331Z"
    },
    "collapsed": false
   },
   "outputs": [],
   "source": [
    "# setting the inner folder according to the chosen technique\n",
    "inner_technique = 'otsu'\n",
    "output_folder_experiment = construct_output_path(output_folder, technique, inner_technique)"
   ]
  },
  {
   "cell_type": "code",
   "execution_count": null,
   "id": "648ab5ccb1ed7d4b",
   "metadata": {
    "ExecuteTime": {
     "end_time": "2024-09-25T15:18:25.328427Z",
     "start_time": "2024-09-25T15:18:14.098737Z"
    },
    "collapsed": false
   },
   "outputs": [],
   "source": [
    "main_experiment(image_paths_experiment, output_folder_experiment,\n",
    "                noise_method=inner_technique, experiment_step='binarization')"
   ]
  },
  {
   "cell_type": "markdown",
   "id": "1bee5ab7a162394",
   "metadata": {
    "collapsed": false
   },
   "source": [
    "\n",
    "## D.Morphological Operations Experiment"
   ]
  },
  {
   "cell_type": "code",
   "execution_count": null,
   "id": "da92e280307ce461",
   "metadata": {
    "ExecuteTime": {
     "end_time": "2024-09-25T15:18:25.359958Z",
     "start_time": "2024-09-25T15:18:25.335436Z"
    },
    "collapsed": false
   },
   "outputs": [],
   "source": [
    "# setting the folder for experimentation with techniques in this specific step\n",
    "technique = 'Morphological_Operations'"
   ]
  },
  {
   "cell_type": "markdown",
   "id": "45727ca9d03f9275",
   "metadata": {
    "collapsed": false
   },
   "source": [
    "### 1. Dilation "
   ]
  },
  {
   "cell_type": "code",
   "execution_count": null,
   "id": "9dd42248a900393b",
   "metadata": {
    "ExecuteTime": {
     "end_time": "2024-09-25T15:18:25.375954Z",
     "start_time": "2024-09-25T15:18:25.362958Z"
    },
    "collapsed": false
   },
   "outputs": [],
   "source": [
    "# setting the inner folder according to the chosen technique\n",
    "inner_technique = 'dilation'\n",
    "output_folder_experiment = construct_output_path(output_folder, technique, inner_technique)"
   ]
  },
  {
   "cell_type": "code",
   "execution_count": null,
   "id": "16efa0fb01951c0c",
   "metadata": {
    "ExecuteTime": {
     "end_time": "2024-09-25T15:18:36.780322Z",
     "start_time": "2024-09-25T15:18:25.378955Z"
    },
    "collapsed": false
   },
   "outputs": [],
   "source": [
    "main_experiment(image_paths_experiment, output_folder_experiment,\n",
    "                noise_method=inner_technique, experiment_step='morphology')"
   ]
  },
  {
   "cell_type": "markdown",
   "id": "6ccf273bd046545c",
   "metadata": {
    "collapsed": false
   },
   "source": [
    "### 2. Erosion "
   ]
  },
  {
   "cell_type": "code",
   "execution_count": null,
   "id": "1653d7caf40bd202",
   "metadata": {
    "ExecuteTime": {
     "end_time": "2024-09-25T15:18:36.812321Z",
     "start_time": "2024-09-25T15:18:36.786322Z"
    },
    "collapsed": false
   },
   "outputs": [],
   "source": [
    "# setting the inner folder according to the chosen technique\n",
    "inner_technique = 'erosion'\n",
    "output_folder_experiment = construct_output_path(output_folder, technique, inner_technique)"
   ]
  },
  {
   "cell_type": "code",
   "execution_count": null,
   "id": "93336d574dbebc5d",
   "metadata": {
    "ExecuteTime": {
     "end_time": "2024-09-25T15:18:48.611548Z",
     "start_time": "2024-09-25T15:18:36.813320Z"
    },
    "collapsed": false
   },
   "outputs": [],
   "source": [
    "main_experiment(image_paths_experiment, output_folder_experiment,\n",
    "                noise_method=inner_technique, experiment_step='morphology')"
   ]
  },
  {
   "cell_type": "markdown",
   "id": "f35da3706a159be7",
   "metadata": {
    "collapsed": false
   },
   "source": [
    "### 3. Opening "
   ]
  },
  {
   "cell_type": "code",
   "execution_count": null,
   "id": "ed3433697b6f10cb",
   "metadata": {
    "ExecuteTime": {
     "end_time": "2024-09-25T15:18:48.642544Z",
     "start_time": "2024-09-25T15:18:48.616545Z"
    },
    "collapsed": false
   },
   "outputs": [],
   "source": [
    "# setting the inner folder according to the chosen technique\n",
    "inner_technique = 'opening'\n",
    "output_folder_experiment = construct_output_path(output_folder, technique, inner_technique)"
   ]
  },
  {
   "cell_type": "code",
   "execution_count": null,
   "id": "fa50e6758d51fd67",
   "metadata": {
    "ExecuteTime": {
     "end_time": "2024-09-25T15:19:00.442229Z",
     "start_time": "2024-09-25T15:18:48.644557Z"
    },
    "collapsed": false
   },
   "outputs": [],
   "source": [
    "main_experiment(image_paths_experiment, output_folder_experiment,\n",
    "                noise_method=inner_technique, experiment_step='morphology')"
   ]
  },
  {
   "cell_type": "markdown",
   "id": "354354bb16bca70b",
   "metadata": {
    "collapsed": false
   },
   "source": [
    "### 4. Closing"
   ]
  },
  {
   "cell_type": "code",
   "execution_count": null,
   "id": "c32d4d19517c4598",
   "metadata": {
    "ExecuteTime": {
     "end_time": "2024-09-25T15:19:00.474226Z",
     "start_time": "2024-09-25T15:19:00.448226Z"
    },
    "collapsed": false
   },
   "outputs": [],
   "source": [
    "# setting the inner folder according to the chosen technique\n",
    "inner_technique = 'closing'\n",
    "output_folder_experiment = construct_output_path(output_folder, technique, inner_technique)"
   ]
  },
  {
   "cell_type": "code",
   "execution_count": null,
   "id": "c29686c74e752ca1",
   "metadata": {
    "ExecuteTime": {
     "end_time": "2024-09-25T15:19:12.210783Z",
     "start_time": "2024-09-25T15:19:00.478461Z"
    },
    "collapsed": false
   },
   "outputs": [],
   "source": [
    "main_experiment(image_paths_experiment, output_folder_experiment,\n",
    "                noise_method=inner_technique, experiment_step='morphology')"
   ]
  },
  {
   "cell_type": "markdown",
   "id": "7fb021efb0497f47",
   "metadata": {
    "collapsed": false
   },
   "source": [
    "## E. Edge Detection Experiment"
   ]
  },
  {
   "cell_type": "code",
   "execution_count": null,
   "id": "f4a8b0437dc6c3df",
   "metadata": {
    "ExecuteTime": {
     "end_time": "2024-09-25T15:19:12.225783Z",
     "start_time": "2024-09-25T15:19:12.213794Z"
    },
    "collapsed": false
   },
   "outputs": [],
   "source": [
    "# setting the folder for experimentation with techniques in this specific step\n",
    "technique = 'Edge_Detection'"
   ]
  },
  {
   "cell_type": "markdown",
   "id": "d13b5e7de92b0b30",
   "metadata": {
    "collapsed": false
   },
   "source": [
    "### 1. Canny "
   ]
  },
  {
   "cell_type": "code",
   "execution_count": null,
   "id": "e0cf005c8294493e",
   "metadata": {
    "ExecuteTime": {
     "end_time": "2024-09-25T15:19:12.240782Z",
     "start_time": "2024-09-25T15:19:12.227783Z"
    },
    "collapsed": false
   },
   "outputs": [],
   "source": [
    "# setting the inner folder according to the chosen technique\n",
    "inner_technique = 'canny'\n",
    "output_folder_experiment = construct_output_path(output_folder, technique, inner_technique)"
   ]
  },
  {
   "cell_type": "code",
   "execution_count": null,
   "id": "8ddcbc2deda5457d",
   "metadata": {
    "ExecuteTime": {
     "end_time": "2024-09-25T15:19:22.736406Z",
     "start_time": "2024-09-25T15:19:12.242783Z"
    },
    "collapsed": false
   },
   "outputs": [],
   "source": [
    "main_experiment(image_paths_experiment, output_folder_experiment,\n",
    "                noise_method=inner_technique, experiment_step='edge')"
   ]
  },
  {
   "cell_type": "markdown",
   "id": "d5b16dcabe98f858",
   "metadata": {
    "collapsed": false
   },
   "source": [
    "### 2. Sobel"
   ]
  },
  {
   "cell_type": "code",
   "execution_count": null,
   "id": "8127781b9e2daf2",
   "metadata": {
    "ExecuteTime": {
     "end_time": "2024-09-25T15:19:22.766405Z",
     "start_time": "2024-09-25T15:19:22.740416Z"
    },
    "collapsed": false
   },
   "outputs": [],
   "source": [
    "# setting the inner folder according to the chosen technique\n",
    "inner_technique = 'sobel'\n",
    "output_folder_experiment = construct_output_path(output_folder, technique, inner_technique)"
   ]
  },
  {
   "cell_type": "code",
   "execution_count": null,
   "id": "4b7c94591ce078b4",
   "metadata": {
    "ExecuteTime": {
     "end_time": "2024-09-25T15:19:32.779832Z",
     "start_time": "2024-09-25T15:19:22.768406Z"
    },
    "collapsed": false
   },
   "outputs": [],
   "source": [
    "main_experiment(image_paths_experiment, output_folder_experiment,\n",
    "                noise_method=inner_technique, experiment_step='edge')"
   ]
  },
  {
   "cell_type": "markdown",
   "id": "9f5c6b692daacca1",
   "metadata": {
    "collapsed": false
   },
   "source": [
    "# Running full prep"
   ]
  },
  {
   "cell_type": "markdown",
   "id": "959f66fefa628ec8",
   "metadata": {
    "collapsed": false
   },
   "source": [
    "## Images Preparation"
   ]
  },
  {
   "cell_type": "code",
   "execution_count": null,
   "id": "e2bf6510f1eeaea5",
   "metadata": {
    "ExecuteTime": {
     "end_time": "2024-09-25T15:19:32.794836Z",
     "start_time": "2024-09-25T15:19:32.783832Z"
    },
    "collapsed": false
   },
   "outputs": [],
   "source": [
    "# process_images(folder_path, output_folder, noise_method='gaussian', hist_method='clahe',\n",
    "#                binarize_method='otsu', morph_method='closing', edge_method='canny')\n"
   ]
  },
  {
   "cell_type": "markdown",
   "id": "16e9605690a63385",
   "metadata": {
    "collapsed": false
   },
   "source": [
    "## View Processed images"
   ]
  },
  {
   "cell_type": "code",
   "execution_count": null,
   "id": "3dfe8818d82e831",
   "metadata": {
    "ExecuteTime": {
     "end_time": "2024-09-25T15:19:32.984833Z",
     "start_time": "2024-09-25T15:19:32.797832Z"
    },
    "collapsed": false
   },
   "outputs": [],
   "source": [
    "# Preview processed images\n",
    "processed_image_paths = load_images_from_folder(output_folder)\n",
    "preview_images(processed_image_paths, num_images=5, title=\"Processed Image Preview\")"
   ]
  },
  {
   "cell_type": "markdown",
   "id": "6ff7fdb66407e95b",
   "metadata": {
    "collapsed": false
   },
   "source": [
    "# Trying Grid Search for combinations of techniques - need to be continued and prepared "
   ]
  },
  {
   "cell_type": "code",
   "execution_count": null,
   "id": "7c34b0d670c8cd6c",
   "metadata": {
    "ExecuteTime": {
     "start_time": "2024-09-25T15:19:32.986832Z"
    },
    "collapsed": false
   },
   "outputs": [],
   "source": [
    "import itertools\n",
    "\n",
    "# List of available methods for each step\n",
    "noise_methods = ['gaussian', 'median', 'non_local_means']\n",
    "histogram_methods = ['standard', 'clahe']\n",
    "binarization_methods = ['global', 'adaptive', 'otsu']\n",
    "morphological_methods = ['dilation', 'erosion', 'opening', 'closing']\n",
    "edge_detection_methods = ['canny', 'sobel']\n",
    "\n",
    "def evaluate_combination(image, noise_method, hist_method, binarize_method, morph_method, edge_method):\n",
    "    \"\"\"\n",
    "    Apply the combination of preprocessing steps and evaluate the output image quality.\n",
    "    \"\"\"\n",
    "    # Apply preprocessing steps\n",
    "    image = noise_reduction(image, method=noise_method)\n",
    "    image = histogram_equalization(image, method=hist_method)\n",
    "    image = binarization(image, method=binarize_method)\n",
    "    image = morphological_operations(image, method=morph_method)\n",
    "    image = edge_detection(image, method=edge_method)\n",
    "\n",
    "    # You can use any evaluation method here (e.g., image quality metrics, model accuracy, etc.)\n",
    "    # For simplicity, let's assume a placeholder evaluation metric based on SSIM or text detection score\n",
    "    score = evaluate_image_quality(image)  # Replace with actual evaluation code\n",
    "    return score\n",
    "\n",
    "def optimize_preprocessing(image):\n",
    "    \"\"\"\n",
    "    Optimize preprocessing steps by trying different combinations of techniques.\n",
    "    \"\"\"\n",
    "    best_score = -float('inf')\n",
    "    best_combination = None\n",
    "\n",
    "    # Iterate through all combinations of methods\n",
    "    for noise_method, hist_method, binarize_method, morph_method, edge_method in itertools.product(\n",
    "            noise_methods, histogram_methods, binarization_methods, morphological_methods, edge_detection_methods):\n",
    "\n",
    "        # Evaluate each combination\n",
    "        score = evaluate_combination(image, noise_method, hist_method, binarize_method, morph_method, edge_method)\n",
    "\n",
    "        # Keep track of the best combination\n",
    "        if score > best_score:\n",
    "            best_score = score\n",
    "            best_combination = (noise_method, hist_method, binarize_method, morph_method, edge_method)\n",
    "\n",
    "    print(f\"Best combination: {best_combination} with score: {best_score}\")\n",
    "    return best_combination"
   ]
  }
 ],
 "metadata": {
  "kernelspec": {
   "display_name": "Python 3",
   "language": "python",
   "name": "python3"
  },
  "language_info": {
   "codemirror_mode": {
    "name": "ipython",
    "version": 2
   },
   "file_extension": ".py",
   "mimetype": "text/x-python",
   "name": "python",
   "nbconvert_exporter": "python",
   "pygments_lexer": "ipython2",
   "version": "2.7.6"
  }
 },
 "nbformat": 4,
 "nbformat_minor": 5
}
