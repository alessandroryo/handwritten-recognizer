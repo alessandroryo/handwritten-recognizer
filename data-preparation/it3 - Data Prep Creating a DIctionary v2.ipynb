{
 "cells": [
  {
   "cell_type": "markdown",
   "source": [
    "# It3 - Creating the numerical dictionary V2"
   ],
   "metadata": {
    "collapsed": false
   },
   "id": "c399c5e339705232"
  },
  {
   "cell_type": "markdown",
   "source": [
    "## Importing libraries"
   ],
   "metadata": {
    "collapsed": false
   },
   "id": "4e2affc5b0e8956e"
  },
  {
   "cell_type": "code",
   "outputs": [],
   "source": [
    "import os\n",
    "import cv2\n",
    "import numpy as np\n",
    "import matplotlib.pyplot as plt\n"
   ],
   "metadata": {
    "collapsed": false
   },
   "id": "d3f219c74d0172c5",
   "execution_count": null
  },
  {
   "cell_type": "markdown",
   "source": [
    "## Functions to load the images and the templates (masks)"
   ],
   "metadata": {
    "collapsed": false
   },
   "id": "1d05fef4f2fac5a2"
  },
  {
   "cell_type": "code",
   "outputs": [],
   "source": [
    "def load_images_from_folder(folder_path):\n",
    "    images = []\n",
    "    image_ids = []\n",
    "\n",
    "    # Iterate through all files in the given folder\n",
    "    for filename in os.listdir(folder_path):\n",
    "        if filename.endswith(\".JPG\") or filename.endswith(\".png\"):\n",
    "            # Load the image using OpenCV\n",
    "            image_path = os.path.join(folder_path, filename)\n",
    "            image = cv2.imread(image_path)\n",
    "\n",
    "            # Extract the image ID from the filename\n",
    "            image_id = os.path.splitext(filename)[0]  # Remove file extension to get the ID\n",
    "\n",
    "            # Append the image and its ID to the respective lists\n",
    "            images.append(image)\n",
    "            image_ids.append(image_id)\n",
    "\n",
    "    return images, image_ids\n"
   ],
   "metadata": {
    "collapsed": false
   },
   "id": "820bd75b13a045ae",
   "execution_count": null
  },
  {
   "cell_type": "code",
   "outputs": [],
   "source": [
    "def load_templates(template_folder_path):\n",
    "    templates = {}\n",
    "\n",
    "    for subfolder in ['cell', 'row', 'column']:\n",
    "        subfolder_path = os.path.join(template_folder_path, subfolder)\n",
    "        template_list = []\n",
    "\n",
    "        # Iterate through all files in the subfolder\n",
    "        for filename in os.listdir(subfolder_path):\n",
    "            if filename.endswith(\".jpg\") or filename.endswith(\".png\"):\n",
    "                # Load the template using OpenCV\n",
    "                template_path = os.path.join(subfolder_path, filename)\n",
    "                template = cv2.imread(template_path, cv2.IMREAD_GRAYSCALE)\n",
    "\n",
    "                # Append the template to the list\n",
    "                template_list.append(template)\n",
    "\n",
    "        templates[subfolder] = template_list\n",
    "\n",
    "    return templates"
   ],
   "metadata": {
    "collapsed": false
   },
   "id": "18070369cc153584",
   "execution_count": null
  },
  {
   "cell_type": "markdown",
   "source": [
    "## Creating the Digit Object"
   ],
   "metadata": {
    "collapsed": false
   },
   "id": "b0ae840a3b91bb93"
  },
  {
   "cell_type": "code",
   "outputs": [],
   "source": [
    "class DigitObject:\n",
    "    def __init__(self, digit_image, cell_number, width, length, x_min, x_max, y_min, y_max, prediction=None):\n",
    "        self.digit_image = digit_image\n",
    "        self.cell_number = cell_number\n",
    "        self.width = width\n",
    "        self.length = length\n",
    "        self.x_min = x_min\n",
    "        self.x_max = x_max\n",
    "        self.y_min = y_min\n",
    "        self.y_max = y_max\n",
    "        self.prediction = prediction\n",
    "\n",
    "    def to_dict(self):\n",
    "        return {\n",
    "            'digit_image': self.digit_image,\n",
    "            'cell_number': self.cell_number,\n",
    "            'width': self.width,\n",
    "            'length': self.length,\n",
    "            'x_min': self.x_min,\n",
    "            'x_max': self.x_max,\n",
    "            'y_min': self.y_min,\n",
    "            'y_max': self.y_max,\n",
    "            'prediction': self.prediction\n",
    "        }\n",
    "\n"
   ],
   "metadata": {
    "collapsed": false
   },
   "id": "f9d072de313dc47d",
   "execution_count": null
  },
  {
   "cell_type": "markdown",
   "source": [
    "## Functions for image cropping and detection (Cells and Digits)"
   ],
   "metadata": {
    "collapsed": false
   },
   "id": "9ec3b53035409ff4"
  },
  {
   "cell_type": "markdown",
   "source": [
    "### Cells"
   ],
   "metadata": {
    "collapsed": false
   },
   "id": "15fcb39c6ba3f2d0"
  },
  {
   "cell_type": "code",
   "outputs": [],
   "source": [
    "def extract_cells_with_improved_sorting(image, column_template, row_template, cell_template, columns_of_interest=['A', 'C', 'D', 'E']):\n",
    "    \"\"\"\n",
    "    Extract cells from the image using the column, row, and cell masks and organize them by column and row.\n",
    "    \"\"\"\n",
    "    # Step 1: Detect Columns\n",
    "    column_contours, _ = cv2.findContours(column_template, cv2.RETR_EXTERNAL, cv2.CHAIN_APPROX_SIMPLE)\n",
    "\n",
    "    # Sort columns using centroid (left to right)\n",
    "    column_contours = sorted(column_contours, key=lambda c: cv2.boundingRect(c)[0])\n",
    "\n",
    "    # Map column names to indices (A, B, C, D, E)\n",
    "    column_names = ['A', 'B', 'C', 'D', 'E']\n",
    "    column_bboxes = {}\n",
    "\n",
    "    for idx, contour in enumerate(column_contours):\n",
    "        if idx < len(column_names):\n",
    "            col_name = column_names[idx]\n",
    "            if col_name in columns_of_interest:\n",
    "                x, y, w, h = cv2.boundingRect(contour)\n",
    "                column_bboxes[col_name] = (x, y, w, h)\n",
    "\n",
    "    # Step 2: Detect Rows\n",
    "    row_contours, _ = cv2.findContours(row_template, cv2.RETR_EXTERNAL, cv2.CHAIN_APPROX_SIMPLE)\n",
    "    row_contours = sorted(row_contours, key=lambda c: cv2.boundingRect(c)[1])  # Sort rows top-to-bottom\n",
    "\n",
    "    # Get bounding boxes for rows\n",
    "    row_bboxes = []\n",
    "    for contour in row_contours:\n",
    "        x, y, w, h = cv2.boundingRect(contour)\n",
    "        row_bboxes.append((x, y, w, h))\n",
    "\n",
    "    # Step 3: Detect Cells Using Cell Mask\n",
    "    image_gray = cv2.cvtColor(image, cv2.COLOR_BGR2GRAY) if len(image.shape) == 3 else image\n",
    "    _, binary_image = cv2.threshold(image_gray, 127, 255, cv2.THRESH_BINARY)\n",
    "    _, binary_cell_template = cv2.threshold(cell_template, 127, 255, cv2.THRESH_BINARY)\n",
    "    cell_contours, _ = cv2.findContours(binary_cell_template, cv2.RETR_EXTERNAL, cv2.CHAIN_APPROX_SIMPLE)\n",
    "\n",
    "    # Sort cell contours by row first and then by column to maintain proper order\n",
    "    cell_contours = sorted(cell_contours, key=lambda c: (cv2.boundingRect(c)[1], cv2.boundingRect(c)[0]))\n",
    "\n",
    "    cells = {}\n",
    "\n",
    "    # Step 4: Assign Cells to Columns and Rows\n",
    "    for contour in cell_contours:\n",
    "        x, y, w, h = cv2.boundingRect(contour)\n",
    "        cropped_cell = binary_image[y:y + h, x:x + w]\n",
    "\n",
    "        # Find the corresponding column by checking if the centroid lies within a column bounding box\n",
    "        centroid_x = x + w // 2\n",
    "        column_assigned = None\n",
    "        for col_name, (col_x, col_y, col_w, col_h) in column_bboxes.items():\n",
    "            if col_x <= centroid_x <= col_x + col_w:\n",
    "                column_assigned = col_name\n",
    "                break\n",
    "\n",
    "        # Find the corresponding row by checking if the centroid lies within a row bounding box\n",
    "        centroid_y = y + h // 2\n",
    "        row_assigned = None\n",
    "        for row_idx, (row_x, row_y, row_w, row_h) in enumerate(row_bboxes):\n",
    "            if row_y <= centroid_y <= row_y + row_h:\n",
    "                row_assigned = row_idx + 1\n",
    "                break\n",
    "\n",
    "        # Assign the cell if both column and row are determined\n",
    "        if column_assigned is not None and row_assigned is not None:\n",
    "            cell_number = f\"{column_assigned}{row_assigned}\"\n",
    "\n",
    "            if column_assigned not in cells:\n",
    "                cells[column_assigned] = []\n",
    "\n",
    "            cells[column_assigned].append((cell_number, cropped_cell))\n",
    "\n",
    "            # Visualize each cell (optional)\n",
    "            # plt.figure(figsize=(5, 5))\n",
    "            # plt.imshow(cropped_cell, cmap='gray')\n",
    "            # plt.title(f'Cropped Cell {cell_number}')\n",
    "            # plt.show()\n",
    "\n",
    "    return cells\n"
   ],
   "metadata": {
    "collapsed": false
   },
   "id": "ff6a3cc0b73dc35a",
   "execution_count": null
  },
  {
   "cell_type": "markdown",
   "source": [
    "### Digits"
   ],
   "metadata": {
    "collapsed": false
   },
   "id": "4df133154e4673f"
  },
  {
   "cell_type": "code",
   "outputs": [],
   "source": [
    "def extract_digits_from_cells(cells, output_folder):\n",
    "    \"\"\"\n",
    "    Extract digits from each cell, create DigitObject instances, and save them in a dictionary.\n",
    "    \n",
    "    Args:\n",
    "    - cells: Dictionary containing cells organized by columns.\n",
    "    - output_folder: Path to the output folder to save digit images.\n",
    "    \n",
    "    Returns:\n",
    "    - digit_objects: Dictionary containing DigitObject instances categorized by column and cell.\n",
    "    \"\"\"\n",
    "    # Ensure the output directory exists\n",
    "    os.makedirs(output_folder, exist_ok=True)\n",
    "\n",
    "    # Dictionary to store digit objects\n",
    "    digit_objects = {}\n",
    "\n",
    "    # Iterate through each column and cell\n",
    "    for col_name, cell_list in cells.items():\n",
    "        for cell_number, cell in cell_list:\n",
    "            # Convert cell to grayscale if needed and apply adaptive threshold\n",
    "            cell_gray = cv2.cvtColor(cell, cv2.COLOR_BGR2GRAY) if len(cell.shape) == 3 else cell\n",
    "\n",
    "            # Use adaptive threshold to create a binary image\n",
    "            binary_cell = cv2.adaptiveThreshold(\n",
    "                cell_gray, 255, cv2.ADAPTIVE_THRESH_GAUSSIAN_C, cv2.THRESH_BINARY_INV, 15, 10\n",
    "            )\n",
    "\n",
    "            # Apply morphological operations to clean up the image\n",
    "            kernel = np.ones((3, 3), np.uint8)\n",
    "            binary_cell = cv2.morphologyEx(binary_cell, cv2.MORPH_CLOSE, kernel)  # Close gaps\n",
    "            binary_cell = cv2.dilate(binary_cell, kernel, iterations=1)  # Dilate to separate digits\n",
    "\n",
    "            # Find contours to detect digits\n",
    "            digit_contours, _ = cv2.findContours(binary_cell, cv2.RETR_EXTERNAL, cv2.CHAIN_APPROX_SIMPLE)\n",
    "\n",
    "            # Sort contours from left to right\n",
    "            digit_contours = sorted(digit_contours, key=lambda c: cv2.boundingRect(c)[0])\n",
    "\n",
    "            # Iterate over each contour to extract digits\n",
    "            for digit_idx, contour in enumerate(digit_contours):\n",
    "                x, y, w, h = cv2.boundingRect(contour)\n",
    "\n",
    "                # Apply filtering to avoid very small or large regions being mistaken as digits\n",
    "                cell_height, cell_width = cell.shape[:2]\n",
    "                if 0.25 * cell_height < h < cell_height and 0.05 * cell_width < w < cell_width:\n",
    "                    # Expand the bounding box slightly to avoid cutting off parts of digits\n",
    "                    padding_x = int(0.1 * w)  # 10% of width as padding\n",
    "                    padding_y = int(0.1 * h)  # 10% of height as padding\n",
    "                    x_min = max(0, x - padding_x)\n",
    "                    y_min = max(0, y - padding_y)\n",
    "                    x_max = min(cell_width, x + w + padding_x)\n",
    "                    y_max = min(cell_height, y + h + padding_y)\n",
    "\n",
    "                    # Crop the digit from the binary cell image\n",
    "                    digit = binary_cell[y_min:y_max, x_min:x_max]\n",
    "\n",
    "                    # Resize to 28x28 for consistency\n",
    "                    digit_resized = cv2.resize(digit, (28, 28), interpolation=cv2.INTER_AREA)\n",
    "\n",
    "                    # Create a DigitObject and populate with relevant details\n",
    "                    digit_obj = DigitObject(\n",
    "                        digit_image=digit_resized,\n",
    "                        cell_number=cell_number,\n",
    "                        width=28,\n",
    "                        length=28,\n",
    "                        x_min=x_min,\n",
    "                        x_max=x_max,\n",
    "                        y_min=y_min,\n",
    "                        y_max=y_max,\n",
    "                        prediction=None  # Placeholder for prediction, can be updated after model inference\n",
    "                    )\n",
    "\n",
    "                    # Store the digit object in a dictionary\n",
    "                    if col_name not in digit_objects:\n",
    "                        digit_objects[col_name] = []\n",
    "                    digit_objects[col_name].append(digit_obj)\n",
    "\n",
    "                    # Save the digit image to the output folder\n",
    "                    digit_filename = f\"{cell_number}_digit{digit_idx + 1}.png\"\n",
    "                    digit_path = os.path.join(output_folder, digit_filename)\n",
    "                    cv2.imwrite(digit_path, digit_resized)\n",
    "\n",
    "                    # Optional: Visualize each digit\n",
    "                    # plt.figure(figsize=(2, 2))\n",
    "                    # plt.imshow(digit_resized, cmap='gray')\n",
    "                    # plt.title(f\"Digit from {cell_number}, Digit {digit_idx + 1}\")\n",
    "                    # plt.show()\n",
    "\n",
    "    return digit_objects\n"
   ],
   "metadata": {
    "collapsed": false
   },
   "id": "57cae085dfd62b30",
   "execution_count": null
  },
  {
   "cell_type": "markdown",
   "source": [
    "## Running everything"
   ],
   "metadata": {
    "collapsed": false
   },
   "id": "bc791e5fb262a1e7"
  },
  {
   "cell_type": "markdown",
   "source": [
    "### Loading the images"
   ],
   "metadata": {
    "collapsed": false
   },
   "id": "569397e020fa377a"
  },
  {
   "cell_type": "code",
   "outputs": [],
   "source": [
    "folder_path = \"../data/sub60Cropped\"\n",
    "images, image_ids = load_images_from_folder(folder_path)\n",
    "\n",
    "# Example of printing loaded images and their IDs\n",
    "print(f\"Loaded {len(images)} images\")\n",
    "# for img_id in image_ids:\n",
    "#     print(f\"Loaded Image ID: {img_id}\")\n",
    "    "
   ],
   "metadata": {
    "collapsed": false
   },
   "id": "81d558c2501f4a10",
   "execution_count": null
  },
  {
   "cell_type": "markdown",
   "source": [
    "### Loading the templates (masks)"
   ],
   "metadata": {
    "collapsed": false
   },
   "id": "f5379566fdecd200"
  },
  {
   "cell_type": "code",
   "outputs": [],
   "source": [
    "template_folder_path = '../data/Cropped Masks'\n",
    "templates = load_templates(template_folder_path)"
   ],
   "metadata": {
    "collapsed": false
   },
   "id": "e68a087d20d33e80",
   "execution_count": null
  },
  {
   "cell_type": "markdown",
   "source": [
    "### Extracting the digits using the masks"
   ],
   "metadata": {
    "collapsed": false
   },
   "id": "fe9e230f3289bac5"
  },
  {
   "cell_type": "code",
   "outputs": [],
   "source": [
    "output_folder = './Data/It3/digits'\n",
    "all_digit_objects = {}\n",
    "# min(60, len(images))\n",
    "for i in range(min(60, len(images))):\n",
    "    image = images[i]\n",
    "    image_id = image_ids[i]\n",
    "\n",
    "    # Load the corresponding templates for each image\n",
    "    column_template = templates['column'][i] if i < len(templates['column']) else templates['column'][-1]\n",
    "    row_template = templates['row'][i] if i < len(templates['row']) else templates['row'][-1]\n",
    "    cell_template = templates['cell'][i] if i < len(templates['cell']) else templates['cell'][-1]\n",
    "\n",
    "    # plt.figure(figsize=(5, 5))\n",
    "    # plt.imshow(image, cmap='gray')\n",
    "    # plt.title(f'image {image_id}')\n",
    "    # plt.show()\n",
    "    # \n",
    "    # plt.figure(figsize=(5, 5))\n",
    "    # plt.imshow(column_template, cmap='gray')\n",
    "    # plt.title(f'column_template')\n",
    "    # plt.show()\n",
    "    # \n",
    "    # plt.figure(figsize=(5, 5))\n",
    "    # plt.imshow(row_template, cmap='gray')\n",
    "    # plt.title(f'row_template')\n",
    "    # plt.show()\n",
    "    # \n",
    "    # plt.figure(figsize=(5, 5))\n",
    "    # plt.imshow(cell_template, cmap='gray')\n",
    "    # plt.title(f'cell_template')\n",
    "    # plt.show()\n",
    "\n",
    "\n",
    "    # Step 1: Detect all columns (A, B, C, D, E) from the image\n",
    "    # columns = detect_columns(image, column_template)\n",
    "\n",
    "    # Step 2: Detect all rows from the image\n",
    "    # rows = detect_rows(image, row_template)\n",
    "\n",
    "    # Step 3: Extract cells using the detected columns and rows\n",
    "    cells = extract_cells_with_improved_sorting(image, column_template, row_template, cell_template)\n",
    "\n",
    "    # Step 4: Extract digits from the cells and create digit objects\n",
    "    digit_objects = extract_digits_from_cells(cells, output_folder)\n",
    "\n",
    "    # Store the digit objects for each image in a larger dictionary\n",
    "    all_digit_objects[image_id] = digit_objects\n"
   ],
   "metadata": {
    "collapsed": false
   },
   "id": "4b5393346625760c",
   "execution_count": null
  },
  {
   "cell_type": "markdown",
   "source": [
    "### Printing the dictionary for checkups"
   ],
   "metadata": {
    "collapsed": false
   },
   "id": "922ef8682ff34d74"
  },
  {
   "cell_type": "code",
   "outputs": [],
   "source": [
    "# for image_id, columns in all_digit_objects.items():\n",
    "#     print(f\"Image ID: {image_id}\")\n",
    "#     for column_name, digit_list in columns.items():\n",
    "#         print(f\"  Column: {column_name}\")\n",
    "#         for digit_obj in digit_list:\n",
    "#             # Print each attribute of the DigitObject instance\n",
    "#             print(f\"    Cell Number: {digit_obj.cell_number}\")\n",
    "#             print(f\"    Width: {digit_obj.width}\")\n",
    "#             print(f\"    Length: {digit_obj.length}\")\n",
    "#             print(f\"    X Min: {digit_obj.x_min}\")\n",
    "#             print(f\"    X Max: {digit_obj.x_max}\")\n",
    "#             print(f\"    Y Min: {digit_obj.y_min}\")\n",
    "#             print(f\"    Y Max: {digit_obj.y_max}\")\n",
    "#             print(f\"    Prediction: {digit_obj.prediction}\")\n",
    "# \n",
    "#             # If you want to display the digit image\n",
    "#             plt.figure(figsize=(2, 2))\n",
    "#             plt.imshow(digit_obj.digit_image, cmap='gray')  # Assuming you saved the cropped image in `digit_obj.image`\n",
    "#             plt.title(f\"Digit in {digit_obj.cell_number}\")\n",
    "#             plt.show()\n"
   ],
   "metadata": {
    "collapsed": false
   },
   "id": "c7d1ac76ead16c24",
   "execution_count": null
  },
  {
   "cell_type": "code",
   "outputs": [],
   "source": [
    "# Check the total number of images processed\n",
    "num_images_processed = len(all_digit_objects)\n",
    "print(f\"Number of images processed: {num_images_processed}\")\n",
    "\n",
    "# Verify that we have data for each of the 60 images\n",
    "if num_images_processed == 60:\n",
    "    print(\"All 60 images were processed successfully.\")\n",
    "else:\n",
    "    print(f\"Warning: Only {num_images_processed} images were processed out of 60.\")\n",
    "\n",
    "# Check the length of digit objects for each image\n",
    "for image_id, columns in all_digit_objects.items():\n",
    "    total_digits = sum(len(digits) for digits in columns.values())\n",
    "    print(f\"Image ID: {image_id}, Total Digits Extracted: {total_digits}\")\n",
    "\n",
    "# Alternatively, you can count the total number of digit objects across all images\n",
    "total_digits_all_images = sum(\n",
    "    len(digit_list) for columns in all_digit_objects.values() for digit_list in columns.values()\n",
    ")\n",
    "print(f\"Total number of digit objects extracted from all images: {total_digits_all_images}\")\n"
   ],
   "metadata": {
    "collapsed": false
   },
   "id": "f1c91cdc9dfaefec",
   "execution_count": null
  },
  {
   "cell_type": "markdown",
   "source": [
    "### Saving the dictionary"
   ],
   "metadata": {
    "collapsed": false
   },
   "id": "7a2e57e9dfefa9f3"
  },
  {
   "cell_type": "code",
   "outputs": [],
   "source": [
    "import os\n",
    "import json\n",
    "import cv2\n",
    "\n",
    "output_folder = 'Data/It3/digit_images'\n",
    "os.makedirs(output_folder, exist_ok=True)\n",
    "\n",
    "# Dictionary to store the metadata of all_digit_objects without the images\n",
    "exportable_metadata = {}\n",
    "\n",
    "for image_id, columns in all_digit_objects.items():\n",
    "    exportable_metadata[image_id] = {}\n",
    "\n",
    "    for col_name, digit_list in columns.items():\n",
    "        exportable_metadata[image_id][col_name] = []\n",
    "\n",
    "        for digit_idx, digit_obj in enumerate(digit_list):\n",
    "            # Save the image as a separate file\n",
    "            image_filename = f\"{image_id}_{col_name}_digit{digit_idx + 1}.png\"\n",
    "            image_path = os.path.join(output_folder, image_filename)\n",
    "            cv2.imwrite(image_path, digit_obj.digit_image)\n",
    "\n",
    "            # Prepare metadata without the image itself\n",
    "            metadata = {\n",
    "                'cell_number': digit_obj.cell_number,\n",
    "                'width': digit_obj.width,\n",
    "                'length': digit_obj.length,\n",
    "                'x_min': digit_obj.x_min,\n",
    "                'x_max': digit_obj.x_max,\n",
    "                'y_min': digit_obj.y_min,\n",
    "                'y_max': digit_obj.y_max,\n",
    "                'prediction': digit_obj.prediction,\n",
    "                'image_path': image_path  # Store the path to the image\n",
    "            }\n",
    "\n",
    "            exportable_metadata[image_id][col_name].append(metadata)\n",
    "\n",
    "# Save the metadata dictionary as a JSON file\n",
    "with open('Data/It3/all_digit_objects_metadata.json', 'w') as json_file:\n",
    "    json.dump(exportable_metadata, json_file, indent=4)\n",
    "\n",
    "print(\"Dictionary and images saved successfully.\")\n"
   ],
   "metadata": {
    "collapsed": false
   },
   "id": "4a5ad46075f17c8",
   "execution_count": null
  },
  {
   "cell_type": "code",
   "outputs": [],
   "source": [],
   "metadata": {
    "collapsed": false
   },
   "id": "5366e00425db79e2"
  }
 ],
 "metadata": {
  "kernelspec": {
   "display_name": "Python 3",
   "language": "python",
   "name": "python3"
  },
  "language_info": {
   "codemirror_mode": {
    "name": "ipython",
    "version": 2
   },
   "file_extension": ".py",
   "mimetype": "text/x-python",
   "name": "python",
   "nbconvert_exporter": "python",
   "pygments_lexer": "ipython2",
   "version": "2.7.6"
  }
 },
 "nbformat": 4,
 "nbformat_minor": 5
}
