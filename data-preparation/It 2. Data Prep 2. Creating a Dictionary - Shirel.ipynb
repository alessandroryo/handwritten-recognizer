{
 "cells": [
  {
   "cell_type": "code",
   "execution_count": null,
   "id": "139ba8e0df88f0b",
   "metadata": {
    "collapsed": false
   },
   "outputs": [],
   "source": [
    "import cv2\n",
    "import numpy as np\n",
    "import os\n",
    "import xml.etree.ElementTree as ET\n",
    "import matplotlib.pyplot as plt"
   ]
  },
  {
   "cell_type": "code",
   "outputs": [],
   "source": [
    "def load_images_from_folder(folder_path):\n",
    "    images = []\n",
    "    image_ids = []\n",
    "\n",
    "    # Iterate through all files in the given folder\n",
    "    for filename in os.listdir(folder_path):\n",
    "        if filename.endswith(\".jpg\") or filename.endswith(\".png\"):\n",
    "            # Load the image using OpenCV\n",
    "            image_path = os.path.join(folder_path, filename)\n",
    "            image = cv2.imread(image_path)\n",
    "\n",
    "            # Extract the image ID from the filename\n",
    "            image_id = os.path.splitext(filename)[0]  # Remove file extension to get the ID\n",
    "\n",
    "            # Append the image and its ID to the respective lists\n",
    "            images.append(image)\n",
    "            image_ids.append(image_id)\n",
    "\n",
    "    return images, image_ids\n"
   ],
   "metadata": {
    "collapsed": false
   },
   "id": "9b10c68a345835a9",
   "execution_count": null
  },
  {
   "cell_type": "code",
   "outputs": [],
   "source": [
    "# Usage\n",
    "folder_path = \"Data/It2/Fine_Tuned_Flow\"\n",
    "images, image_ids = load_images_from_folder(folder_path)\n",
    "\n",
    "# Example of printing loaded images and their IDs\n",
    "print(f\"Loaded {len(images)} images\")\n",
    "for img_id in image_ids:\n",
    "    print(f\"Loaded Image ID: {img_id}\")\n"
   ],
   "metadata": {
    "collapsed": false
   },
   "id": "3318970aca0a9749",
   "execution_count": null
  },
  {
   "cell_type": "code",
   "outputs": [],
   "source": [
    "def crop_to_table_boundaries_flexible(image, xml_path, margin_ratio=0.05):\n",
    "    # Parse XML to find table boundaries\n",
    "    tree = ET.parse(xml_path)\n",
    "    root = tree.getroot()\n",
    "\n",
    "    table_bounds = None\n",
    "    for obj in root.findall('object'):\n",
    "        name = obj.find('name').text\n",
    "        if name == 'table':  # Assuming 'table' is the label for the whole table\n",
    "            bndbox = obj.find('bndbox')\n",
    "            xmin = int(float(bndbox.find('xmin').text))\n",
    "            ymin = int(float(bndbox.find('ymin').text))\n",
    "            xmax = int(float(bndbox.find('xmax').text))\n",
    "            ymax = int(float(bndbox.find('ymax').text))\n",
    "            table_bounds = (xmin, ymin, xmax, ymax)\n",
    "            break\n",
    "\n",
    "    if table_bounds is None:\n",
    "        print(\"Table boundaries not found in XML.\")\n",
    "        return None\n",
    "\n",
    "    # Add a margin to the detected table boundary to handle image variations\n",
    "    img_height, img_width = image.shape[:2]\n",
    "    margin_x = int(margin_ratio * img_width)\n",
    "    margin_y = int(margin_ratio * img_height)\n",
    "\n",
    "    xmin, ymin, xmax, ymax = table_bounds\n",
    "    xmin = max(0, xmin - margin_x)\n",
    "    ymin = max(0, ymin - margin_y)\n",
    "    xmax = min(img_width, xmax + margin_x)\n",
    "    ymax = min(img_height, ymax + margin_y)\n",
    "\n",
    "    cropped_table = image[ymin:ymax, xmin:xmax]\n",
    "\n",
    "    # Visualize cropped table\n",
    "    plt.figure(figsize=(10, 10))\n",
    "    plt.imshow(cropped_table, cmap='gray')\n",
    "    plt.title('Cropped Table (Flexible)')\n",
    "    plt.show()\n",
    "\n",
    "    return cropped_table\n"
   ],
   "metadata": {
    "collapsed": false
   },
   "id": "dceec1b3ac71abfc",
   "execution_count": null
  },
  {
   "cell_type": "code",
   "outputs": [],
   "source": [
    "def crop_leftmost_column(cropped_table):\n",
    "    # Convert to grayscale if the image is not already\n",
    "    if len(cropped_table.shape) == 3:\n",
    "        cropped_table = cv2.cvtColor(cropped_table, cv2.COLOR_BGR2GRAY)\n",
    "\n",
    "    # Apply edge detection to find vertical lines (column boundaries)\n",
    "    edges = cv2.Canny(cropped_table, 50, 150, apertureSize=3)\n",
    "\n",
    "    # Use Hough Line Transform to detect lines\n",
    "    lines = cv2.HoughLinesP(edges, 1, np.pi / 180, threshold=100, minLineLength=100, maxLineGap=10)\n",
    "\n",
    "    # Find the leftmost line that represents the actual left column (ignoring page holes and edges)\n",
    "    leftmost_x = cropped_table.shape[1]  # Initialize to the rightmost possible value\n",
    "    if lines is not None:\n",
    "        for line in lines:\n",
    "            for x1, y1, x2, y2 in line:\n",
    "                if abs(x1 - x2) < 10:  # Vertical line\n",
    "                    # Ignore lines that are too close to the left edge (likely page holes)\n",
    "                    if x1 > 50:  # Assuming page holes are within the first 50 pixels\n",
    "                        leftmost_x = min(leftmost_x, x1)\n",
    "\n",
    "    # Define the bounding box for the leftmost column\n",
    "    col_xmin = max(0, leftmost_x - 10)  # Add some padding to include the full column, but avoid negative values\n",
    "    col_xmax = leftmost_x + int(0.12 * cropped_table.shape[1])  # Dynamically add padding based on image width\n",
    "    col_ymin = 0\n",
    "    col_ymax = cropped_table.shape[0]\n",
    "\n",
    "    # Crop the leftmost column\n",
    "    cropped_column = cropped_table[col_ymin:col_ymax, col_xmin:col_xmax]\n",
    "\n",
    "    # Visualize the cropped leftmost column\n",
    "    plt.figure(figsize=(10, 10))\n",
    "    plt.imshow(cropped_column, cmap='gray')\n",
    "    plt.title('Cropped Leftmost Column (Improved)')\n",
    "    plt.show()\n",
    "\n",
    "    return cropped_column\n"
   ],
   "metadata": {
    "collapsed": false
   },
   "id": "701fa327f91c415c",
   "execution_count": null
  },
  {
   "cell_type": "code",
   "outputs": [],
   "source": [
    "def extract_rows_from_column(cropped_column, xml_path):\n",
    "    # Convert to grayscale if the image is not already\n",
    "    if len(cropped_column.shape) == 3:\n",
    "        cropped_column = cv2.cvtColor(cropped_column, cv2.COLOR_BGR2GRAY)\n",
    "\n",
    "    # Parse the XML file to extract row boundaries\n",
    "    tree = ET.parse(xml_path)\n",
    "    root = tree.getroot()\n",
    "\n",
    "    row_boundaries = []\n",
    "    for obj in root.findall('object'):\n",
    "        name = obj.find('name').text\n",
    "        if name == 'row':\n",
    "            bndbox = obj.find('bndbox')\n",
    "            ymin = int(float(bndbox.find('ymin').text))\n",
    "            ymax = int(float(bndbox.find('ymax').text))\n",
    "            row_boundaries.append((ymin, ymax))\n",
    "\n",
    "    # Sort row boundaries by their position\n",
    "    row_boundaries = sorted(row_boundaries, key=lambda x: x[0])\n",
    "\n",
    "    # Crop each row and visualize\n",
    "    rows = []\n",
    "    for i, (ymin, ymax) in enumerate(row_boundaries):\n",
    "        cropped_row = cropped_column[ymin:ymax, :]\n",
    "        rows.append(cropped_row)\n",
    "\n",
    "        # Visualize each cropped row\n",
    "        plt.figure(figsize=(10, 2))\n",
    "        plt.imshow(cropped_row, cmap='gray')\n",
    "        plt.title(f'Cropped Row {i + 1}')\n",
    "        plt.show()\n",
    "\n",
    "    return rows"
   ],
   "metadata": {
    "collapsed": false
   },
   "id": "ced2ded3baca6c81",
   "execution_count": null
  },
  {
   "cell_type": "code",
   "outputs": [],
   "source": [
    "def extract_digits_from_cells(rows, image_id, output_folder):\n",
    "    # Create the output directory if it does not exist\n",
    "    os.makedirs(output_folder, exist_ok=True)\n",
    "\n",
    "    # Loop over each row\n",
    "    for row_idx, row in enumerate(rows):\n",
    "        # Apply a simple threshold to make the image binary\n",
    "        _, binary = cv2.threshold(row, 127, 255, cv2.THRESH_BINARY_INV)\n",
    "\n",
    "        # Find contours to detect digits in the row\n",
    "        contours, _ = cv2.findContours(binary, cv2.RETR_EXTERNAL, cv2.CHAIN_APPROX_SIMPLE)\n",
    "\n",
    "        # List to hold digit images for the current row, sorted by x-coordinate\n",
    "        digit_list = []\n",
    "\n",
    "        for contour_idx, contour in enumerate(contours):\n",
    "            # Extract the bounding box of each contour\n",
    "            x, y, w, h = cv2.boundingRect(contour)\n",
    "\n",
    "            # Filter out too small or too large contours that might be noise\n",
    "            if h > 20 and w < 100:  # Tune these values as needed\n",
    "                digit = binary[y:y+h, x:x+w]\n",
    "\n",
    "                # Resize to 28x28 for consistency\n",
    "                digit_resized = cv2.resize(digit, (28, 28))\n",
    "\n",
    "                # Save the digit with a name that encodes its position\n",
    "                digit_filename = f\"{image_id}_column1_row{row_idx+1}_digit{contour_idx+1}.png\"\n",
    "                digit_path = os.path.join(output_folder, digit_filename)\n",
    "                cv2.imwrite(digit_path, digit_resized)\n",
    "\n",
    "                # Add the digit to the list for this row\n",
    "                digit_list.append((x, digit_path))\n",
    "\n",
    "        # Sort the digit list by the x-coordinate to maintain left-to-right order\n",
    "        digit_list = sorted(digit_list, key=lambda d: d[0])\n",
    "\n",
    "        # Print the number of digits extracted for verification\n",
    "        print(f\"Row {row_idx+1}: {len(digit_list)} digits extracted\")\n"
   ],
   "metadata": {
    "collapsed": false
   },
   "id": "a59ba9679113a0ab",
   "execution_count": null
  },
  {
   "cell_type": "code",
   "outputs": [],
   "source": [
    "def process_images(images, image_ids, xml_paths, output_folder):\n",
    "    all_extracted_digits = {}\n",
    "    for img, img_id, xml_path in zip(images, image_ids, xml_paths):\n",
    "        print(f\"Processing Image ID: {img_id}\")\n",
    "\n",
    "        # Step 1: Crop image to table boundaries\n",
    "        cropped_table = crop_to_table_boundaries_flexible(img, xml_path)\n",
    "        if cropped_table is None:\n",
    "            continue\n",
    "\n",
    "        # Step 2: Crop the leftmost column\n",
    "        cropped_column = crop_leftmost_column(cropped_table)\n",
    "        if cropped_column is None:\n",
    "            continue\n",
    "\n",
    "        # Step 3: Extract rows from the leftmost column\n",
    "        row_images = extract_rows_from_column(cropped_column, xml_path)\n",
    "        if not row_images:\n",
    "            continue\n",
    "        \n",
    "        # # Step 4: Extract digits from each cell and save them\n",
    "        extracted_digits = extract_digits_from_cells(row_images, img_id, output_folder)\n",
    "        all_extracted_digits.update(extracted_digits)\n",
    "\n",
    "    return all_extracted_digits\n"
   ],
   "metadata": {
    "collapsed": false
   },
   "id": "55073291c29ef0e6",
   "execution_count": null
  },
  {
   "cell_type": "code",
   "outputs": [],
   "source": [
    "# Example usage\n",
    "xml_paths = [\"../data/DSC00923.xml\"] # Add all XML paths here\n",
    "output_folder = \"Data/it2/FinalDigits\"\n",
    "extracted_digits = process_images(images, image_ids, xml_paths, output_folder)\n"
   ],
   "metadata": {
    "collapsed": false
   },
   "id": "a42600e2b10a4dc8",
   "execution_count": null
  },
  {
   "cell_type": "code",
   "outputs": [],
   "source": [],
   "metadata": {
    "collapsed": false
   },
   "id": "431c5bf78f83248e"
  }
 ],
 "metadata": {
  "kernelspec": {
   "display_name": "Python 3",
   "language": "python",
   "name": "python3"
  },
  "language_info": {
   "codemirror_mode": {
    "name": "ipython",
    "version": 2
   },
   "file_extension": ".py",
   "mimetype": "text/x-python",
   "name": "python",
   "nbconvert_exporter": "python",
   "pygments_lexer": "ipython2",
   "version": "2.7.6"
  }
 },
 "nbformat": 4,
 "nbformat_minor": 5
}
