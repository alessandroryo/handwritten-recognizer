{
 "cells": [
  {
   "cell_type": "markdown",
   "id": "eaf961f9",
   "metadata": {},
   "source": [
    "# Iteration 1 - Data Preparation Flows\n",
    "\n",
    "> **Dataset**: Handwritten Dataset (Client)<br/>\n",
    "> **Creator**: Naomi"
   ]
  },
  {
   "cell_type": "markdown",
   "id": "0c9cf686",
   "metadata": {},
   "source": [
    "### Import Libraries"
   ]
  },
  {
   "cell_type": "code",
   "execution_count": 1,
   "id": "initial_id",
   "metadata": {
    "ExecuteTime": {
     "end_time": "2024-10-07T14:49:10.529123Z",
     "start_time": "2024-10-07T14:49:10.214440Z"
    },
    "collapsed": true
   },
   "outputs": [],
   "source": [
    "import cv2\n",
    "import os\n",
    "from pathlib import Path"
   ]
  },
  {
   "cell_type": "markdown",
   "id": "e1d5aa9785036498",
   "metadata": {},
   "source": [
    "### Global Variables"
   ]
  },
  {
   "cell_type": "code",
   "execution_count": 2,
   "id": "df6fe04b191886f6",
   "metadata": {
    "ExecuteTime": {
     "end_time": "2024-10-07T15:19:14.199729Z",
     "start_time": "2024-10-07T15:19:14.193588Z"
    }
   },
   "outputs": [
    {
     "name": "stdout",
     "output_type": "stream",
     "text": [
      "Directory ..\\data\\modified-photos\\noise-reduction\\gaussian is ready.\n",
      "Directory ..\\data\\modified-photos\\noise-reduction\\median is ready.\n",
      "Directory ..\\data\\modified-photos\\histogram-equalization\\clahe is ready.\n",
      "Directory ..\\data\\modified-photos\\histogram-equalization\\standard is ready.\n",
      "Directory ..\\data\\modified-photos\\binarization\\global is ready.\n",
      "Directory ..\\data\\modified-photos\\binarization\\otsu is ready.\n",
      "Directory ..\\data\\modified-photos\\binarization\\adaptive is ready.\n",
      "Directory ..\\data\\modified-photos\\binarization\\inv-otsu is ready.\n",
      "Directory ..\\data\\modified-photos\\morphological\\opening is ready.\n",
      "Directory ..\\data\\modified-photos\\morphological\\closing is ready.\n",
      "Directory ..\\data\\modified-photos\\edge-detection\\unsharp-masking is ready.\n",
      "Directory ..\\data\\modified-photos\\edge-detection\\sobel is ready.\n",
      "Directory ..\\data\\modified-photos\\edge-detection\\laplacian is ready.\n"
     ]
    }
   ],
   "source": [
    "# Base folder path\n",
    "base_folder = Path('../data')\n",
    "\n",
    "# Folder for original images\n",
    "folder_path = base_folder / 'original'\n",
    "\n",
    "# Noise reduction folders\n",
    "output_noise_gaussian = base_folder / 'modified-photos/noise-reduction/gaussian'\n",
    "output_noise_median = base_folder / 'modified-photos/noise-reduction/median'\n",
    "\n",
    "# Histogram equalization folders\n",
    "output_hist_clahe = base_folder / 'modified-photos/histogram-equalization/clahe'\n",
    "output_hist_standard = base_folder / 'modified-photos/histogram-equalization/standard'\n",
    "\n",
    "# Binarization folders\n",
    "output_bi_global = base_folder / 'modified-photos/binarization/global'\n",
    "output_bi_otsu = base_folder / 'modified-photos/binarization/otsu'\n",
    "output_bi_adaptive = base_folder / 'modified-photos/binarization/adaptive'\n",
    "output_bi_otsu_inv = base_folder / 'modified-photos/binarization/inv-otsu'\n",
    "\n",
    "# Morphological operations folders\n",
    "output_morphological_opening = base_folder / 'modified-photos/morphological/opening'\n",
    "output_morphological_closing = base_folder / 'modified-photos/morphological/closing'\n",
    "\n",
    "# Edge detection folders\n",
    "output_edge_unsharp = base_folder / 'modified-photos/edge-detection/unsharp-masking'\n",
    "output_edge_sobel = base_folder / 'modified-photos/edge-detection/sobel'\n",
    "output_edge_laplacian = base_folder / 'modified-photos/edge-detection/laplacian'\n",
    "\n",
    "# Function to create all necessary folders if they don't exist\n",
    "def create_output_directories():\n",
    "    output_paths = [\n",
    "        output_noise_gaussian,\n",
    "        output_noise_median,\n",
    "        output_hist_clahe,\n",
    "        output_hist_standard,\n",
    "        output_bi_global,\n",
    "        output_bi_otsu,\n",
    "        output_bi_adaptive,\n",
    "        output_bi_otsu_inv,\n",
    "        output_morphological_opening,\n",
    "        output_morphological_closing,\n",
    "        output_edge_unsharp,\n",
    "        output_edge_sobel,\n",
    "        output_edge_laplacian\n",
    "    ]\n",
    "\n",
    "    for path in output_paths:\n",
    "        path.mkdir(parents=True, exist_ok=True)\n",
    "        print(f\"Directory {path} is ready.\")\n",
    "\n",
    "# Create the necessary directories\n",
    "create_output_directories()"
   ]
  },
  {
   "cell_type": "markdown",
   "id": "86c586ca",
   "metadata": {},
   "source": [
    "## **Data Collection**"
   ]
  },
  {
   "cell_type": "markdown",
   "id": "5e1779decfce5332",
   "metadata": {},
   "source": [
    "### Load Images from Folder"
   ]
  },
  {
   "cell_type": "code",
   "execution_count": 3,
   "id": "be23110657e8f755",
   "metadata": {
    "ExecuteTime": {
     "end_time": "2024-10-07T15:18:53.831269Z",
     "start_time": "2024-10-07T15:18:53.825295Z"
    }
   },
   "outputs": [],
   "source": [
    "def load_images_from_folder(folder_path, extensions=('.png', '.jpg', '.jpeg', '.JPG')):\n",
    "    \n",
    "    # Check if the folder exists\n",
    "    if not os.path.exists(folder_path):\n",
    "        raise FileNotFoundError(f\"The specified folder does not exist: {folder_path}\")\n",
    "\n",
    "    # List comprehension to gather all image paths with the specified extensions\n",
    "    image_paths = [os.path.join(folder_path, f) for f in os.listdir(folder_path) if f.endswith(extensions)]\n",
    "\n",
    "    return image_paths"
   ]
  },
  {
   "cell_type": "markdown",
   "id": "bc493f1867f2faee",
   "metadata": {},
   "source": [
    "### Noise Reduction"
   ]
  },
  {
   "cell_type": "markdown",
   "id": "e5f3811f",
   "metadata": {},
   "source": [
    "#### *Function*"
   ]
  },
  {
   "cell_type": "code",
   "execution_count": 4,
   "id": "5775210733ea4022",
   "metadata": {
    "ExecuteTime": {
     "end_time": "2024-10-07T15:04:12.703449Z",
     "start_time": "2024-10-07T15:04:12.697706Z"
    }
   },
   "outputs": [],
   "source": [
    "def apply_gaussian_blur(image_paths, output_folder, kernel_size=(5, 5), sigma=0):\n",
    "    \"\"\"\n",
    "    Applies Gaussian blur to the input images and saves the results.\n",
    "    \"\"\"\n",
    "    if not os.path.exists(output_folder):\n",
    "        os.makedirs(output_folder)\n",
    "\n",
    "    for image_path in image_paths:\n",
    "        img = cv2.imread(image_path)\n",
    "        if img is None:\n",
    "            print(f\"Error loading image {image_path}\")\n",
    "            continue\n",
    "\n",
    "        blurred_img = cv2.GaussianBlur(img, kernel_size, sigma)\n",
    "        output_path = os.path.join(output_folder, f\"gaussian_{os.path.basename(image_path)}\")\n",
    "        cv2.imwrite(output_path, blurred_img)"
   ]
  },
  {
   "cell_type": "markdown",
   "id": "de2b9b8a4f85ca53",
   "metadata": {},
   "source": [
    "### Histogram Equalization"
   ]
  },
  {
   "cell_type": "markdown",
   "id": "a30bc78e",
   "metadata": {},
   "source": [
    "#### *Function*"
   ]
  },
  {
   "cell_type": "code",
   "execution_count": 5,
   "id": "68b564fcfe556618",
   "metadata": {
    "ExecuteTime": {
     "end_time": "2024-10-07T15:04:15.530311Z",
     "start_time": "2024-10-07T15:04:15.523078Z"
    }
   },
   "outputs": [],
   "source": [
    "def apply_clahe(image_paths, output_folder, clip_limit=2.0, grid_size=(8, 8)):\n",
    "    \"\"\"\n",
    "    Applies CLAHE (Contrast Limited Adaptive Histogram Equalization) to the input images.\n",
    "    \"\"\"\n",
    "    if not os.path.exists(output_folder):\n",
    "        os.makedirs(output_folder)\n",
    "\n",
    "    clahe = cv2.createCLAHE(clipLimit=clip_limit, tileGridSize=grid_size)\n",
    "\n",
    "    for image_path in image_paths:\n",
    "        img = cv2.imread(image_path, cv2.IMREAD_GRAYSCALE)\n",
    "        if img is None:\n",
    "            print(f\"Error loading image {image_path}\")\n",
    "            continue\n",
    "\n",
    "        cl1 = clahe.apply(img)\n",
    "        output_path = os.path.join(output_folder, f'clahe_{os.path.basename(image_path)}')\n",
    "        cv2.imwrite(output_path, cl1)"
   ]
  },
  {
   "cell_type": "markdown",
   "id": "d70b59aa2842821d",
   "metadata": {},
   "source": [
    "### Binarization"
   ]
  },
  {
   "cell_type": "markdown",
   "id": "b74dcd88",
   "metadata": {},
   "source": [
    "#### *Function*"
   ]
  },
  {
   "cell_type": "code",
   "execution_count": 6,
   "id": "1b74782ca12c01f0",
   "metadata": {
    "ExecuteTime": {
     "end_time": "2024-10-07T15:04:18.478062Z",
     "start_time": "2024-10-07T15:04:18.470942Z"
    }
   },
   "outputs": [],
   "source": [
    "def apply_otsu_thresholding_inv(image_paths, output_folder):\n",
    "    \"\"\"\n",
    "    Applies Otsu's thresholding with binary inversion to the input images.\n",
    "    \"\"\"\n",
    "    if not os.path.exists(output_folder):\n",
    "        os.makedirs(output_folder)\n",
    "\n",
    "    for image_path in image_paths:\n",
    "        img = cv2.imread(image_path, cv2.IMREAD_GRAYSCALE)\n",
    "        if img is None:\n",
    "            print(f\"Error loading image {image_path}\")\n",
    "            continue\n",
    "\n",
    "        _, binary_inv = cv2.threshold(img, 0, 255, cv2.THRESH_BINARY_INV + cv2.THRESH_OTSU)\n",
    "        output_path = os.path.join(output_folder, f\"otsu_inv_{os.path.basename(image_path)}\")\n",
    "        cv2.imwrite(output_path, binary_inv)\n"
   ]
  },
  {
   "cell_type": "code",
   "execution_count": 7,
   "id": "49d41fa0e60493fa",
   "metadata": {
    "ExecuteTime": {
     "end_time": "2024-10-07T15:18:30.506478Z",
     "start_time": "2024-10-07T15:18:30.500483Z"
    }
   },
   "outputs": [],
   "source": [
    "def apply_otsu_thresholding(image_paths, output_folder):\n",
    "    \"\"\"\n",
    "    Applies Otsu's thresholding to the input images.\n",
    "    \"\"\"\n",
    "    if not os.path.exists(output_folder):\n",
    "        os.makedirs(output_folder)\n",
    "\n",
    "    for image_path in image_paths:\n",
    "        # Read the image in grayscale\n",
    "        img = cv2.imread(image_path, cv2.IMREAD_GRAYSCALE)\n",
    "        if img is None:\n",
    "            print(f\"Error loading image {image_path}\")\n",
    "            continue\n",
    "\n",
    "        # Apply Otsu's thresholding\n",
    "        _, th2 = cv2.threshold(img, 0, 255, cv2.THRESH_BINARY + cv2.THRESH_OTSU)\n",
    "\n",
    "        # Save the thresholded image\n",
    "        output_path = os.path.join(output_folder, f\"otsu_{os.path.basename(image_path)}\")\n",
    "        cv2.imwrite(output_path, th2)\n"
   ]
  },
  {
   "cell_type": "markdown",
   "id": "6ac5316341f796c0",
   "metadata": {},
   "source": [
    "### Morphological Operations"
   ]
  },
  {
   "cell_type": "code",
   "execution_count": 8,
   "id": "8339df9788d48ad3",
   "metadata": {
    "ExecuteTime": {
     "end_time": "2024-10-07T15:04:21.198971Z",
     "start_time": "2024-10-07T15:04:21.191662Z"
    }
   },
   "outputs": [],
   "source": [
    "def apply_morphological_closing(image_paths, output_folder, kernel_size=(5, 5)):\n",
    "    \"\"\"\n",
    "    Applies morphological closing to the input images.\n",
    "    \"\"\"\n",
    "    if not os.path.exists(output_folder):\n",
    "        os.makedirs(output_folder)\n",
    "\n",
    "    kernel = cv2.getStructuringElement(cv2.MORPH_RECT, kernel_size)\n",
    "\n",
    "    for image_path in image_paths:\n",
    "        img = cv2.imread(image_path, cv2.IMREAD_GRAYSCALE)\n",
    "        if img is None:\n",
    "            print(f\"Error loading image {image_path}\")\n",
    "            continue\n",
    "\n",
    "        closing = cv2.morphologyEx(img, cv2.MORPH_CLOSE, kernel)\n",
    "        output_path = os.path.join(output_folder, f\"closing_{os.path.basename(image_path)}\")\n",
    "        cv2.imwrite(output_path, closing)\n"
   ]
  },
  {
   "cell_type": "code",
   "execution_count": 9,
   "id": "48fadfaafeb97a3e",
   "metadata": {
    "ExecuteTime": {
     "end_time": "2024-10-07T15:18:24.053608Z",
     "start_time": "2024-10-07T15:18:24.046922Z"
    }
   },
   "outputs": [],
   "source": [
    "def apply_morphological_opening(image_paths, output_folder, kernel_size=(5, 5)):\n",
    "    \"\"\"\n",
    "    Applies morphological opening to the input images.\n",
    "    \"\"\"\n",
    "    if not os.path.exists(output_folder):\n",
    "        os.makedirs(output_folder)\n",
    "\n",
    "    kernel = cv2.getStructuringElement(cv2.MORPH_RECT, kernel_size)\n",
    "\n",
    "    for image_path in image_paths:\n",
    "        img = cv2.imread(image_path, cv2.IMREAD_GRAYSCALE)\n",
    "        if img is None:\n",
    "            print(f\"Error loading image {image_path}\")\n",
    "            continue\n",
    "\n",
    "        # Apply morphological opening\n",
    "        opened_img = cv2.morphologyEx(img, cv2.MORPH_OPEN, kernel)\n",
    "\n",
    "        # Save the processed image\n",
    "        output_path = os.path.join(output_folder, f\"opened_{os.path.basename(image_path)}\")\n",
    "        cv2.imwrite(output_path, opened_img)\n",
    " \n"
   ]
  },
  {
   "cell_type": "markdown",
   "id": "c86bbb1dab6b013",
   "metadata": {},
   "source": [
    "### Edge Detection"
   ]
  },
  {
   "cell_type": "markdown",
   "id": "4c9c498c",
   "metadata": {},
   "source": [
    "#### *Function*"
   ]
  },
  {
   "cell_type": "code",
   "execution_count": 10,
   "id": "4a66a6420dd0da6f",
   "metadata": {
    "ExecuteTime": {
     "end_time": "2024-10-07T15:04:24.142502Z",
     "start_time": "2024-10-07T15:04:24.135233Z"
    }
   },
   "outputs": [],
   "source": [
    "def apply_sobel_edge_detection(image_paths, output_folder):\n",
    "    \"\"\"\n",
    "    Applies Sobel edge detection to the input images.\n",
    "    \"\"\"\n",
    "    if not os.path.exists(output_folder):\n",
    "        os.makedirs(output_folder)\n",
    "\n",
    "    for image_path in image_paths:\n",
    "        img = cv2.imread(image_path, cv2.IMREAD_GRAYSCALE)\n",
    "        if img is None:\n",
    "            print(f\"Error loading image {image_path}\")\n",
    "            continue\n",
    "\n",
    "        sobel_x = cv2.Sobel(img, cv2.CV_64F, 1, 0, ksize=3)\n",
    "        sobel_y = cv2.Sobel(img, cv2.CV_64F, 0, 1, ksize=3)\n",
    "        sobel_combined = cv2.magnitude(sobel_x, sobel_y)\n",
    "        sobel_combined = cv2.convertScaleAbs(sobel_combined)\n",
    "\n",
    "        output_path = os.path.join(output_folder, f\"sobel_{os.path.basename(image_path)}\")\n",
    "        cv2.imwrite(output_path, sobel_combined)"
   ]
  },
  {
   "cell_type": "code",
   "execution_count": 11,
   "id": "bccf8d4e90a737e4",
   "metadata": {
    "ExecuteTime": {
     "end_time": "2024-10-07T15:30:22.219680Z",
     "start_time": "2024-10-07T15:30:22.212369Z"
    }
   },
   "outputs": [],
   "source": [
    "def apply_unsharp_masking(image_paths, output_folder, sigma=1.0, strength=1.5):\n",
    "    \"\"\"\n",
    "    Applies unsharp masking to the input images.\n",
    "    \"\"\"\n",
    "    if not os.path.exists(output_folder):\n",
    "        os.makedirs(output_folder)\n",
    "\n",
    "    for image_path in image_paths:\n",
    "        img = cv2.imread(image_path, cv2.IMREAD_GRAYSCALE)\n",
    "        if img is None:\n",
    "            print(f\"Error loading image {image_path}\")\n",
    "            continue\n",
    "\n",
    "        # Apply Gaussian blur to create the mask\n",
    "        blurred = cv2.GaussianBlur(img, (0, 0), sigma)\n",
    "\n",
    "        # Create the unsharp mask\n",
    "        mask = cv2.subtract(img, blurred)\n",
    "\n",
    "        # Enhance the image using the unsharp mask\n",
    "        sharpened = cv2.addWeighted(img, 1 + strength, mask, strength, 0)\n",
    "\n",
    "        # Save the sharpened image\n",
    "        output_path = os.path.join(output_folder, f\"unsharp_{os.path.basename(image_path)}\")\n",
    "        cv2.imwrite(output_path, sharpened)\n"
   ]
  },
  {
   "cell_type": "markdown",
   "id": "9babfe77bf8585ce",
   "metadata": {},
   "source": [
    "## **Data Processing Image Flows**"
   ]
  },
  {
   "cell_type": "markdown",
   "id": "647f43130c12116e",
   "metadata": {},
   "source": [
    "### 1. Flow - Ending with Sobel"
   ]
  },
  {
   "cell_type": "markdown",
   "id": "5ebc6c43",
   "metadata": {},
   "source": [
    "#### *Function*"
   ]
  },
  {
   "cell_type": "code",
   "execution_count": 12,
   "id": "ea0efc5ecee638e9",
   "metadata": {
    "ExecuteTime": {
     "end_time": "2024-10-07T15:04:27.819385Z",
     "start_time": "2024-10-07T15:04:27.810470Z"
    }
   },
   "outputs": [],
   "source": [
    "def process_image_flow_sobel(folder_path, output_noise_gaussian, output_hist_clahe, output_bi_otsu_inv, output_morphological_closing, output_edge_sobel):\n",
    "    # Step 1: Load images\n",
    "    image_paths = load_images_from_folder(folder_path)\n",
    "\n",
    "    # Step 2: Apply Gaussian Blur\n",
    "    apply_gaussian_blur(image_paths, output_noise_gaussian)\n",
    "\n",
    "    # Step 3: Apply CLAHE\n",
    "    blurred_image_paths = load_images_from_folder(output_noise_gaussian)\n",
    "    apply_clahe(blurred_image_paths, output_hist_clahe)\n",
    "\n",
    "    # Step 4: Apply Otsu Thresholding Inverted\n",
    "    clahe_image_paths = load_images_from_folder(output_hist_clahe)\n",
    "    apply_otsu_thresholding_inv(clahe_image_paths, output_bi_otsu_inv)\n",
    "\n",
    "    # Step 5: Apply Morphological Closing\n",
    "    otsu_image_paths = load_images_from_folder(output_bi_otsu_inv)\n",
    "    apply_morphological_closing(otsu_image_paths, output_morphological_closing)\n",
    "\n",
    "    # Step 6: Apply Sobel Edge Detection\n",
    "    morph_image_paths = load_images_from_folder(output_morphological_closing)\n",
    "    apply_sobel_edge_detection(morph_image_paths, output_edge_sobel)"
   ]
  },
  {
   "cell_type": "markdown",
   "id": "d4c0328030c9f7ba",
   "metadata": {},
   "source": [
    "### 2. Flow - Ending with Unsharp"
   ]
  },
  {
   "cell_type": "markdown",
   "id": "57fc0e35",
   "metadata": {},
   "source": [
    "#### *Function*"
   ]
  },
  {
   "cell_type": "code",
   "execution_count": 13,
   "id": "bbef6aa5efb9c66d",
   "metadata": {},
   "outputs": [],
   "source": [
    "def process_image_flow_sharp(folder_path, output_noise_gaussian, output_hist_clahe, output_bi_otsu_inv, output_morphological_closing, output_edge_unsharp):\n",
    "    # Step 1: Load images\n",
    "    image_paths = load_images_from_folder(folder_path)\n",
    "\n",
    "    # Step 2: Apply Gaussian Blur\n",
    "    apply_gaussian_blur(image_paths, output_noise_gaussian)\n",
    "\n",
    "    # Step 3: Apply CLAHE\n",
    "    blurred_image_paths = load_images_from_folder(output_noise_gaussian)\n",
    "    apply_clahe(blurred_image_paths, output_hist_clahe)\n",
    "\n",
    "    # Step 4: Apply Otsu Thresholding Inverted\n",
    "    clahe_image_paths = load_images_from_folder(output_hist_clahe)\n",
    "    apply_otsu_thresholding_inv(clahe_image_paths, output_bi_otsu_inv)\n",
    "\n",
    "    # Step 5: Apply Morphological Closing\n",
    "    otsu_image_paths = load_images_from_folder(output_bi_otsu_inv)\n",
    "    apply_morphological_closing(otsu_image_paths, output_morphological_closing)\n",
    "\n",
    "    # Step 6: Apply Sobel Edge Detection\n",
    "    morph_image_paths = load_images_from_folder(output_morphological_closing)\n",
    "    apply_unsharp_masking(morph_image_paths, output_edge_unsharp)"
   ]
  },
  {
   "cell_type": "markdown",
   "id": "10bb0067496516fc",
   "metadata": {},
   "source": [
    "### 3. Flow - Black (Text) on White (Background) + Ending with Sharp"
   ]
  },
  {
   "cell_type": "markdown",
   "id": "91fd0e9b",
   "metadata": {},
   "source": [
    "#### *Function*"
   ]
  },
  {
   "cell_type": "code",
   "execution_count": 14,
   "id": "8d474500dea21d99",
   "metadata": {},
   "outputs": [],
   "source": [
    "def process_image_flow_normal_thresh(folder_path, output_noise_gaussian, output_hist_clahe, output_bi_otsu, output_morphological_opening, output_edge_unsharp):\n",
    "    # Step 1: Load images\n",
    "    image_paths = load_images_from_folder(folder_path)\n",
    "\n",
    "    # Step 2: Apply Gaussian Blur\n",
    "    apply_gaussian_blur(image_paths, output_noise_gaussian)\n",
    "\n",
    "    # Step 3: Apply CLAHE\n",
    "    blurred_image_paths = load_images_from_folder(output_noise_gaussian)\n",
    "    apply_clahe(blurred_image_paths, output_hist_clahe)\n",
    "\n",
    "    # Step 4: Apply Otsu Thresholding \n",
    "    clahe_image_paths = load_images_from_folder(output_hist_clahe)\n",
    "    apply_otsu_thresholding(clahe_image_paths, output_bi_otsu)\n",
    "\n",
    "    # Step 5: Apply Morphological Opening\n",
    "    otsu_image_paths = load_images_from_folder(output_bi_otsu)\n",
    "    apply_morphological_opening(otsu_image_paths, output_morphological_opening)\n",
    "\n",
    "    # Step 6: Apply Sobel Edge Detection\n",
    "    morph_image_paths = load_images_from_folder(output_morphological_opening)\n",
    "    apply_unsharp_masking(morph_image_paths, output_edge_unsharp)"
   ]
  },
  {
   "cell_type": "markdown",
   "id": "b954cdf79fd8bcdc",
   "metadata": {},
   "source": [
    "### 4. Flow - Only Morphological Changes"
   ]
  },
  {
   "cell_type": "markdown",
   "id": "43860887",
   "metadata": {},
   "source": [
    "#### *Function*"
   ]
  },
  {
   "cell_type": "code",
   "execution_count": 15,
   "id": "c1b09cecacfb73e2",
   "metadata": {},
   "outputs": [],
   "source": [
    "def process_image_flow_morph(folder_path, output_noise_gaussian, output_hist_clahe, output_bi_otsu_inv, output_morphological_closing):\n",
    "    # Step 1: Load images\n",
    "    image_paths = load_images_from_folder(folder_path)\n",
    "\n",
    "    # Step 2: Apply Gaussian Blur\n",
    "    apply_gaussian_blur(image_paths, output_noise_gaussian)\n",
    "\n",
    "    # Step 3: Apply CLAHE\n",
    "    blurred_image_paths = load_images_from_folder(output_noise_gaussian)\n",
    "    apply_clahe(blurred_image_paths, output_hist_clahe)\n",
    "\n",
    "    # Step 4: Apply Otsu Thresholding Inverted\n",
    "    clahe_image_paths = load_images_from_folder(output_hist_clahe)\n",
    "    apply_otsu_thresholding_inv(clahe_image_paths, output_bi_otsu_inv)\n",
    "\n",
    "    # Step 5: Apply Morphological Closing\n",
    "    otsu_image_paths = load_images_from_folder(output_bi_otsu_inv)\n",
    "    apply_morphological_closing(otsu_image_paths, output_morphological_closing)\n"
   ]
  },
  {
   "cell_type": "markdown",
   "id": "dbbc20872232eb8",
   "metadata": {},
   "source": [
    "### 5. Flow - Binarization"
   ]
  },
  {
   "cell_type": "markdown",
   "id": "ebc4483c",
   "metadata": {},
   "source": [
    "#### *Function*"
   ]
  },
  {
   "cell_type": "code",
   "execution_count": 16,
   "id": "6c137ec23a55e3cc",
   "metadata": {},
   "outputs": [],
   "source": [
    "def process_image_flow_bi(folder_path, output_noise_gaussian, output_hist_clahe, output_bi_otsu_inv):\n",
    "    # Step 1: Load images\n",
    "    image_paths = load_images_from_folder(folder_path)\n",
    "\n",
    "    # Step 2: Apply Gaussian Blur\n",
    "    apply_gaussian_blur(image_paths, output_noise_gaussian)\n",
    "\n",
    "    # Step 3: Apply CLAHE\n",
    "    blurred_image_paths = load_images_from_folder(output_noise_gaussian)\n",
    "    apply_clahe(blurred_image_paths, output_hist_clahe)\n",
    "\n",
    "    # Step 4: Apply Otsu Thresholding Inverted\n",
    "    clahe_image_paths = load_images_from_folder(output_hist_clahe)\n",
    "    apply_otsu_thresholding_inv(clahe_image_paths, output_bi_otsu_inv)\n"
   ]
  },
  {
   "cell_type": "markdown",
   "id": "9adaa251f01f6fbe",
   "metadata": {},
   "source": [
    "### 6. Flow - CLAHE"
   ]
  },
  {
   "cell_type": "markdown",
   "id": "5261769f",
   "metadata": {},
   "source": [
    "#### *Function*"
   ]
  },
  {
   "cell_type": "code",
   "execution_count": 17,
   "id": "34ec69ce1f367e88",
   "metadata": {},
   "outputs": [],
   "source": [
    "def process_image_flow_clahe(folder_path, output_noise_gaussian, output_hist_clahe):\n",
    "    # Step 1: Load images\n",
    "    image_paths = load_images_from_folder(folder_path)\n",
    "\n",
    "    # Step 2: Apply Gaussian Blur\n",
    "    apply_gaussian_blur(image_paths, output_noise_gaussian)\n",
    "\n",
    "    # Step 3: Apply CLAHE\n",
    "    blurred_image_paths = load_images_from_folder(output_noise_gaussian)\n",
    "    apply_clahe(blurred_image_paths, output_hist_clahe)"
   ]
  },
  {
   "cell_type": "markdown",
   "id": "288ecde7",
   "metadata": {},
   "source": [
    "### Implementations"
   ]
  },
  {
   "cell_type": "markdown",
   "id": "6204b242",
   "metadata": {},
   "source": [
    "1. Edge Detection / Sobel\n",
    "2. Edge Detection / Unsharp \n",
    "3. Edge Detection / Unsharp (Delete Previous Images)\n",
    "4. Morphological / Closing\n",
    "5. Binarization / Inv-Otsu\n",
    "6. Histogram Equalization / Clahe"
   ]
  },
  {
   "cell_type": "markdown",
   "id": "9cb93dae",
   "metadata": {},
   "source": [
    "#### *Flow 1*"
   ]
  },
  {
   "cell_type": "code",
   "execution_count": 18,
   "id": "4459909a",
   "metadata": {},
   "outputs": [],
   "source": [
    "# process_image_flow_sobel(\n",
    "#     folder_path,\n",
    "#     output_noise_gaussian,\n",
    "#     output_hist_clahe,\n",
    "#     output_bi_otsu_inv,\n",
    "#     output_morphological_closing,\n",
    "#     output_edge_sobel\n",
    "# )"
   ]
  },
  {
   "cell_type": "markdown",
   "id": "afa78c80",
   "metadata": {},
   "source": [
    "#### *Flow 2*"
   ]
  },
  {
   "cell_type": "code",
   "execution_count": 19,
   "id": "d5e48abf",
   "metadata": {},
   "outputs": [],
   "source": [
    "# process_image_flow_sharp(\n",
    "#     folder_path,\n",
    "#     output_noise_gaussian,\n",
    "#     output_hist_clahe,\n",
    "#     output_bi_otsu_inv,\n",
    "#     output_morphological_closing,\n",
    "#     output_edge_unsharp\n",
    "# )"
   ]
  },
  {
   "cell_type": "markdown",
   "id": "d807ce0f",
   "metadata": {},
   "source": [
    "#### *Flow 3*"
   ]
  },
  {
   "cell_type": "code",
   "execution_count": 20,
   "id": "350eef00",
   "metadata": {},
   "outputs": [],
   "source": [
    "process_image_flow_normal_thresh(\n",
    "    folder_path, \n",
    "    output_noise_gaussian, \n",
    "    output_hist_clahe, \n",
    "    output_bi_otsu, \n",
    "    output_morphological_opening, \n",
    "    output_edge_unsharp\n",
    ")"
   ]
  },
  {
   "cell_type": "markdown",
   "id": "faba194d",
   "metadata": {},
   "source": [
    "#### *Flow 4*"
   ]
  },
  {
   "cell_type": "code",
   "execution_count": 21,
   "id": "62b8e7d9",
   "metadata": {},
   "outputs": [],
   "source": [
    "# process_image_flow_morph(\n",
    "#     folder_path,\n",
    "#     output_noise_gaussian,\n",
    "#     output_hist_clahe,\n",
    "#     output_bi_otsu_inv,\n",
    "#     output_morphological_closing\n",
    "# )"
   ]
  },
  {
   "cell_type": "markdown",
   "id": "55fc7da1",
   "metadata": {},
   "source": [
    "#### *Flow 5*"
   ]
  },
  {
   "cell_type": "code",
   "execution_count": 22,
   "id": "4e5f62ca",
   "metadata": {},
   "outputs": [],
   "source": [
    "# process_image_flow_bi(\n",
    "#     folder_path,\n",
    "#     output_noise_gaussian,\n",
    "#     output_hist_clahe,\n",
    "#     output_bi_otsu_inv\n",
    "# )"
   ]
  },
  {
   "cell_type": "markdown",
   "id": "da48eaae",
   "metadata": {},
   "source": [
    "#### *Flow 6*"
   ]
  },
  {
   "cell_type": "code",
   "execution_count": 23,
   "id": "3255ad18",
   "metadata": {},
   "outputs": [],
   "source": [
    "# process_image_flow_clahe(\n",
    "#     folder_path,\n",
    "#     output_noise_gaussian,\n",
    "#     output_hist_clahe\n",
    "# )"
   ]
  }
 ],
 "metadata": {
  "kernelspec": {
   "display_name": "alessandroryo",
   "language": "python",
   "name": "alessandroryo"
  },
  "language_info": {
   "codemirror_mode": {
    "name": "ipython",
    "version": 3
   },
   "file_extension": ".py",
   "mimetype": "text/x-python",
   "name": "python",
   "nbconvert_exporter": "python",
   "pygments_lexer": "ipython3",
   "version": "3.11.1"
  }
 },
 "nbformat": 4,
 "nbformat_minor": 5
}
