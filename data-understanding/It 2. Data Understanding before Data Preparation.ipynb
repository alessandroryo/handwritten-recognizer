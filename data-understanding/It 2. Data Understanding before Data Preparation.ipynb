{
 "cells": [
  {
   "cell_type": "markdown",
   "metadata": {},
   "source": [
    "# Iteration 2 - Data Understanding before Data Preparation\n",
    "\n",
    "> **Creator**: Ryo"
   ]
  },
  {
   "cell_type": "code",
   "execution_count": null,
   "metadata": {},
   "outputs": [],
   "source": [
    "import os\n",
    "import itertools\n",
    "import warnings\n",
    "\n",
    "import random\n",
    "import numpy as np\n",
    "import pandas as pd\n",
    "import cv2\n",
    "import matplotlib.pyplot as plt\n",
    "import seaborn as sns\n",
    "from scipy import stats\n",
    "from tqdm import tqdm"
   ]
  },
  {
   "cell_type": "markdown",
   "metadata": {},
   "source": [
    "### Variables"
   ]
  },
  {
   "cell_type": "code",
   "execution_count": null,
   "metadata": {},
   "outputs": [],
   "source": [
    "# Define the path to the folder containing the images to be processed\n",
    "folder_path = '../data/original'"
   ]
  },
  {
   "cell_type": "markdown",
   "metadata": {},
   "source": [
    "---\n",
    "## Load Images Data"
   ]
  },
  {
   "cell_type": "markdown",
   "metadata": {},
   "source": [
    "### Load Image Paths From Source Folder"
   ]
  },
  {
   "cell_type": "markdown",
   "metadata": {},
   "source": [
    "#### *Function*"
   ]
  },
  {
   "cell_type": "code",
   "execution_count": null,
   "metadata": {},
   "outputs": [],
   "source": [
    "def load_images_from_folder(folder_path, extensions=('.png', '.jpg', '.jpeg', '.JPG')):\n",
    "    \"\"\"\n",
    "    Load all image file paths from a specified folder that match the given file extensions.\n",
    "\n",
    "    Parameters:\n",
    "    folder_path (str): The path to the folder containing the images.\n",
    "    extensions (tuple of str): A tuple of file extensions to filter the images by. \n",
    "                                Default is ('.png', '.jpg', '.jpeg', '.JPG').\n",
    "\n",
    "    Returns:\n",
    "    list: A list of full file paths to images in the folder that match the specified extensions.\n",
    "    \n",
    "    Raises:\n",
    "    FileNotFoundError: If the specified folder does not exist.\n",
    "    \"\"\"\n",
    "\n",
    "    # Check if the folder exists\n",
    "    if not os.path.exists(folder_path):\n",
    "        raise FileNotFoundError(f\"The specified folder does not exist: {folder_path}\")\n",
    "\n",
    "    # List comprehension to gather all image paths with the specified extensions\n",
    "    image_paths = [os.path.join(folder_path, f) for f in os.listdir(folder_path) if f.endswith(extensions)]\n",
    "\n",
    "    return image_paths"
   ]
  },
  {
   "cell_type": "markdown",
   "metadata": {},
   "source": [
    "### Load & Pre-Process Image"
   ]
  },
  {
   "cell_type": "markdown",
   "metadata": {},
   "source": [
    "#### *Function*"
   ]
  },
  {
   "cell_type": "code",
   "execution_count": null,
   "metadata": {},
   "outputs": [],
   "source": [
    "def load_and_preprocess_images(image_paths, resize_dim=(256, 256)):\n",
    "    \"\"\"\n",
    "    Load and preprocess a list of images by converting to grayscale and resizing.\n",
    "    \n",
    "    Parameters:\n",
    "    image_paths (list): List of paths to image files.\n",
    "    resize_dim (tuple): Target dimensions to resize images (width, height).\n",
    "    \n",
    "    Returns:\n",
    "    list: List of preprocessed images as numpy arrays.\n",
    "    \"\"\"\n",
    "    images = []  # Initialize list to store preprocessed images\n",
    "\n",
    "    # Initialize tqdm progress bar to track loading and processing of images\n",
    "    for path in tqdm(image_paths, desc=\"Loading and preprocessing images\", unit=\"image\"):\n",
    "        img = cv2.imread(path)  # Load image from file\n",
    "        img_gray = cv2.cvtColor(img, cv2.COLOR_BGR2GRAY)  # Convert image to grayscale\n",
    "        img_resized = cv2.resize(img_gray, resize_dim)  # Resize image to specified dimensions\n",
    "        images.append(img_resized)  # Add the processed image to the list\n",
    "\n",
    "    return images  # Return list of preprocessed images"
   ]
  },
  {
   "cell_type": "code",
   "execution_count": null,
   "metadata": {},
   "outputs": [],
   "source": [
    "def load_images(image_paths):\n",
    "    \"\"\"\n",
    "    Load a list of original images without any preprocessing.\n",
    "    \n",
    "    Parameters:\n",
    "    image_paths (list): List of paths to image files.\n",
    "    \n",
    "    Returns:\n",
    "    list: List of original images as numpy arrays.\n",
    "    \"\"\"\n",
    "    original_images = []  # Initialize list to store original images\n",
    "\n",
    "    # Loop over each image path in the provided list\n",
    "    for path in image_paths:\n",
    "        img = cv2.imread(path)  # Load the original image from file\n",
    "        original_images.append(img)  # Add the loaded image to the list\n",
    "\n",
    "    return original_images  # Return list of original images"
   ]
  },
  {
   "cell_type": "markdown",
   "metadata": {},
   "source": [
    "### Implementation"
   ]
  },
  {
   "cell_type": "code",
   "execution_count": null,
   "metadata": {},
   "outputs": [],
   "source": [
    "image_paths = load_images_from_folder(folder_path)"
   ]
  },
  {
   "cell_type": "code",
   "execution_count": null,
   "metadata": {},
   "outputs": [],
   "source": [
    "images = load_and_preprocess_images(image_paths)"
   ]
  },
  {
   "cell_type": "markdown",
   "metadata": {},
   "source": [
    "---\n",
    "## Statistical Analysis"
   ]
  },
  {
   "cell_type": "markdown",
   "metadata": {},
   "source": [
    "### Brightness"
   ]
  },
  {
   "cell_type": "code",
   "execution_count": null,
   "metadata": {},
   "outputs": [],
   "source": [
    "def calculate_brightness(image):\n",
    "    \"\"\"\n",
    "    Calculate the brightness of an image based on the mean pixel intensity.\n",
    "    \n",
    "    Parameters:\n",
    "    image (numpy array): Input image as a numpy array. Should be in grayscale or \n",
    "                        single-channel format for accurate brightness calculation.\n",
    "                        \n",
    "    Returns:\n",
    "    float: The average brightness of the image.\n",
    "    \"\"\"\n",
    "    return np.mean(image)  # Calculate and return the mean pixel intensity"
   ]
  },
  {
   "cell_type": "markdown",
   "metadata": {},
   "source": [
    "### Sharpness"
   ]
  },
  {
   "cell_type": "code",
   "execution_count": null,
   "metadata": {},
   "outputs": [],
   "source": [
    "def calculate_sharpness(image):\n",
    "    \"\"\"\n",
    "    Calculate the sharpness of an image based on the variance of the Laplacian.\n",
    "    \n",
    "    Parameters:\n",
    "    image (numpy array): Input image as a numpy array, preferably in grayscale \n",
    "                        for accurate sharpness calculation.\n",
    "                        \n",
    "    Returns:\n",
    "    float: A sharpness score based on the variance of the Laplacian. \n",
    "            Higher values indicate sharper images.\n",
    "    \"\"\"\n",
    "    # Apply Laplacian filter to the image and calculate its variance\n",
    "    return cv2.Laplacian(image, cv2.CV_64F).var()  # Variance of Laplacian method\n"
   ]
  },
  {
   "cell_type": "markdown",
   "metadata": {},
   "source": [
    "### Contrast"
   ]
  },
  {
   "cell_type": "code",
   "execution_count": null,
   "metadata": {},
   "outputs": [],
   "source": [
    "def calculate_contrast(image):\n",
    "    \"\"\"\n",
    "    Calculate the contrast of an image based on the standard deviation of pixel values.\n",
    "    \n",
    "    Parameters:\n",
    "    image (numpy array): Input image as a numpy array, preferably in grayscale.\n",
    "    \n",
    "    Returns:\n",
    "    float: A contrast score based on the standard deviation of pixel values.\n",
    "    \"\"\"\n",
    "    return image.std()  # Standard deviation of pixel values"
   ]
  },
  {
   "cell_type": "markdown",
   "metadata": {},
   "source": [
    "### Noise"
   ]
  },
  {
   "cell_type": "code",
   "execution_count": null,
   "metadata": {},
   "outputs": [],
   "source": [
    "def calculate_noise(image):\n",
    "    \"\"\"\n",
    "    Calculate the noise level of an image by analyzing the difference between\n",
    "    the original and a blurred version.\n",
    "    \n",
    "    Parameters:\n",
    "    image (numpy array): Input image as a numpy array.\n",
    "    \n",
    "    Returns:\n",
    "    float: A noise score based on the variance of the difference between the \n",
    "            original and blurred images.\n",
    "    \"\"\"\n",
    "    # Convert to grayscale if necessary\n",
    "    if len(image.shape) == 3:\n",
    "        image = cv2.cvtColor(image, cv2.COLOR_BGR2GRAY)\n",
    "\n",
    "    # Apply Gaussian blur and calculate the difference\n",
    "    blurred = cv2.GaussianBlur(image, (3, 3), 0)\n",
    "    noise = cv2.absdiff(image, blurred)\n",
    "    return np.var(noise)  # Variance of the noise image"
   ]
  },
  {
   "cell_type": "markdown",
   "metadata": {},
   "source": [
    "### Skew"
   ]
  },
  {
   "cell_type": "code",
   "execution_count": null,
   "metadata": {},
   "outputs": [],
   "source": [
    "def calculate_skew(image):\n",
    "    \"\"\"\n",
    "    Calculate the skew angle of an image using contour-based analysis.\n",
    "    \n",
    "    Parameters:\n",
    "    image (numpy array): Input grayscale image as a numpy array.\n",
    "    \n",
    "    Returns:\n",
    "    float: The skew angle in degrees, rounded to two decimal places.\n",
    "    \"\"\"\n",
    "    # Ensure the image is grayscale\n",
    "    if len(image.shape) != 2:\n",
    "        raise ValueError(\"Invalid image format. Image must be a 2D grayscale image.\")\n",
    "\n",
    "    # Thresholding to create a binary image\n",
    "    _, binary = cv2.threshold(image, 150, 255, cv2.THRESH_BINARY_INV)\n",
    "\n",
    "    # Identify non-zero coordinates in binary image\n",
    "    coords = np.column_stack(np.where(binary > 0))\n",
    "    if coords.size == 0:\n",
    "        return 0  # No contours found, so skew is zero\n",
    "\n",
    "    # Calculate the angle of the minimum area rectangle\n",
    "    angle = cv2.minAreaRect(coords)[-1]\n",
    "    if angle < -45:\n",
    "        angle = -(90 + angle)\n",
    "    else:\n",
    "        angle = -angle\n",
    "\n",
    "    return round(angle, 2)  # Return skew angle, rounded to two decimal places"
   ]
  },
  {
   "cell_type": "markdown",
   "metadata": {},
   "source": [
    "### Line Spacing"
   ]
  },
  {
   "cell_type": "code",
   "execution_count": null,
   "metadata": {},
   "outputs": [],
   "source": [
    "def calculate_line_spacing(image):\n",
    "    \"\"\"\n",
    "    Calculate the average line spacing in a grayscale image by analyzing bounding box heights.\n",
    "    \n",
    "    Parameters:\n",
    "    image (numpy array): Input grayscale image as a numpy array.\n",
    "    \n",
    "    Returns:\n",
    "    float: Average spacing based on the heights of bounding boxes around text lines.\n",
    "    \"\"\"\n",
    "    # Ensure image is grayscale\n",
    "    if len(image.shape) != 2:\n",
    "        raise ValueError(\"Invalid image format. Image must be a 2D grayscale image.\")\n",
    "\n",
    "    # Threshold and find contours\n",
    "    _, binary = cv2.threshold(image, 150, 255, cv2.THRESH_BINARY_INV)\n",
    "    contours, _ = cv2.findContours(binary, cv2.RETR_EXTERNAL, cv2.CHAIN_APPROX_SIMPLE)\n",
    "\n",
    "    # Calculate line spacing based on bounding box heights\n",
    "    heights = [cv2.boundingRect(contour)[3] for contour in contours]\n",
    "    if len(heights) > 1:\n",
    "        return np.mean(np.diff(sorted(heights)))  # Average spacing between heights\n",
    "    return 0  # No lines found"
   ]
  },
  {
   "cell_type": "markdown",
   "metadata": {},
   "source": [
    "### Tables Detected"
   ]
  },
  {
   "cell_type": "code",
   "execution_count": null,
   "metadata": {},
   "outputs": [],
   "source": [
    "def detect_tables(image):\n",
    "    \"\"\"\n",
    "    Detect potential tables in a grayscale image by analyzing large contours.\n",
    "    \n",
    "    Parameters:\n",
    "    image (numpy array): Input grayscale image as a numpy array.\n",
    "    \n",
    "    Returns:\n",
    "    tuple: A tuple containing:\n",
    "        - int: Number of detected tables.\n",
    "        - list: List of contours that represent detected tables.\n",
    "    \"\"\"\n",
    "    if len(image.shape) != 2:\n",
    "        raise ValueError(\"Invalid image format. Image must be a 2D grayscale image.\")\n",
    "    \n",
    "    # Apply adaptive thresholding\n",
    "    _, binary = cv2.threshold(image, 150, 255, cv2.THRESH_BINARY_INV)\n",
    "    binary = cv2.adaptiveThreshold(image, 255, cv2.ADAPTIVE_THRESH_GAUSSIAN_C,\n",
    "                                    cv2.THRESH_BINARY_INV, 11, 2)\n",
    "\n",
    "    # Detect contours and filter by area\n",
    "    contours, _ = cv2.findContours(binary, cv2.RETR_EXTERNAL, cv2.CHAIN_APPROX_SIMPLE)\n",
    "    table_contours = [contour for contour in contours if cv2.contourArea(contour) > 1000]\n",
    "    \n",
    "    # Return both the count and the list of table contours\n",
    "    return len(table_contours), table_contours"
   ]
  },
  {
   "cell_type": "markdown",
   "metadata": {},
   "source": [
    "### Resolution"
   ]
  },
  {
   "cell_type": "code",
   "execution_count": null,
   "metadata": {},
   "outputs": [],
   "source": [
    "def calculate_resolution(image):\n",
    "    \"\"\"\n",
    "    Calculate the resolution of an image by multiplying its width and height.\n",
    "    \n",
    "    Parameters:\n",
    "    image (numpy array): Input image as a numpy array.\n",
    "    \n",
    "    Returns:\n",
    "    int: Total number of pixels in the image.\n",
    "    \"\"\"\n",
    "    height, width = image.shape[:2]  # Extract dimensions\n",
    "    return height * width  # Calculate total pixels"
   ]
  },
  {
   "cell_type": "markdown",
   "metadata": {},
   "source": [
    "### Elements Detected"
   ]
  },
  {
   "cell_type": "code",
   "execution_count": null,
   "metadata": {},
   "outputs": [],
   "source": [
    "def calculate_elements_detection(image):\n",
    "    \"\"\"\n",
    "    Calculate the number of detected elements in an image and return contours.\n",
    "    \n",
    "    Parameters:\n",
    "    image (numpy array): Input grayscale image as a numpy array.\n",
    "    \n",
    "    Returns:\n",
    "    tuple: A tuple containing:\n",
    "        - int: Number of detected elements based on contours.\n",
    "        - list: List of contours that represent detected elements.\n",
    "    \"\"\"\n",
    "    # Ensure the image is in grayscale format\n",
    "    if len(image.shape) != 2:\n",
    "        raise ValueError(\"Invalid image format. Image must be a 2D grayscale image.\")\n",
    "    \n",
    "    # Apply thresholding to create a binary image for contour detection\n",
    "    _, binary = cv2.threshold(image, 150, 255, cv2.THRESH_BINARY_INV)\n",
    "    \n",
    "    # Detect contours based on the binary image\n",
    "    contours, _ = cv2.findContours(binary, cv2.RETR_EXTERNAL, cv2.CHAIN_APPROX_SIMPLE)\n",
    "    \n",
    "    # Return the number of elements (contours) and the list of contours\n",
    "    return len(contours), contours"
   ]
  },
  {
   "cell_type": "markdown",
   "metadata": {},
   "source": [
    "### Texture"
   ]
  },
  {
   "cell_type": "code",
   "execution_count": null,
   "metadata": {},
   "outputs": [],
   "source": [
    "def calculate_texture(image):\n",
    "    \"\"\"\n",
    "    Calculate the texture complexity of an image based on the Laplacian's standard deviation.\n",
    "    \n",
    "    Parameters:\n",
    "    image (numpy array): Input image as a numpy array.\n",
    "    \n",
    "    Returns:\n",
    "    float: A measure of texture complexity based on the standard deviation of the Laplacian.\n",
    "    \"\"\"\n",
    "    laplacian = cv2.Laplacian(image, cv2.CV_64F)  # Apply Laplacian filter\n",
    "    return laplacian.std()  # Return standard deviation of the Laplacian"
   ]
  },
  {
   "cell_type": "markdown",
   "metadata": {},
   "source": [
    "### Patterns"
   ]
  },
  {
   "cell_type": "code",
   "execution_count": null,
   "metadata": {},
   "outputs": [],
   "source": [
    "def calculate_patterns(image):\n",
    "    \"\"\"\n",
    "    Calculate the presence of patterns in a grayscale image using edge detection.\n",
    "    \n",
    "    Parameters:\n",
    "    image (numpy array): Input grayscale image as a numpy array.\n",
    "    \n",
    "    Returns:\n",
    "    int: Number of edge pixels detected, representing pattern presence.\n",
    "    \"\"\"\n",
    "    if len(image.shape) != 2:\n",
    "        raise ValueError(\"Invalid image format. Image must be a 2D grayscale image.\")\n",
    "    \n",
    "    edges = cv2.Canny(image, 100, 200)  # Detect edges\n",
    "    return np.sum(edges > 0)  # Count the number of edge pixels"
   ]
  },
  {
   "cell_type": "markdown",
   "metadata": {},
   "source": [
    "---\n",
    "## Statistical Summary"
   ]
  },
  {
   "cell_type": "markdown",
   "metadata": {},
   "source": [
    "### Create Statistics Table"
   ]
  },
  {
   "cell_type": "markdown",
   "metadata": {},
   "source": [
    "#### *Function*"
   ]
  },
  {
   "cell_type": "code",
   "execution_count": null,
   "metadata": {},
   "outputs": [],
   "source": [
    "def image_statistics_table(images, image_paths):\n",
    "    \"\"\"\n",
    "    Generate a table of statistics for a list of images, with a loading progress bar.\n",
    "    \n",
    "    Parameters:\n",
    "    images (list): List of image arrays.\n",
    "    image_paths (list): List of image file names (not full paths) corresponding to each image.\n",
    "    \n",
    "    Returns:\n",
    "    pd.DataFrame: DataFrame containing statistics for each image.\n",
    "    \"\"\"\n",
    "    stats_data = {\n",
    "        'Image': [], \n",
    "        'Brightness': [], \n",
    "        'Sharpness': [], \n",
    "        'Contrast': [], \n",
    "        'Noise': [], \n",
    "        'Skew': [], \n",
    "        'Line Spacing': [], \n",
    "        'Tables Detected': [], \n",
    "        'Resolution': [], \n",
    "        'Detected Elements': [], \n",
    "        'Texture': [], \n",
    "        'Patterns': []\n",
    "    }\n",
    "\n",
    "    # Initialize tqdm progress bar for processing images\n",
    "    for img, image_name in tqdm(zip(images, image_paths), desc=\"Processing Images\", unit=\"image\"):\n",
    "        # Use the actual file name in the 'Image' column\n",
    "        stats_data['Image'].append(image_name)\n",
    "        \n",
    "        # Check if the image is loaded correctly\n",
    "        if img is None or not isinstance(img, np.ndarray) or img.size == 0:\n",
    "            # Append None for each statistic if the image is invalid\n",
    "            stats_data['Brightness'].append(None)\n",
    "            stats_data['Sharpness'].append(None)\n",
    "            stats_data['Contrast'].append(None)\n",
    "            stats_data['Noise'].append(None)\n",
    "            stats_data['Skew'].append(None)\n",
    "            stats_data['Line Spacing'].append(None)\n",
    "            stats_data['Tables Detected'].append(None)\n",
    "            stats_data['Resolution'].append(None)\n",
    "            stats_data['Detected Elements'].append(None)\n",
    "            stats_data['Texture'].append(None)\n",
    "            stats_data['Patterns'].append(None)\n",
    "            print(f\"Warning: {image_name} is invalid or empty, setting values to None.\")\n",
    "            continue\n",
    "\n",
    "        # Calculate and append each statistic to the stats_data dictionary\n",
    "        stats_data['Brightness'].append(calculate_brightness(img))\n",
    "        stats_data['Sharpness'].append(calculate_sharpness(img))\n",
    "        stats_data['Contrast'].append(calculate_contrast(img))\n",
    "        stats_data['Noise'].append(calculate_noise(img))\n",
    "        stats_data['Skew'].append(calculate_skew(img))\n",
    "        stats_data['Line Spacing'].append(calculate_line_spacing(img))\n",
    "        \n",
    "        # Only take the count of tables detected\n",
    "        table_count, _ = detect_tables(img)\n",
    "        stats_data['Tables Detected'].append(table_count)\n",
    "\n",
    "        stats_data['Resolution'].append(calculate_resolution(img))\n",
    "        \n",
    "        # Only take the count of detected elements\n",
    "        element_count, _ = calculate_elements_detection(img)\n",
    "        stats_data['Detected Elements'].append(element_count)\n",
    "\n",
    "        stats_data['Texture'].append(calculate_texture(img))\n",
    "        stats_data['Patterns'].append(calculate_patterns(img))\n",
    "    \n",
    "    # Create a DataFrame to store per-image statistics\n",
    "    df = pd.DataFrame(stats_data)\n",
    "    return df"
   ]
  },
  {
   "cell_type": "markdown",
   "metadata": {},
   "source": [
    "### Overall Statistical Summary"
   ]
  },
  {
   "cell_type": "markdown",
   "metadata": {},
   "source": [
    "#### *Function*"
   ]
  },
  {
   "cell_type": "code",
   "execution_count": null,
   "metadata": {},
   "outputs": [],
   "source": [
    "def overall_statistical_summary(df):\n",
    "    \"\"\"\n",
    "    Calculate an overall statistical summary for selected features in the DataFrame.\n",
    "    \n",
    "    Parameters:\n",
    "    df (pd.DataFrame): DataFrame containing image statistics with columns such as\n",
    "                    'Brightness', 'Sharpness', 'Contrast', 'Noise', 'Skew',\n",
    "                    'Line Spacing', 'Tables Detected', 'Resolution',\n",
    "                    'Detected Elements', 'Texture', and 'Patterns'.\n",
    "                    \n",
    "    Returns:\n",
    "    pd.DataFrame: A summary DataFrame with descriptive statistics for each feature.\n",
    "    \"\"\"\n",
    "    # Select relevant columns for statistical summary\n",
    "    columns_to_summarize = [\n",
    "        'Brightness', 'Sharpness', 'Contrast', 'Noise', 'Skew', \n",
    "        'Line Spacing', 'Tables Detected', 'Resolution', \n",
    "        'Detected Elements', 'Texture', 'Patterns'\n",
    "    ]\n",
    "    \n",
    "    # Calculate summary statistics for the selected columns\n",
    "    summary_df = df[columns_to_summarize].describe()\n",
    "    \n",
    "    return summary_df  # Return the summary DataFrame\n"
   ]
  },
  {
   "cell_type": "markdown",
   "metadata": {},
   "source": [
    "### Implementation"
   ]
  },
  {
   "cell_type": "markdown",
   "metadata": {},
   "source": [
    "#### *Create Data Table*"
   ]
  },
  {
   "cell_type": "code",
   "execution_count": null,
   "metadata": {},
   "outputs": [],
   "source": [
    "# Generate a statistics table using the list of image paths\n",
    "df_stats = image_statistics_table(images, image_paths)\n",
    "\n",
    "# Display the full statistics table for all images\n",
    "print(\"Image Data Table:\")\n",
    "df_stats"
   ]
  },
  {
   "cell_type": "markdown",
   "metadata": {},
   "source": [
    "#### *Overall Statistics Table*"
   ]
  },
  {
   "cell_type": "code",
   "execution_count": null,
   "metadata": {},
   "outputs": [],
   "source": [
    "# Calculate and display the overall statistical summary\n",
    "summary_df = overall_statistical_summary(df_stats)\n",
    "\n",
    "print(\"\\nOverall Statistical Summary:\")\n",
    "summary_df"
   ]
  },
  {
   "cell_type": "markdown",
   "metadata": {},
   "source": [
    "---\n",
    "## Visualizations"
   ]
  },
  {
   "cell_type": "markdown",
   "metadata": {},
   "source": [
    "### Characteristics Units"
   ]
  },
  {
   "cell_type": "code",
   "execution_count": null,
   "metadata": {},
   "outputs": [],
   "source": [
    "# Define characteristics and their units in a single dictionary\n",
    "characteristics_units = {\n",
    "    'Brightness': 'Pixel Value (0-255)',\n",
    "    'Contrast': 'Pixel Value (0-255) Std Dev',\n",
    "    'Sharpness': 'Pixel Intensity Squared Variability',\n",
    "    'Noise': 'Pixel Value (0-255) Std Dev',\n",
    "    'Skew': 'Degrees (°)',\n",
    "    'Line Spacing': 'Pixel Count Avg',\n",
    "    'Tables Detected': 'Count',\n",
    "    'Resolution': 'Pixel Count',\n",
    "    'Detected Elements': 'Count',\n",
    "    'Texture': 'Pixel Intensity Variability',\n",
    "    'Patterns': 'Count'\n",
    "}"
   ]
  },
  {
   "cell_type": "markdown",
   "metadata": {},
   "source": [
    "### General Characteristics Distribution"
   ]
  },
  {
   "cell_type": "markdown",
   "metadata": {},
   "source": [
    "#### *Function*"
   ]
  },
  {
   "cell_type": "code",
   "execution_count": null,
   "metadata": {},
   "outputs": [],
   "source": [
    "def plot_characteristic_distribution(df, characteristic, unit, plot_type='hist'):\n",
    "    \"\"\"\n",
    "    Visualize the distribution of a specific characteristic in a DataFrame using histograms or box plots.\n",
    "    \n",
    "    Parameters:\n",
    "    df (pd.DataFrame): DataFrame containing the data.\n",
    "    characteristic (str): The column name of the characteristic to plot.\n",
    "    unit (str): The unit of the characteristic, for labeling purposes.\n",
    "    plot_type (str): Type of plot to generate ('hist' for histogram, 'box' for box plot).\n",
    "                    Default is 'hist'.\n",
    "    \n",
    "    Returns:\n",
    "    None\n",
    "    \"\"\"\n",
    "    # Set up figure size for consistent visualization\n",
    "    plt.figure(figsize=(10, 6))\n",
    "\n",
    "    # Generate histogram or box plot based on the specified plot type\n",
    "    if plot_type == 'hist':\n",
    "        sns.histplot(df[characteristic], kde=True, bins=30, color='blue')\n",
    "    elif plot_type == 'box':\n",
    "        sns.boxplot(x=df[characteristic], color='green')\n",
    "    else:\n",
    "        raise ValueError(\"Invalid plot_type. Choose 'hist' for histogram or 'box' for box plot.\")\n",
    "\n",
    "    # Customize the plot with titles and labels\n",
    "    plt.title(f\"Distribution of {characteristic}\")\n",
    "    plt.xlabel(f\"{characteristic} ({unit})\")\n",
    "    plt.ylabel(\"Frequency\")\n",
    "    plt.grid(True)  # Add grid for better readability\n",
    "    plt.show()  # Display the plot"
   ]
  },
  {
   "cell_type": "markdown",
   "metadata": {},
   "source": [
    "#### *Implementation*"
   ]
  },
  {
   "cell_type": "code",
   "execution_count": null,
   "metadata": {},
   "outputs": [],
   "source": [
    "# Temporarily suppress FutureWarnings\n",
    "with warnings.catch_warnings():\n",
    "    warnings.simplefilter(\"ignore\", category=FutureWarning)\n",
    "    \n",
    "    # Loop through each characteristic and plot type\n",
    "    for characteristic, unit in characteristics_units.items():\n",
    "        for plot_type in ['hist', 'box']:\n",
    "            # Plot the distribution for each characteristic using the specified plot type\n",
    "            plot_characteristic_distribution(df_stats, characteristic, unit, plot_type)"
   ]
  },
  {
   "cell_type": "markdown",
   "metadata": {},
   "source": [
    "### General Characteristics Relationship"
   ]
  },
  {
   "cell_type": "markdown",
   "metadata": {},
   "source": [
    "#### *Function*"
   ]
  },
  {
   "cell_type": "code",
   "execution_count": null,
   "metadata": {},
   "outputs": [],
   "source": [
    "def plot_characteristic_relationship(df, characteristic_1, characteristic_2, unit_1, unit_2, use_color=False):\n",
    "    \"\"\"\n",
    "    Plot the relationship between two characteristics in a DataFrame using scatter plots.\n",
    "    \n",
    "    Parameters:\n",
    "    df (pd.DataFrame): DataFrame containing the data.\n",
    "    characteristic_1 (str): The column name of the first characteristic (x-axis).\n",
    "    characteristic_2 (str): The column name of the second characteristic (y-axis).\n",
    "    unit_1 (str): The unit of the first characteristic, for x-axis labeling.\n",
    "    unit_2 (str): The unit of the second characteristic, for y-axis labeling.\n",
    "    use_color (bool): If True, color points by the values of `characteristic_2` to show variation.\n",
    "                    Default is False.\n",
    "    \n",
    "    Returns:\n",
    "    None\n",
    "    \"\"\"\n",
    "    # Set up figure size for consistent visualization\n",
    "    plt.figure(figsize=(10, 6))\n",
    "\n",
    "    # Plot scatter plot with optional color encoding\n",
    "    if use_color:\n",
    "        sns.scatterplot(x=df[characteristic_1], y=df[characteristic_2], \n",
    "                        hue=df[characteristic_2], palette='coolwarm', s=50)\n",
    "    else:\n",
    "        sns.scatterplot(x=df[characteristic_1], y=df[characteristic_2], s=50)\n",
    "\n",
    "    # Customize the plot with titles and labels\n",
    "    plt.title(f\"Relationship between {characteristic_1} and {characteristic_2}\")\n",
    "    plt.xlabel(f\"{characteristic_1} ({unit_1})\")\n",
    "    plt.ylabel(f\"{characteristic_2} ({unit_2})\")\n",
    "    plt.grid(True)  # Add grid for better readability\n",
    "    plt.show()  # Display the plot"
   ]
  },
  {
   "cell_type": "markdown",
   "metadata": {},
   "source": [
    "#### *Implementation*"
   ]
  },
  {
   "cell_type": "code",
   "execution_count": null,
   "metadata": {},
   "outputs": [],
   "source": [
    "# Generate all possible pairs of characteristics for plotting relationships\n",
    "pairs = itertools.combinations(characteristics_units.keys(), 2)\n",
    "\n",
    "# Loop through each pair of characteristics and create relationship plots\n",
    "for char1, char2 in pairs:\n",
    "    plot_characteristic_relationship(\n",
    "        df_stats,\n",
    "        char1,\n",
    "        char2,\n",
    "        characteristics_units[char1],  # Retrieve unit for the first characteristic\n",
    "        characteristics_units[char2]   # Retrieve unit for the second characteristic\n",
    "    )"
   ]
  },
  {
   "cell_type": "markdown",
   "metadata": {},
   "source": [
    "### Correlation Heatmap"
   ]
  },
  {
   "cell_type": "markdown",
   "metadata": {},
   "source": [
    "#### *Function*"
   ]
  },
  {
   "cell_type": "code",
   "execution_count": null,
   "metadata": {},
   "outputs": [],
   "source": [
    "def plot_correlation_heatmap(df, characteristics, characteristic_units):\n",
    "    \"\"\"\n",
    "    Create a heatmap to visualize correlations between different characteristics.\n",
    "    \n",
    "    Parameters:\n",
    "    df (pd.DataFrame): DataFrame containing the data.\n",
    "    characteristics (list of str): List of column names representing characteristics to include in the heatmap.\n",
    "    characteristic_units (list of str): List of units corresponding to each characteristic.\n",
    "    \n",
    "    Returns:\n",
    "    None\n",
    "    \"\"\"\n",
    "    # Set figure size for visibility\n",
    "    plt.figure(figsize=(10, 8))\n",
    "\n",
    "    # Calculate the correlation matrix for the specified characteristics\n",
    "    correlation_matrix = df[characteristics].corr()\n",
    "\n",
    "    # Create annotations for the heatmap with correlation values and units\n",
    "    annot = correlation_matrix.round(2).astype(str)  # Round to 2 decimal places and convert to string\n",
    "    for i in range(len(characteristics)):\n",
    "        for j in range(len(characteristics)):\n",
    "            annot.iloc[i, j] += f\"\\n({characteristic_units[j]})\"  # Append unit to each cell annotation\n",
    "\n",
    "    # Generate the heatmap with annotations and a color map for visual clarity\n",
    "    sns.heatmap(correlation_matrix, annot=annot, cmap='coolwarm', linewidths=0.5, fmt='',\n",
    "                cbar_kws={'shrink': 0.8}, annot_kws={\"size\": 10})\n",
    "\n",
    "    # Add plot titles and labels\n",
    "    plt.title(\"Correlation Heatmap Between Characteristics\", fontsize=16)\n",
    "    plt.xlabel(\"Characteristics (Unit)\", fontsize=14)\n",
    "    plt.ylabel(\"Characteristics (Unit)\", fontsize=14)\n",
    "\n",
    "    # Customize tick labels with characteristic names and units, adjusting font size and rotation\n",
    "    plt.xticks(ticks=range(len(characteristics)),\n",
    "                labels=[f\"{char} ({unit})\" for char, unit in zip(characteristics, characteristic_units)],\n",
    "                rotation=45, fontsize=12)\n",
    "    plt.yticks(ticks=range(len(characteristics)),\n",
    "                labels=[f\"{char} ({unit})\" for char, unit in zip(characteristics, characteristic_units)],\n",
    "                rotation=0, fontsize=12)\n",
    "\n",
    "    # Adjust layout to prevent clipping of tick labels\n",
    "    plt.tight_layout()\n",
    "    plt.show()"
   ]
  },
  {
   "cell_type": "markdown",
   "metadata": {},
   "source": [
    "#### *Implementation*"
   ]
  },
  {
   "cell_type": "code",
   "execution_count": null,
   "metadata": {},
   "outputs": [],
   "source": [
    "# Filter only numeric columns for correlation matrix and statistical tests\n",
    "numeric_df = df_stats.select_dtypes(include=[np.number])\n",
    "\n",
    "# Calculate correlation matrix\n",
    "correlation_matrix = numeric_df.corr()\n",
    "plt.figure(figsize=(12, 8))\n",
    "sns.heatmap(correlation_matrix, annot=True, cmap='coolwarm', fmt=\".2f\", linewidths=0.5)\n",
    "plt.title('Correlation Heatmap')\n",
    "plt.show()"
   ]
  },
  {
   "cell_type": "markdown",
   "metadata": {},
   "source": [
    "### Statistical Tests"
   ]
  },
  {
   "cell_type": "markdown",
   "metadata": {},
   "source": [
    "#### *Function*"
   ]
  },
  {
   "cell_type": "code",
   "execution_count": null,
   "metadata": {},
   "outputs": [],
   "source": [
    "def overall_statistical_tests(df):\n",
    "    \"\"\"\n",
    "    Perform statistical tests on characteristics within a DataFrame, including normality tests \n",
    "    and Pearson correlation tests between characteristics.\n",
    "    \n",
    "    Parameters:\n",
    "    df (pd.DataFrame): DataFrame containing characteristics for statistical testing.\n",
    "    \n",
    "    Returns:\n",
    "    pd.DataFrame: DataFrame containing the results of the statistical tests.\n",
    "    \"\"\"\n",
    "    # Initialize a dictionary to store the test results\n",
    "    test_results = {\n",
    "        'Test': [], \n",
    "        'Characteristic_1': [], \n",
    "        'Characteristic_2': [], \n",
    "        'Statistic': [], \n",
    "        'P-Value': []\n",
    "    }\n",
    "\n",
    "    # Perform normality tests for selected characteristics\n",
    "    for col in ['Brightness', 'Sharpness', 'Contrast']:\n",
    "        # Conduct normality test for each characteristic\n",
    "        stat, p_value = stats.normaltest(df[col])\n",
    "        test_results['Test'].append('Normality')\n",
    "        test_results['Characteristic_1'].append(col)\n",
    "        test_results['Characteristic_2'].append(None)  # No second characteristic for univariate tests\n",
    "        test_results['Statistic'].append(stat)\n",
    "        test_results['P-Value'].append(p_value)\n",
    "\n",
    "    # Perform Pearson correlation tests between each pair of characteristics\n",
    "    pairs = itertools.combinations(\n",
    "        ['Brightness', 'Sharpness', 'Contrast', 'Noise', 'Skew', 'Line Spacing', \n",
    "            'Tables Detected', 'Resolution', 'Detected Elements', 'Texture', 'Patterns'], 2)\n",
    "    \n",
    "    for char1, char2 in pairs:\n",
    "        # Skip pairs where either characteristic has constant values\n",
    "        if df[char1].nunique() <= 1 or df[char2].nunique() <= 1:\n",
    "            # Add entry to indicate constant input\n",
    "            test_results['Test'].append('Pearson Correlation (Skipped)')\n",
    "            test_results['Characteristic_1'].append(char1)\n",
    "            test_results['Characteristic_2'].append(char2)\n",
    "            test_results['Statistic'].append(None)\n",
    "            test_results['P-Value'].append(None)\n",
    "            continue\n",
    "        \n",
    "        # Conduct Pearson correlation test between characteristic pairs\n",
    "        corr_stat, corr_p_val = stats.pearsonr(df[char1], df[char2])\n",
    "        test_results['Test'].append('Pearson Correlation')\n",
    "        test_results['Characteristic_1'].append(char1)\n",
    "        test_results['Characteristic_2'].append(char2)\n",
    "        test_results['Statistic'].append(corr_stat)\n",
    "        test_results['P-Value'].append(corr_p_val)\n",
    "\n",
    "    # Convert the results dictionary into a DataFrame\n",
    "    return pd.DataFrame(test_results)"
   ]
  },
  {
   "cell_type": "markdown",
   "metadata": {},
   "source": [
    "#### *Implementation*"
   ]
  },
  {
   "cell_type": "code",
   "execution_count": null,
   "metadata": {},
   "outputs": [],
   "source": [
    "# Perform overall statistical tests\n",
    "test_results_table = overall_statistical_tests(numeric_df)\n",
    "test_results_table"
   ]
  },
  {
   "cell_type": "markdown",
   "metadata": {},
   "source": [
    "---\n",
    "## Special Visualization per Characteristics"
   ]
  },
  {
   "cell_type": "code",
   "execution_count": null,
   "metadata": {},
   "outputs": [],
   "source": [
    "# Pick a random image from the list of preprocessed images (assuming `images` is a list of grayscale images)\n",
    "random_image = random.choice(images)"
   ]
  },
  {
   "cell_type": "markdown",
   "metadata": {},
   "source": [
    "### Brightness"
   ]
  },
  {
   "cell_type": "code",
   "execution_count": null,
   "metadata": {},
   "outputs": [],
   "source": [
    "def plot_brightness_overall(df):\n",
    "    \"\"\"\n",
    "    Plot the distribution of brightness across the entire dataset.\n",
    "    \n",
    "    Parameters:\n",
    "    df (pd.DataFrame): DataFrame containing brightness statistics for each image.\n",
    "    \n",
    "    Returns:\n",
    "    None: Displays the brightness distribution plot for the dataset.\n",
    "    \"\"\"\n",
    "    plt.figure(figsize=(10, 6))\n",
    "    sns.histplot(df['Brightness'], kde=True, bins=30, color='skyblue')\n",
    "    plt.title(\"Distribution of Brightness Across Dataset\")\n",
    "    plt.xlabel(\"Brightness (Pixel Value 0-255)\")\n",
    "    plt.ylabel(\"Frequency\")\n",
    "    plt.grid(True)\n",
    "    plt.show()"
   ]
  },
  {
   "cell_type": "code",
   "execution_count": null,
   "metadata": {},
   "outputs": [],
   "source": [
    "def plot_brightness_single(image):\n",
    "    \"\"\"\n",
    "    Plot the brightness histogram for a single image and display the mean brightness value.\n",
    "    \n",
    "    Parameters:\n",
    "    image (numpy array): Grayscale image to analyze brightness distribution.\n",
    "    \n",
    "    Returns:\n",
    "    None: Displays the brightness histogram for the image.\n",
    "    \"\"\"\n",
    "    # Calculate the mean brightness using the provided function\n",
    "    mean_brightness = calculate_brightness(image)\n",
    "    \n",
    "    plt.figure(figsize=(10, 6))\n",
    "    plt.hist(image.ravel(), bins=256, range=(0, 255), color='skyblue', alpha=0.7)\n",
    "    plt.title(f\"Brightness Histogram of Single Image (Mean Brightness: {mean_brightness:.2f})\")\n",
    "    plt.xlabel(\"Brightness (Pixel Value)\")\n",
    "    plt.ylabel(\"Frequency\")\n",
    "    plt.grid(True)\n",
    "    plt.show()"
   ]
  },
  {
   "cell_type": "code",
   "execution_count": null,
   "metadata": {},
   "outputs": [],
   "source": [
    "def plot_brightness_heatmap(image):\n",
    "    \"\"\"\n",
    "    Display a smoothed heatmap of brightness intensity for a single image using Gaussian blur,\n",
    "    and display the mean brightness value in the title.\n",
    "    \n",
    "    Parameters:\n",
    "    image (numpy array): Grayscale image to visualize brightness intensity.\n",
    "    \n",
    "    Returns:\n",
    "    None: Displays a blurred heatmap visualization of the image's brightness.\n",
    "    \"\"\"\n",
    "    # Calculate the mean brightness using the provided function\n",
    "    mean_brightness = calculate_brightness(image)\n",
    "    \n",
    "    # Convert the image to float64 for accurate processing\n",
    "    brightness_image = image.astype(np.float64)\n",
    "    \n",
    "    # Apply Gaussian blur to create a smooth brightness map\n",
    "    blurred_brightness = cv2.GaussianBlur(brightness_image, (5, 5), 0)\n",
    "    \n",
    "    # Normalize the blurred brightness to fall between 0 and 255 for visualization\n",
    "    brightness_heatmap = cv2.normalize(blurred_brightness, None, 0, 255, cv2.NORM_MINMAX)\n",
    "    \n",
    "    # Plot the smoothed heatmap with the mean brightness in the title\n",
    "    plt.figure(figsize=(12, 12))\n",
    "    plt.imshow(brightness_heatmap, cmap='gray', vmin=0, vmax=255)\n",
    "    plt.colorbar(label=\"Brightness Intensity (Normalized 0-255)\")\n",
    "    plt.title(f\"Brightness Heatmap of Image (Mean Brightness: {mean_brightness:.2f})\")\n",
    "    plt.axis('off')\n",
    "    plt.show()"
   ]
  },
  {
   "cell_type": "code",
   "execution_count": null,
   "metadata": {},
   "outputs": [],
   "source": [
    "plot_brightness_overall(df_stats)"
   ]
  },
  {
   "cell_type": "code",
   "execution_count": null,
   "metadata": {},
   "outputs": [],
   "source": [
    "plot_brightness_single(random_image)"
   ]
  },
  {
   "cell_type": "code",
   "execution_count": null,
   "metadata": {},
   "outputs": [],
   "source": [
    "plot_brightness_heatmap(random_image)"
   ]
  },
  {
   "cell_type": "markdown",
   "metadata": {},
   "source": [
    "### Contrast"
   ]
  },
  {
   "cell_type": "code",
   "execution_count": null,
   "metadata": {},
   "outputs": [],
   "source": [
    "def plot_contrast_overall(df):\n",
    "    \"\"\"\n",
    "    Plot the distribution of contrast across the entire dataset.\n",
    "    \n",
    "    Parameters:\n",
    "    df (pd.DataFrame): DataFrame containing contrast statistics for each image.\n",
    "    \n",
    "    Returns:\n",
    "    None: Displays the contrast distribution plot for the dataset.\n",
    "    \"\"\"\n",
    "    plt.figure(figsize=(10, 6))\n",
    "    sns.histplot(df['Contrast'], kde=True, bins=30, color='purple')\n",
    "    plt.title(\"Distribution of Contrast Across Dataset\")\n",
    "    plt.xlabel(\"Contrast (Pixel Value Std Dev)\")\n",
    "    plt.ylabel(\"Frequency\")\n",
    "    plt.grid(True)\n",
    "    plt.show()"
   ]
  },
  {
   "cell_type": "code",
   "execution_count": null,
   "metadata": {},
   "outputs": [],
   "source": [
    "def plot_contrast_single(image):\n",
    "    \"\"\"\n",
    "    Plot the contrast histogram for a single image and display the mean contrast value.\n",
    "    \n",
    "    Parameters:\n",
    "    image (numpy array): Grayscale image to analyze contrast distribution.\n",
    "    \n",
    "    Returns:\n",
    "    None: Displays the contrast histogram for the image.\n",
    "    \"\"\"\n",
    "    # Calculate the mean contrast using the provided function\n",
    "    mean_contrast = calculate_contrast(image)\n",
    "    \n",
    "    plt.figure(figsize=(10, 6))\n",
    "    plt.hist(image.ravel(), bins=256, range=(0, 255), color='purple', alpha=0.7)\n",
    "    plt.title(f\"Contrast Histogram of Single Image (Mean Contrast: {mean_contrast:.2f})\")\n",
    "    plt.xlabel(\"Pixel Intensity\")\n",
    "    plt.ylabel(\"Frequency\")\n",
    "    plt.grid(True)\n",
    "    plt.show()"
   ]
  },
  {
   "cell_type": "code",
   "execution_count": null,
   "metadata": {},
   "outputs": [],
   "source": [
    "def plot_contrast_map(image):\n",
    "    \"\"\"\n",
    "    Display a contrast map for a single image by normalizing brightness values to enhance contrast,\n",
    "    and display the mean contrast value in the title.\n",
    "    \n",
    "    Parameters:\n",
    "    image (numpy array): Grayscale image to visualize contrast intensity.\n",
    "    \n",
    "    Returns:\n",
    "    None: Displays a contrast map visualization of the image.\n",
    "    \"\"\"\n",
    "    # Calculate the mean contrast using the provided function\n",
    "    mean_contrast = calculate_contrast(image)\n",
    "    \n",
    "    # Normalize the image brightness to the range 0-255 to enhance contrast visibility\n",
    "    contrast_map_normalized = cv2.normalize(image.astype(np.float64), None, 0, 255, cv2.NORM_MINMAX)\n",
    "    \n",
    "    # Plot the contrast map with the mean contrast in the title\n",
    "    plt.figure(figsize=(6, 6))\n",
    "    plt.imshow(contrast_map_normalized, cmap='gray', vmin=0, vmax=255)\n",
    "    plt.colorbar(label=\"Contrast Intensity (Normalized 0-255)\")\n",
    "    plt.title(f\"Contrast Map of Image (Mean Contrast: {mean_contrast:.2f})\")\n",
    "    plt.axis('off')\n",
    "    plt.show()"
   ]
  },
  {
   "cell_type": "code",
   "execution_count": null,
   "metadata": {},
   "outputs": [],
   "source": [
    "plot_contrast_overall(df_stats)"
   ]
  },
  {
   "cell_type": "code",
   "execution_count": null,
   "metadata": {},
   "outputs": [],
   "source": [
    "plot_contrast_single(random_image)"
   ]
  },
  {
   "cell_type": "code",
   "execution_count": null,
   "metadata": {},
   "outputs": [],
   "source": [
    "plot_contrast_map(random_image)"
   ]
  },
  {
   "cell_type": "markdown",
   "metadata": {},
   "source": [
    "### Sharpness"
   ]
  },
  {
   "cell_type": "code",
   "execution_count": null,
   "metadata": {},
   "outputs": [],
   "source": [
    "def plot_sharpness_overall(df):\n",
    "    \"\"\"\n",
    "    Plot the distribution of sharpness across the entire dataset.\n",
    "    \n",
    "    Parameters:\n",
    "    df (pd.DataFrame): DataFrame containing sharpness statistics for each image.\n",
    "    \n",
    "    Returns:\n",
    "    None: Displays the sharpness distribution plot for the dataset.\n",
    "    \"\"\"\n",
    "    plt.figure(figsize=(10, 6))\n",
    "    sns.histplot(df['Sharpness'], kde=True, bins=30, color='orange')\n",
    "    plt.title(\"Distribution of Sharpness Across Dataset\")\n",
    "    plt.xlabel(\"Sharpness (Variance of Laplacian)\")\n",
    "    plt.ylabel(\"Frequency\")\n",
    "    plt.grid(True)\n",
    "    plt.show()"
   ]
  },
  {
   "cell_type": "code",
   "execution_count": null,
   "metadata": {},
   "outputs": [],
   "source": [
    "def plot_sharpness_single(image):\n",
    "    \"\"\"\n",
    "    Plot the sharpness histogram for a single image based on edge intensity,\n",
    "    and display the mean sharpness value in the title.\n",
    "    \n",
    "    Parameters:\n",
    "    image (numpy array): Grayscale image to analyze sharpness distribution.\n",
    "    \n",
    "    Returns:\n",
    "    None: Displays the sharpness histogram for the image.\n",
    "    \"\"\"\n",
    "    # Calculate the mean sharpness using the provided function\n",
    "    mean_sharpness = calculate_sharpness(image)\n",
    "    \n",
    "    # Apply Laplacian to detect edges\n",
    "    edges = cv2.Laplacian(image, cv2.CV_64F)\n",
    "    \n",
    "    plt.figure(figsize=(10, 6))\n",
    "    plt.hist(np.abs(edges).ravel(), bins=256, range=(0, edges.max()), color='orange', alpha=0.7)\n",
    "    plt.title(f\"Sharpness Histogram of Single Image (Mean Sharpness: {mean_sharpness:.2f})\")\n",
    "    plt.xlabel(\"Edge Intensity\")\n",
    "    plt.ylabel(\"Frequency\")\n",
    "    plt.grid(True)\n",
    "    plt.show()"
   ]
  },
  {
   "cell_type": "code",
   "execution_count": null,
   "metadata": {},
   "outputs": [],
   "source": [
    "def plot_sharpness_edge_map(image):\n",
    "    \"\"\"\n",
    "    Display an edge map for a single image to visualize areas with high sharpness,\n",
    "    and display the mean sharpness value in the title.\n",
    "    \n",
    "    Parameters:\n",
    "    image (numpy array): Grayscale image to visualize edge intensity.\n",
    "    \n",
    "    Returns:\n",
    "    None: Displays an edge map visualization of the image.\n",
    "    \"\"\"\n",
    "    # Calculate the mean sharpness using the provided function\n",
    "    mean_sharpness = calculate_sharpness(image)\n",
    "    \n",
    "    # Apply Laplacian to detect edges\n",
    "    edges = cv2.Laplacian(image, cv2.CV_64F)\n",
    "    \n",
    "    # Normalize edges to the range 0-255 for visualization\n",
    "    edge_map_normalized = cv2.normalize(np.abs(edges), None, 0, 255, cv2.NORM_MINMAX)\n",
    "    \n",
    "    # Plot the edge map with the mean sharpness in the title\n",
    "    plt.figure(figsize=(12, 12))\n",
    "    plt.imshow(edge_map_normalized, cmap='gray', vmin=0, vmax=255)\n",
    "    plt.colorbar(label=\"Edge Intensity (Normalized 0-255)\")\n",
    "    plt.title(f\"Edge Map for Sharpness Visualization (Mean Sharpness: {mean_sharpness:.2f})\")\n",
    "    plt.axis('off')\n",
    "    plt.show()"
   ]
  },
  {
   "cell_type": "code",
   "execution_count": null,
   "metadata": {},
   "outputs": [],
   "source": [
    "plot_sharpness_overall(df_stats)"
   ]
  },
  {
   "cell_type": "code",
   "execution_count": null,
   "metadata": {},
   "outputs": [],
   "source": [
    "plot_sharpness_single(random_image)"
   ]
  },
  {
   "cell_type": "code",
   "execution_count": null,
   "metadata": {},
   "outputs": [],
   "source": [
    "plot_sharpness_edge_map(random_image)"
   ]
  },
  {
   "cell_type": "markdown",
   "metadata": {},
   "source": [
    "### Noise"
   ]
  },
  {
   "cell_type": "code",
   "execution_count": null,
   "metadata": {},
   "outputs": [],
   "source": [
    "def plot_noise_overall(df):\n",
    "    \"\"\"\n",
    "    Plot the distribution of noise across the entire dataset.\n",
    "    \n",
    "    Parameters:\n",
    "    df (pd.DataFrame): DataFrame containing noise statistics for each image.\n",
    "    \n",
    "    Returns:\n",
    "    None: Displays the noise distribution plot for the dataset.\n",
    "    \"\"\"\n",
    "    plt.figure(figsize=(10, 6))\n",
    "    sns.histplot(df['Noise'], kde=True, bins=30, color='red')\n",
    "    plt.title(\"Distribution of Noise Across Dataset\")\n",
    "    plt.xlabel(\"Noise (Pixel Value Std Dev)\")\n",
    "    plt.ylabel(\"Frequency\")\n",
    "    plt.grid(True)\n",
    "    plt.show()"
   ]
  },
  {
   "cell_type": "code",
   "execution_count": null,
   "metadata": {},
   "outputs": [],
   "source": [
    "def plot_noise_single(image):\n",
    "    \"\"\"\n",
    "    Plot the noise histogram for a single image and display the mean noise value.\n",
    "    \n",
    "    Parameters:\n",
    "    image (numpy array): Grayscale image to analyze noise distribution.\n",
    "    \n",
    "    Returns:\n",
    "    None: Displays the noise histogram for the image.\n",
    "    \"\"\"\n",
    "    # Calculate the mean noise using the provided function\n",
    "    mean_noise = calculate_noise(image)\n",
    "    \n",
    "    # Apply Gaussian blur to simulate noise calculation\n",
    "    blurred_image = cv2.GaussianBlur(image, (3, 3), 0)\n",
    "    noise = cv2.absdiff(image, blurred_image)\n",
    "    \n",
    "    plt.figure(figsize=(10, 6))\n",
    "    plt.hist(noise.ravel(), bins=256, range=(0, 255), color='red', alpha=0.7)\n",
    "    plt.title(f\"Noise Histogram of Single Image (Mean Noise: {mean_noise:.2f})\")\n",
    "    plt.xlabel(\"Noise Intensity (Pixel Value)\")\n",
    "    plt.ylabel(\"Frequency\")\n",
    "    plt.grid(True)\n",
    "    plt.show()"
   ]
  },
  {
   "cell_type": "code",
   "execution_count": null,
   "metadata": {},
   "outputs": [],
   "source": [
    "def plot_noise_map(image):\n",
    "    \"\"\"\n",
    "    Display a noise map for a single image by highlighting areas with high noise intensity.\n",
    "    \n",
    "    Parameters:\n",
    "    image (numpy array): Grayscale image to visualize noise intensity.\n",
    "    \n",
    "    Returns:\n",
    "    None: Displays a noise map visualization of the image.\n",
    "    \"\"\"\n",
    "    # Calculate the mean noise using the provided function\n",
    "    mean_noise = calculate_noise(image)\n",
    "    \n",
    "    # Apply Gaussian blur and calculate the difference to highlight noise areas\n",
    "    blurred_image = cv2.GaussianBlur(image, (3, 3), 0)\n",
    "    noise_map = cv2.absdiff(image, blurred_image)\n",
    "    \n",
    "    # Normalize the noise map to the range 0-255 for visualization\n",
    "    noise_map_normalized = cv2.normalize(noise_map.astype(np.float64), None, 0, 255, cv2.NORM_MINMAX)\n",
    "    \n",
    "    # Plot the noise map with the mean noise in the title\n",
    "    plt.figure(figsize=(6, 6))\n",
    "    plt.imshow(noise_map_normalized, cmap='gray', vmin=0, vmax=255)\n",
    "    plt.colorbar(label=\"Noise Intensity (Normalized 0-255)\")\n",
    "    plt.title(f\"Noise Map of Image (Mean Noise: {mean_noise:.2f})\")\n",
    "    plt.axis('off')\n",
    "    plt.show()"
   ]
  },
  {
   "cell_type": "code",
   "execution_count": null,
   "metadata": {},
   "outputs": [],
   "source": [
    "plot_noise_overall(df_stats)"
   ]
  },
  {
   "cell_type": "code",
   "execution_count": null,
   "metadata": {},
   "outputs": [],
   "source": [
    "plot_noise_single(random_image)"
   ]
  },
  {
   "cell_type": "code",
   "execution_count": null,
   "metadata": {},
   "outputs": [],
   "source": [
    "plot_noise_map(random_image)"
   ]
  },
  {
   "cell_type": "markdown",
   "metadata": {},
   "source": [
    "### Skew"
   ]
  },
  {
   "cell_type": "code",
   "execution_count": null,
   "metadata": {},
   "outputs": [],
   "source": [
    "def plot_skew_overall(df):\n",
    "    \"\"\"\n",
    "    Plot the distribution of skew across the entire dataset.\n",
    "    \n",
    "    Parameters:\n",
    "    df (pd.DataFrame): DataFrame containing skew statistics for each image.\n",
    "    \n",
    "    Returns:\n",
    "    None: Displays the skew distribution plot for the dataset.\n",
    "    \"\"\"\n",
    "    plt.figure(figsize=(10, 6))\n",
    "    sns.histplot(df['Skew'], kde=True, bins=30, color='green')\n",
    "    plt.title(\"Distribution of Skew Across Dataset\")\n",
    "    plt.xlabel(\"Skew (Degrees)\")\n",
    "    plt.ylabel(\"Frequency\")\n",
    "    plt.grid(True)\n",
    "    plt.show()"
   ]
  },
  {
   "cell_type": "code",
   "execution_count": null,
   "metadata": {},
   "outputs": [],
   "source": [
    "def plot_skew_single(image):\n",
    "    \"\"\"\n",
    "    Display the skew angle for a single image.\n",
    "    \n",
    "    Parameters:\n",
    "    image (numpy array): Grayscale image to analyze skew angle.\n",
    "    \n",
    "    Returns:\n",
    "    None: Displays the skew angle of the image in a text output.\n",
    "    \"\"\"\n",
    "    # Calculate the skew angle using the provided function\n",
    "    skew_angle = calculate_skew(image)\n",
    "    print(f\"Skew Angle of the Image: {skew_angle} degrees\")"
   ]
  },
  {
   "cell_type": "code",
   "execution_count": null,
   "metadata": {},
   "outputs": [],
   "source": [
    "def plot_skew_visualization(image, skew_angle):\n",
    "    \"\"\"\n",
    "    Display an image with the skew angle overlay to visualize its orientation.\n",
    "    \n",
    "    Parameters:\n",
    "    image (numpy array): Grayscale image to visualize skew.\n",
    "    skew_angle (float): Skew angle in degrees to display.\n",
    "    \n",
    "    Returns:\n",
    "    None: Displays the image with the skew angle overlay.\n",
    "    \"\"\"\n",
    "    plt.figure(figsize=(6, 6))\n",
    "    plt.imshow(image, cmap='gray')\n",
    "    plt.title(f\"Skew Visualization (Angle: {skew_angle:.2f}°)\")\n",
    "    plt.axline((0, 0), slope=np.tan(np.deg2rad(skew_angle)), color='red', linestyle='--', linewidth=1)\n",
    "    plt.axis('off')\n",
    "    plt.show()"
   ]
  },
  {
   "cell_type": "code",
   "execution_count": null,
   "metadata": {},
   "outputs": [],
   "source": [
    "plot_skew_overall(df_stats)"
   ]
  },
  {
   "cell_type": "code",
   "execution_count": null,
   "metadata": {},
   "outputs": [],
   "source": [
    "plot_skew_single(random_image)"
   ]
  },
  {
   "cell_type": "code",
   "execution_count": null,
   "metadata": {},
   "outputs": [],
   "source": [
    "skew_angle = calculate_skew(random_image)\n",
    "plot_skew_visualization(random_image, skew_angle)"
   ]
  },
  {
   "cell_type": "markdown",
   "metadata": {},
   "source": [
    "### Line Spacing"
   ]
  },
  {
   "cell_type": "code",
   "execution_count": null,
   "metadata": {},
   "outputs": [],
   "source": [
    "def plot_line_spacing_overall(df):\n",
    "    \"\"\"\n",
    "    Plot the distribution of line spacing across the entire dataset.\n",
    "    \n",
    "    Parameters:\n",
    "    df (pd.DataFrame): DataFrame containing line spacing statistics for each image.\n",
    "    \n",
    "    Returns:\n",
    "    None: Displays the line spacing distribution plot for the dataset.\n",
    "    \"\"\"\n",
    "    plt.figure(figsize=(10, 6))\n",
    "    sns.histplot(df['Line Spacing'], kde=True, bins=30, color='blue')\n",
    "    plt.title(\"Distribution of Line Spacing Across Dataset\")\n",
    "    plt.xlabel(\"Line Spacing (Average Pixel Count)\")\n",
    "    plt.ylabel(\"Frequency\")\n",
    "    plt.grid(True)\n",
    "    plt.show()"
   ]
  },
  {
   "cell_type": "code",
   "execution_count": null,
   "metadata": {},
   "outputs": [],
   "source": [
    "def plot_line_spacing_single(image):\n",
    "    \"\"\"\n",
    "    Display the average line spacing for a single image.\n",
    "    \n",
    "    Parameters:\n",
    "    image (numpy array): Grayscale image to analyze line spacing.\n",
    "    \n",
    "    Returns:\n",
    "    None: Prints the average line spacing value for the image.\n",
    "    \"\"\"\n",
    "    # Calculate the line spacing using the provided function\n",
    "    avg_line_spacing = calculate_line_spacing(image)\n",
    "    print(f\"Average Line Spacing of the Image: {avg_line_spacing:.2f} pixels\")"
   ]
  },
  {
   "cell_type": "code",
   "execution_count": null,
   "metadata": {},
   "outputs": [],
   "source": [
    "def plot_line_spacing_visualization(image):\n",
    "    \"\"\"\n",
    "    Visualize line spacing by marking bounding boxes around detected lines in a grayscale image,\n",
    "    and display lines indicating average spacing between rows.\n",
    "    \n",
    "    Parameters:\n",
    "    image (numpy array): Grayscale image to visualize line spacing.\n",
    "    \n",
    "    Returns:\n",
    "    None: Displays the image with bounding boxes and line spacing indications.\n",
    "    \"\"\"\n",
    "    # Convert the image to binary for contour detection\n",
    "    _, binary = cv2.threshold(image, 150, 255, cv2.THRESH_BINARY_INV)\n",
    "    \n",
    "    # Find contours that represent significant lines or areas\n",
    "    contours, _ = cv2.findContours(binary, cv2.RETR_EXTERNAL, cv2.CHAIN_APPROX_SIMPLE)\n",
    "    \n",
    "    # Plot bounding boxes and lines indicating line spacing\n",
    "    plt.figure(figsize=(12, 12))\n",
    "    plt.imshow(image, cmap='gray')\n",
    "    \n",
    "    # Collect vertical positions of bounding boxes\n",
    "    y_positions = []\n",
    "    for contour in contours:\n",
    "        x, y, w, h = cv2.boundingRect(contour)\n",
    "        y_positions.append(y)\n",
    "        # Draw bounding box\n",
    "        plt.gca().add_patch(plt.Rectangle((x, y), w, h, linewidth=1, edgecolor='green', facecolor='none'))\n",
    "\n",
    "    # Sort and draw lines indicating spacing between rows\n",
    "    y_positions = sorted(y_positions)\n",
    "    for i in range(1, len(y_positions)):\n",
    "        y_avg = (y_positions[i-1] + y_positions[i]) / 2\n",
    "        plt.axhline(y=y_avg, color='red', linestyle='--', linewidth=0.5)  # Draw line spacing\n",
    "\n",
    "    plt.title(\"Line Spacing Visualization in Image\")\n",
    "    plt.axis('off')\n",
    "    plt.show()"
   ]
  },
  {
   "cell_type": "code",
   "execution_count": null,
   "metadata": {},
   "outputs": [],
   "source": [
    "plot_line_spacing_overall(df_stats)"
   ]
  },
  {
   "cell_type": "code",
   "execution_count": null,
   "metadata": {},
   "outputs": [],
   "source": [
    "plot_line_spacing_single(random_image)"
   ]
  },
  {
   "cell_type": "code",
   "execution_count": null,
   "metadata": {},
   "outputs": [],
   "source": [
    "plot_line_spacing_visualization(random_image)"
   ]
  },
  {
   "cell_type": "markdown",
   "metadata": {},
   "source": [
    "### Tables Detected"
   ]
  },
  {
   "cell_type": "code",
   "execution_count": null,
   "metadata": {},
   "outputs": [],
   "source": [
    "def plot_tables_detected_overall(df):\n",
    "    \"\"\"\n",
    "    Plot the distribution of tables detected across the entire dataset using a bar chart.\n",
    "    \n",
    "    Parameters:\n",
    "    df (pd.DataFrame): DataFrame containing tables detected statistics for each image.\n",
    "    \n",
    "    Returns:\n",
    "    None: Displays the tables detected distribution plot for the dataset.\n",
    "    \"\"\"\n",
    "    # Count occurrences of each unique number of tables detected\n",
    "    table_counts = df['Tables Detected'].value_counts().sort_index()\n",
    "    \n",
    "    # Plot bar chart\n",
    "    plt.figure(figsize=(10, 6))\n",
    "    sns.barplot(x=table_counts.index, y=table_counts.values, color='purple')\n",
    "    plt.title(\"Distribution of Tables Detected Across Dataset\")\n",
    "    plt.xlabel(\"Number of Tables Detected\")\n",
    "    plt.ylabel(\"Frequency\")\n",
    "    plt.grid(True, axis='y')\n",
    "    plt.show()"
   ]
  },
  {
   "cell_type": "code",
   "execution_count": null,
   "metadata": {},
   "outputs": [],
   "source": [
    "def plot_tables_detected_single(image):\n",
    "    \"\"\"\n",
    "    Display the number of tables detected for a single image.\n",
    "    \n",
    "    Parameters:\n",
    "    image (numpy array): Grayscale image to analyze tables detected.\n",
    "    \n",
    "    Returns:\n",
    "    None: Prints the number of tables detected in the image.\n",
    "    \"\"\"\n",
    "    # Calculate the number of tables detected using the provided function\n",
    "    table_count, _ = detect_tables(image)\n",
    "    print(f\"Number of Tables Detected in the Image: {table_count}\")"
   ]
  },
  {
   "cell_type": "code",
   "execution_count": null,
   "metadata": {},
   "outputs": [],
   "source": [
    "def plot_tables_detected_visualization(image):\n",
    "    \"\"\"\n",
    "    Visualize detected tables by drawing bounding boxes around each detected table area in a grayscale image.\n",
    "    \n",
    "    Parameters:\n",
    "    image (numpy array): Grayscale image to visualize detected tables.\n",
    "    \n",
    "    Returns:\n",
    "    None: Displays the image with bounding boxes around detected tables.\n",
    "    \"\"\"\n",
    "    # Detect tables and obtain contours\n",
    "    _, table_contours = detect_tables(image)\n",
    "    \n",
    "    # Plot image with bounding boxes around detected tables\n",
    "    plt.figure(figsize=(6, 8))\n",
    "    plt.imshow(image, cmap='gray')\n",
    "    for contour in table_contours:\n",
    "        x, y, w, h = cv2.boundingRect(contour)\n",
    "        plt.gca().add_patch(plt.Rectangle((x, y), w, h, linewidth=1, edgecolor='blue', facecolor='none'))\n",
    "    plt.title(\"Detected Tables Visualization in Image\")\n",
    "    plt.axis('off')\n",
    "    plt.show()"
   ]
  },
  {
   "cell_type": "code",
   "execution_count": null,
   "metadata": {},
   "outputs": [],
   "source": [
    "plot_tables_detected_overall(df_stats)"
   ]
  },
  {
   "cell_type": "code",
   "execution_count": null,
   "metadata": {},
   "outputs": [],
   "source": [
    "plot_tables_detected_single(random_image)"
   ]
  },
  {
   "cell_type": "code",
   "execution_count": null,
   "metadata": {},
   "outputs": [],
   "source": [
    "plot_tables_detected_visualization(random_image)"
   ]
  },
  {
   "cell_type": "markdown",
   "metadata": {},
   "source": [
    "### Resolution"
   ]
  },
  {
   "cell_type": "code",
   "execution_count": null,
   "metadata": {},
   "outputs": [],
   "source": [
    "def plot_resolution_overall(df):\n",
    "    \"\"\"\n",
    "    Plot the distribution of resolution across the entire dataset.\n",
    "    \n",
    "    Parameters:\n",
    "    df (pd.DataFrame): DataFrame containing resolution statistics for each image.\n",
    "    \n",
    "    Returns:\n",
    "    None: Displays the resolution distribution plot for the dataset.\n",
    "    \"\"\"\n",
    "    plt.figure(figsize=(10, 6))\n",
    "    sns.histplot(df['Resolution'], kde=True, bins=30, color='brown')\n",
    "    plt.title(\"Distribution of Resolution Across Dataset\")\n",
    "    plt.xlabel(\"Resolution (Total Pixel Count)\")\n",
    "    plt.ylabel(\"Frequency\")\n",
    "    plt.grid(True)\n",
    "    plt.show()"
   ]
  },
  {
   "cell_type": "code",
   "execution_count": null,
   "metadata": {},
   "outputs": [],
   "source": [
    "def plot_resolution_single(image):\n",
    "    \"\"\"\n",
    "    Display the resolution (total pixel count) for a single image.\n",
    "    \n",
    "    Parameters:\n",
    "    image (numpy array): Image to analyze resolution.\n",
    "    \n",
    "    Returns:\n",
    "    None: Prints the resolution (total pixel count) of the image.\n",
    "    \"\"\"\n",
    "    # Calculate the resolution using the provided function\n",
    "    resolution = calculate_resolution(image)\n",
    "    print(f\"Resolution of the Image: {resolution} pixels\")"
   ]
  },
  {
   "cell_type": "code",
   "execution_count": null,
   "metadata": {},
   "outputs": [],
   "source": [
    "def plot_resolution_visualization(image):\n",
    "    \"\"\"\n",
    "    Display an image with annotated resolution information, including pixel coordinates on x and y axes.\n",
    "    \n",
    "    Parameters:\n",
    "    image (numpy array): Image to visualize resolution.\n",
    "    \n",
    "    Returns:\n",
    "    None: Displays the image with resolution and axis coordinates annotated.\n",
    "    \"\"\"\n",
    "    height, width = image.shape[:2]\n",
    "    resolution = calculate_resolution(image)\n",
    "    \n",
    "    plt.figure(figsize=(6, 8))\n",
    "    plt.imshow(image, cmap='gray')\n",
    "    plt.title(f\"Image Resolution: {width} x {height} (Total: {resolution} pixels)\")\n",
    "    plt.xlabel(f\"Width (pixels, 0 to {width - 1})\")\n",
    "    plt.ylabel(f\"Height (pixels, 0 to {height - 1})\")\n",
    "    plt.axis('on')  # Ensure axes are shown\n",
    "    plt.show()"
   ]
  },
  {
   "cell_type": "code",
   "execution_count": null,
   "metadata": {},
   "outputs": [],
   "source": [
    "plot_resolution_overall(df_stats)"
   ]
  },
  {
   "cell_type": "code",
   "execution_count": null,
   "metadata": {},
   "outputs": [],
   "source": [
    "plot_resolution_single(random_image)"
   ]
  },
  {
   "cell_type": "code",
   "execution_count": null,
   "metadata": {},
   "outputs": [],
   "source": [
    "plot_resolution_visualization(random_image)"
   ]
  },
  {
   "cell_type": "markdown",
   "metadata": {},
   "source": [
    "### Detected Elements"
   ]
  },
  {
   "cell_type": "code",
   "execution_count": null,
   "metadata": {},
   "outputs": [],
   "source": [
    "def plot_detected_elements_overall(df):\n",
    "    \"\"\"\n",
    "    Plot the distribution of detected elements across the entire dataset.\n",
    "    \n",
    "    Parameters:\n",
    "    df (pd.DataFrame): DataFrame containing detected elements statistics for each image.\n",
    "    \n",
    "    Returns:\n",
    "    None: Displays the detected elements distribution plot for the dataset.\n",
    "    \"\"\"\n",
    "    plt.figure(figsize=(10, 6))\n",
    "    sns.histplot(df['Detected Elements'], kde=False, bins=20, color='teal')\n",
    "    plt.title(\"Distribution of Detected Elements Across Dataset\")\n",
    "    plt.xlabel(\"Number of Detected Elements\")\n",
    "    plt.ylabel(\"Frequency\")\n",
    "    plt.grid(True)\n",
    "    plt.show()"
   ]
  },
  {
   "cell_type": "code",
   "execution_count": null,
   "metadata": {},
   "outputs": [],
   "source": [
    "def plot_detected_elements_single(image):\n",
    "    \"\"\"\n",
    "    Display the number of detected elements for a single image.\n",
    "    \n",
    "    Parameters:\n",
    "    image (numpy array): Grayscale image to analyze detected elements.\n",
    "    \n",
    "    Returns:\n",
    "    None: Prints the number of detected elements in the image.\n",
    "    \"\"\"\n",
    "    # Calculate the number of detected elements using the provided function\n",
    "    element_count = calculate_elements_detection(image)\n",
    "    print(f\"Number of Detected Elements in the Image: {element_count}\")"
   ]
  },
  {
   "cell_type": "code",
   "execution_count": null,
   "metadata": {},
   "outputs": [],
   "source": [
    "def plot_detected_elements_visualization(image):\n",
    "    \"\"\"\n",
    "    Visualize detected elements by drawing bounding boxes around each detected element area in a grayscale image.\n",
    "    \n",
    "    Parameters:\n",
    "    image (numpy array): Grayscale image to visualize detected elements.\n",
    "    \n",
    "    Returns:\n",
    "    None: Displays the image with bounding boxes around detected elements.\n",
    "    \"\"\"\n",
    "    # Detect elements and obtain contours\n",
    "    _, binary = cv2.threshold(image, 150, 255, cv2.THRESH_BINARY_INV)\n",
    "    contours, _ = cv2.findContours(binary, cv2.RETR_EXTERNAL, cv2.CHAIN_APPROX_SIMPLE)\n",
    "    \n",
    "    # Plot image with bounding boxes around detected elements\n",
    "    plt.figure(figsize=(12, 12))\n",
    "    plt.imshow(image, cmap='gray')\n",
    "    for contour in contours:\n",
    "        x, y, w, h = cv2.boundingRect(contour)\n",
    "        plt.gca().add_patch(plt.Rectangle((x, y), w, h, linewidth=1, edgecolor='green', facecolor='none'))\n",
    "    plt.title(\"Detected Elements Visualization in Image\")\n",
    "    plt.axis('off')\n",
    "    plt.show()"
   ]
  },
  {
   "cell_type": "code",
   "execution_count": null,
   "metadata": {},
   "outputs": [],
   "source": [
    "plot_detected_elements_overall(df_stats)"
   ]
  },
  {
   "cell_type": "code",
   "execution_count": null,
   "metadata": {},
   "outputs": [],
   "source": [
    "plot_detected_elements_single(random_image)"
   ]
  },
  {
   "cell_type": "code",
   "execution_count": null,
   "metadata": {},
   "outputs": [],
   "source": [
    "plot_detected_elements_visualization(random_image)"
   ]
  },
  {
   "cell_type": "markdown",
   "metadata": {},
   "source": [
    "### Texture"
   ]
  },
  {
   "cell_type": "code",
   "execution_count": null,
   "metadata": {},
   "outputs": [],
   "source": [
    "def plot_texture_overall(df):\n",
    "    \"\"\"\n",
    "    Plot the distribution of texture across the entire dataset.\n",
    "    \n",
    "    Parameters:\n",
    "    df (pd.DataFrame): DataFrame containing texture statistics for each image.\n",
    "    \n",
    "    Returns:\n",
    "    None: Displays the texture distribution plot for the dataset.\n",
    "    \"\"\"\n",
    "    plt.figure(figsize=(10, 6))\n",
    "    sns.histplot(df['Texture'], kde=True, bins=30, color='orange')\n",
    "    plt.title(\"Distribution of Texture Across Dataset\")\n",
    "    plt.xlabel(\"Texture (Pixel Intensity Variability)\")\n",
    "    plt.ylabel(\"Frequency\")\n",
    "    plt.grid(True)\n",
    "    plt.show()"
   ]
  },
  {
   "cell_type": "code",
   "execution_count": null,
   "metadata": {},
   "outputs": [],
   "source": [
    "def plot_texture_single(image):\n",
    "    \"\"\"\n",
    "    Display the texture value for a single image.\n",
    "    \n",
    "    Parameters:\n",
    "    image (numpy array): Grayscale image to analyze texture.\n",
    "    \n",
    "    Returns:\n",
    "    None: Prints the texture value of the image.\n",
    "    \"\"\"\n",
    "    # Calculate the texture value using the provided function\n",
    "    texture_value = calculate_texture(image)\n",
    "    print(f\"Texture Value of the Image: {texture_value:.2f}\")"
   ]
  },
  {
   "cell_type": "code",
   "execution_count": null,
   "metadata": {},
   "outputs": [],
   "source": [
    "def plot_texture_map(image):\n",
    "    \"\"\"\n",
    "    Display a texture map for a single image to visualize areas with high texture intensity.\n",
    "    \n",
    "    Parameters:\n",
    "    image (numpy array): Grayscale image to visualize texture intensity.\n",
    "    \n",
    "    Returns:\n",
    "    None: Displays a texture map visualization of the image.\n",
    "    \"\"\"\n",
    "    # Calculate the texture map using the Laplacian filter to enhance texture details\n",
    "    texture_map = cv2.Laplacian(image, cv2.CV_64F)\n",
    "    \n",
    "    # Normalize the texture map to the range 0-255 for visualization\n",
    "    texture_map_normalized = cv2.normalize(np.abs(texture_map), None, 0, 255, cv2.NORM_MINMAX)\n",
    "    \n",
    "    # Plot the texture map\n",
    "    plt.figure(figsize=(6, 6))\n",
    "    plt.imshow(texture_map_normalized, cmap='gray', vmin=0, vmax=255)\n",
    "    plt.colorbar(label=\"Texture Intensity (Normalized 0-255)\")\n",
    "    plt.title(\"Texture Map of Image\")\n",
    "    plt.axis('off')\n",
    "    plt.show()"
   ]
  },
  {
   "cell_type": "code",
   "execution_count": null,
   "metadata": {},
   "outputs": [],
   "source": [
    "plot_texture_overall(df_stats)"
   ]
  },
  {
   "cell_type": "code",
   "execution_count": null,
   "metadata": {},
   "outputs": [],
   "source": [
    "plot_texture_single(random_image)"
   ]
  },
  {
   "cell_type": "code",
   "execution_count": null,
   "metadata": {},
   "outputs": [],
   "source": [
    "plot_texture_map(random_image)"
   ]
  },
  {
   "cell_type": "markdown",
   "metadata": {},
   "source": [
    "### Patterns"
   ]
  },
  {
   "cell_type": "code",
   "execution_count": null,
   "metadata": {},
   "outputs": [],
   "source": [
    "def plot_patterns_overall(df):\n",
    "    \"\"\"\n",
    "    Plot the distribution of patterns detected across the entire dataset.\n",
    "    \n",
    "    Parameters:\n",
    "    df (pd.DataFrame): DataFrame containing patterns detected statistics for each image.\n",
    "    \n",
    "    Returns:\n",
    "    None: Displays the patterns detected distribution plot for the dataset.\n",
    "    \"\"\"\n",
    "    plt.figure(figsize=(10, 6))\n",
    "    sns.histplot(df['Patterns'], kde=False, bins=20, color='darkblue')\n",
    "    plt.title(\"Distribution of Patterns Detected Across Dataset\")\n",
    "    plt.xlabel(\"Number of Patterns Detected\")\n",
    "    plt.ylabel(\"Frequency\")\n",
    "    plt.grid(True)\n",
    "    plt.show()"
   ]
  },
  {
   "cell_type": "code",
   "execution_count": null,
   "metadata": {},
   "outputs": [],
   "source": [
    "def plot_patterns_single(image):\n",
    "    \"\"\"\n",
    "    Display the number of patterns detected for a single image.\n",
    "    \n",
    "    Parameters:\n",
    "    image (numpy array): Grayscale image to analyze patterns.\n",
    "    \n",
    "    Returns:\n",
    "    None: Prints the number of patterns detected in the image.\n",
    "    \"\"\"\n",
    "    # Calculate the number of patterns detected using the provided function\n",
    "    pattern_count = calculate_patterns(image)\n",
    "    print(f\"Number of Patterns Detected in the Image: {pattern_count}\")"
   ]
  },
  {
   "cell_type": "code",
   "execution_count": null,
   "metadata": {},
   "outputs": [],
   "source": [
    "def plot_pattern_map(image):\n",
    "    \"\"\"\n",
    "    Display a pattern map for a single image using edge detection to highlight patterns.\n",
    "    \n",
    "    Parameters:\n",
    "    image (numpy array): Grayscale image to visualize patterns.\n",
    "    \n",
    "    Returns:\n",
    "    None: Displays a pattern map visualization of the image.\n",
    "    \"\"\"\n",
    "    # Apply edge detection (Canny) to detect patterns\n",
    "    pattern_map = cv2.Canny(image, 100, 200)\n",
    "    \n",
    "    # Plot the pattern map\n",
    "    plt.figure(figsize=(6, 6))\n",
    "    plt.imshow(pattern_map, cmap='gray')\n",
    "    plt.colorbar(label=\"Pattern Intensity\")\n",
    "    plt.title(\"Pattern Map of Image\")\n",
    "    plt.axis('off')\n",
    "    plt.show()"
   ]
  },
  {
   "cell_type": "code",
   "execution_count": null,
   "metadata": {},
   "outputs": [],
   "source": [
    "plot_patterns_overall(df_stats)"
   ]
  },
  {
   "cell_type": "code",
   "execution_count": null,
   "metadata": {},
   "outputs": [],
   "source": [
    "plot_patterns_single(random_image)"
   ]
  },
  {
   "cell_type": "code",
   "execution_count": null,
   "metadata": {},
   "outputs": [],
   "source": [
    "plot_pattern_map(random_image)"
   ]
  }
 ],
 "metadata": {
  "kernelspec": {
   "display_name": "alessandroryo",
   "language": "python",
   "name": "alessandroryo"
  },
  "language_info": {
   "codemirror_mode": {
    "name": "ipython",
    "version": 3
   },
   "file_extension": ".py",
   "mimetype": "text/x-python",
   "name": "python",
   "nbconvert_exporter": "python",
   "pygments_lexer": "ipython3",
   "version": "3.11.1"
  }
 },
 "nbformat": 4,
 "nbformat_minor": 2
}
