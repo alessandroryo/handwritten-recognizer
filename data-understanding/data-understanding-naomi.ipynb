{
 "cells": [
  {
   "cell_type": "markdown",
   "metadata": {},
   "source": [
    "Data Understanding Naomi's Version "
   ]
  },
  {
   "cell_type": "code",
   "execution_count": 1,
   "metadata": {},
   "outputs": [],
   "source": [
    "#imports \n",
    "import os\n",
    "import cv2\n",
    "import numpy as np\n",
    "import pandas as pd\n",
    "import matplotlib.pyplot as plt\n",
    "import seaborn as sns"
   ]
  },
  {
   "cell_type": "markdown",
   "metadata": {},
   "source": [
    "Global Variables "
   ]
  },
  {
   "cell_type": "code",
   "execution_count": 2,
   "metadata": {},
   "outputs": [],
   "source": [
    "# Define the path to the folder containing the images to be processed\n",
    "folder_path = '/Users/naominorris/cps/original-photos'  # Update this path to point to your specific folder containing images\n",
    "\n",
    "# Define the path to the folder where the processed images will be saved\n",
    "output_folder = '/Users/naominorris/cps/modified-photos'  # Update this path to the desired output folder "
   ]
  },
  {
   "cell_type": "markdown",
   "metadata": {},
   "source": [
    "Load Images"
   ]
  },
  {
   "cell_type": "code",
   "execution_count": 3,
   "metadata": {},
   "outputs": [],
   "source": [
    "def load_images_from_folder(folder_path, extensions=('.png', '.jpg', '.jpeg', '.JPG')):\n",
    "    \"\"\"\n",
    "    Load all image file paths from a specified folder that match the given file extensions.\n",
    "\n",
    "    Parameters:\n",
    "    folder_path (str): The path to the folder containing the images.\n",
    "    extensions (tuple of str): A tuple of file extensions to filter the images by. \n",
    "                               Default is ('.png', '.jpg', '.jpeg', '.JPG').\n",
    "\n",
    "    Returns:\n",
    "    list: A list of full file paths to images in the folder that match the specified extensions.\n",
    "    \n",
    "    Raises:\n",
    "    FileNotFoundError: If the specified folder does not exist.\n",
    "    \"\"\"\n",
    "    \n",
    "    # Check if the folder exists\n",
    "    if not os.path.exists(folder_path):\n",
    "        raise FileNotFoundError(f\"The specified folder does not exist: {folder_path}\")\n",
    "    \n",
    "    # List comprehension to gather all image paths with the specified extensions\n",
    "    image_paths = [os.path.join(folder_path, f) for f in os.listdir(folder_path) if f.endswith(extensions)]\n",
    "    \n",
    "    return image_paths"
   ]
  },
  {
   "cell_type": "code",
   "execution_count": 4,
   "metadata": {},
   "outputs": [],
   "source": [
    "def analyze_images(folder_path):\n",
    "    image_info = []\n",
    "\n",
    "    for filename in os.listdir(folder_path):\n",
    "        if filename.lower().endswith(('.png', '.jpg', '.jpeg', '.tiff', '.JPG')):\n",
    "            file_path = os.path.join(folder_path, filename)\n",
    "            \n",
    "            # Get file format and size\n",
    "            format = filename.split('.')[-1].lower()\n",
    "            file_size = os.path.getsize(file_path) / (1024 * 1024)  # Size in MB\n",
    "            \n",
    "            # Read image\n",
    "            img = cv2.imread(file_path)\n",
    "            height, width = img.shape[:2]\n",
    "            \n",
    "            # Calculate average brightness\n",
    "            gray = cv2.cvtColor(img, cv2.COLOR_BGR2GRAY)\n",
    "            avg_brightness = np.mean(gray)\n",
    "            \n",
    "            # Detect blur\n",
    "            laplacian_var = cv2.Laplacian(gray, cv2.CV_64F).var()\n",
    "            \n",
    "            image_info.append({\n",
    "                'filename': filename,\n",
    "                'format': format,\n",
    "                'size_mb': file_size,\n",
    "                'width': width,\n",
    "                'height': height,\n",
    "                'aspect_ratio': width / height,\n",
    "                'avg_brightness': avg_brightness,\n",
    "                'blur_score': laplacian_var\n",
    "            })\n",
    "    \n",
    "    return pd.DataFrame(image_info)"
   ]
  },
  {
   "cell_type": "code",
   "execution_count": 5,
   "metadata": {},
   "outputs": [],
   "source": [
    "def plot_analysis(df):\n",
    "    # Set style for better-looking plots\n",
    "    sns.set_style(\"whitegrid\")\n",
    "    \n",
    "    # Histogram and Box plot for brightness\n",
    "    fig, (ax1, ax2) = plt.subplots(2, 1, figsize=(12, 10))\n",
    "    \n",
    "    sns.histplot(data=df, x='avg_brightness', kde=True, ax=ax1)\n",
    "    ax1.set_title('Histogram of Average Brightness')\n",
    "    ax1.set_xlabel('Brightness')\n",
    "    \n",
    "    sns.boxplot(y='avg_brightness', data=df, ax=ax2)\n",
    "    ax2.set_title('Box Plot of Average Brightness')\n",
    "    ax2.set_ylabel('Brightness')\n",
    "    \n",
    "    plt.tight_layout()\n",
    "    plt.show()\n",
    "    \n",
    "    # Histogram and Box plot for blur score\n",
    "    fig, (ax1, ax2) = plt.subplots(2, 1, figsize=(12, 10))\n",
    "    \n",
    "    sns.histplot(data=df, x='blur_score', kde=True, ax=ax1)\n",
    "    ax1.set_title('Histogram of Blur Score')\n",
    "    ax1.set_xlabel('Blur Score')\n",
    "    \n",
    "    sns.boxplot(y='blur_score', data=df, ax=ax2)\n",
    "    ax2.set_title('Box Plot of Blur Score')\n",
    "    ax2.set_ylabel('Blur Score')\n",
    "    \n",
    "    plt.tight_layout()\n",
    "    plt.show()"
   ]
  },
  {
   "cell_type": "code",
   "execution_count": 6,
   "metadata": {},
   "outputs": [],
   "source": [
    "# Usage\n",
    "folder_path = '/Users/naominorris/cps/original-photos'\n",
    "df_images = analyze_images(folder_path)"
   ]
  },
  {
   "cell_type": "code",
   "execution_count": null,
   "metadata": {},
   "outputs": [],
   "source": [
    "# Display the first few rows of the DataFrame\n",
    "df_images.head()"
   ]
  },
  {
   "cell_type": "code",
   "execution_count": null,
   "metadata": {},
   "outputs": [],
   "source": [
    "unique_aspect = df_images['aspect_ratio'].value_counts()\n",
    "unique_aspect"
   ]
  },
  {
   "cell_type": "code",
   "execution_count": null,
   "metadata": {},
   "outputs": [],
   "source": [
    "# Step 1: Find the majority value (the mode) in the 'Name' column\n",
    "majority_value = df_images['aspect_ratio'].mode()[0]  # Get the most frequent (majority) value\n",
    "\n",
    "# Step 2: Filter the DataFrame for rows where the 'Name' column is NOT the majority value\n",
    "filtered_df = df_images[df_images['aspect_ratio'] != majority_value]\n",
    "\n",
    "# Display the filtered DataFrame\n",
    "filtered_df"
   ]
  },
  {
   "cell_type": "code",
   "execution_count": null,
   "metadata": {},
   "outputs": [],
   "source": [
    "# Plot analysis\n",
    "plot_analysis(df_images)"
   ]
  },
  {
   "cell_type": "code",
   "execution_count": null,
   "metadata": {},
   "outputs": [],
   "source": [
    "data_dir = '/Users/naominorris/cps/original-photos'\n",
    "for dirpath, dirnames, filenames in os.walk(data_dir):\n",
    "    print(f'Found {len(filenames)} images in {dirpath}')"
   ]
  }
 ],
 "metadata": {
  "kernelspec": {
   "display_name": "Python 3 (ipykernel)",
   "language": "python",
   "name": "python3"
  },
  "language_info": {
   "codemirror_mode": {
    "name": "ipython",
    "version": 3
   },
   "file_extension": ".py",
   "mimetype": "text/x-python",
   "name": "python",
   "nbconvert_exporter": "python",
   "pygments_lexer": "ipython3",
   "version": "3.9.19"
  }
 },
 "nbformat": 4,
 "nbformat_minor": 4
}
